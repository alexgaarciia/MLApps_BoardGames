{
  "cells": [
    {
      "cell_type": "markdown",
      "metadata": {
        "id": "id6FcZbQlYZ8"
      },
      "source": [
        "# Final Project Data Preparation"
      ]
    },
    {
      "cell_type": "markdown",
      "metadata": {
        "id": "b3NYTiYRxi6C"
      },
      "source": [
        "## Imports"
      ]
    },
    {
      "cell_type": "code",
      "execution_count": null,
      "metadata": {
        "id": "Sc7IN4eumKFq"
      },
      "outputs": [],
      "source": [
        "import csv\n",
        "import time\n",
        "import requests\n",
        "import pandas as pd\n",
        "import xml.etree.ElementTree as ET"
      ]
    },
    {
      "cell_type": "markdown",
      "metadata": {
        "id": "Q-foWaLiwJST"
      },
      "source": [
        "## Scraping [BoardGameGeek](https://boardgamegeek.com/) Data"
      ]
    },
    {
      "cell_type": "markdown",
      "metadata": {
        "id": "wCx9A0jYw4OD"
      },
      "source": [
        "For this project, we selected BoardGameGeek's API as our main data source. We want to collect structured data about board games from the [BoardGameGeek XML API](https://boardgamegeek.com/wiki/page/BGG_XML_API2). This includes information like name, description, year of publication, average rating, and complexity.\n",
        "\n",
        "We use the `/thing` endpoint with the `stats=1` parameter to include extra statistics like ratings and weight (complexity)."
      ]
    },
    {
      "cell_type": "code",
      "execution_count": null,
      "metadata": {
        "id": "JF2N58iXNPFy"
      },
      "outputs": [],
      "source": [
        "def get_game_data(game_id):\n",
        "    url = f\"https://boardgamegeek.com/xmlapi2/thing?id={game_id}&stats=1\"\n",
        "    response = requests.get(url)\n",
        "    root = ET.fromstring(response.content)\n",
        "\n",
        "    name = root.find(\".//name\").attrib[\"value\"]\n",
        "    description = root.find(\".//description\").text\n",
        "    year = root.find(\".//yearpublished\").attrib[\"value\"]\n",
        "    rating = root.find(\".//average\").attrib[\"value\"]\n",
        "    complexity = root.find(\".//averageweight\").attrib[\"value\"]\n",
        "\n",
        "    return {\n",
        "        \"id\": game_id,\n",
        "        \"name\": name,\n",
        "        \"description\": description,\n",
        "        \"year\": int(year),\n",
        "        \"rating\": float(rating),\n",
        "        \"complexity\": float(complexity),\n",
        "    }"
      ]
    },
    {
      "cell_type": "code",
      "execution_count": null,
      "metadata": {
        "colab": {
          "base_uri": "https://localhost:8080/"
        },
        "id": "5MwYMsTHwRlU",
        "outputId": "3039831c-db74-47a1-8d9b-5e27f72632d2"
      },
      "outputs": [],
      "source": [
        "# Example usage\n",
        "game = get_game_data(174430)\n",
        "print(game)"
      ]
    },
    {
      "cell_type": "markdown",
      "metadata": {
        "id": "iJ3Mgb22ojUu"
      },
      "source": [
        "Note: To explore all available attributes for a specific game, open this URL (replace the ID to see other games): https://boardgamegeek.com/xmlapi2/thing?id=174430&stats=1"
      ]
    },
    {
      "cell_type": "markdown",
      "metadata": {
        "id": "nM-9p21h1MIo"
      },
      "source": [
        "### Creating a CSV with Multiple Games"
      ]
    },
    {
      "cell_type": "markdown",
      "metadata": {
        "id": "VZ6jqf7jo6CW"
      },
      "source": [
        "We'll extend the previous function to handle multiple games and save them in a CSV file. This will allow us to analyze or process the dataset later."
      ]
    },
    {
      "cell_type": "code",
      "execution_count": null,
      "metadata": {
        "id": "UnYJtVxhM6RI"
      },
      "outputs": [],
      "source": [
        "def get_game_data(game_id):\n",
        "    url = f\"https://boardgamegeek.com/xmlapi2/thing?id={game_id}&stats=1\"\n",
        "    response = requests.get(url)\n",
        "\n",
        "    if response.status_code != 200:\n",
        "        print(f\"Failed to fetch ID {game_id}\")\n",
        "        return None\n",
        "\n",
        "    root = ET.fromstring(response.content)\n",
        "\n",
        "    try:\n",
        "        name = root.find(\".//name\").attrib[\"value\"]\n",
        "        description = root.find(\".//description\").text.strip()\n",
        "        year = root.find(\".//yearpublished\").attrib[\"value\"]\n",
        "        rating = root.find(\".//average\").attrib[\"value\"]\n",
        "        complexity = root.find(\".//averageweight\").attrib[\"value\"]\n",
        "        minplayers = root.find(\".//minplayers\").attrib[\"value\"]\n",
        "        maxplayers = root.find(\".//maxplayers\").attrib[\"value\"]\n",
        "        playingtime = root.find(\".//playingtime\").attrib[\"value\"]\n",
        "        minage = root.find(\".//minage\").attrib[\"value\"]\n",
        "\n",
        "        # Extract categories\n",
        "        categories = [link.attrib[\"value\"] for link in root.findall(\".//link[@type='boardgamecategory']\")]\n",
        "        categories_str = \", \".join(categories)\n",
        "\n",
        "        return {\n",
        "            \"id\": game_id,\n",
        "            \"name\": name,\n",
        "            \"description\": description,\n",
        "            \"year\": int(year),\n",
        "            \"rating\": float(rating),\n",
        "            \"complexity\": float(complexity),\n",
        "            \"minplayers\": int(minplayers),\n",
        "            \"maxplayers\": int(maxplayers),\n",
        "            \"playingtime\": int(playingtime),\n",
        "            \"minage\": int(minage),\n",
        "            \"categories\": categories_str\n",
        "        }\n",
        "\n",
        "    except AttributeError:\n",
        "        print(f\"Skipping game {game_id} (missing data)\")\n",
        "        return None"
      ]
    },
    {
      "cell_type": "code",
      "execution_count": null,
      "metadata": {
        "id": "nt24nGbn1W0w"
      },
      "outputs": [],
      "source": [
        "def get_top_game_ids():\n",
        "    # This helper function gets the current \"hot\" board games (popular games based on BGG activity)\n",
        "    url = \"https://boardgamegeek.com/xmlapi2/hot?boardgame\"\n",
        "    response = requests.get(url)\n",
        "    root = ET.fromstring(response.content)\n",
        "\n",
        "    game_ids = [item.attrib[\"id\"] for item in root.findall(\".//item\")]\n",
        "    return game_ids"
      ]
    },
    {
      "cell_type": "code",
      "execution_count": null,
      "metadata": {
        "id": "1xqu93um2Ga-"
      },
      "outputs": [],
      "source": [
        "def save_games_to_csv(filename, game_ids):\n",
        "    with open(filename, \"w\", newline=\"\", encoding=\"utf-8\") as file:\n",
        "        fieldnames = [\"id\", \"name\", \"description\", \"year\", \"rating\", \"complexity\",\n",
        "                      \"minplayers\", \"maxplayers\", \"playingtime\", \"minage\", \"categories\"\n",
        "                      ]\n",
        "\n",
        "        writer = csv.DictWriter(file, fieldnames=fieldnames, delimiter=\";\")\n",
        "        writer.writeheader()\n",
        "\n",
        "        for idx, game_id in enumerate(game_ids, 1):\n",
        "            print(f\"Fetching {idx}/{len(game_ids)}: Game ID {game_id}\")\n",
        "            game_data = get_game_data(game_id)\n",
        "\n",
        "            if game_data:\n",
        "                writer.writerow(game_data)\n",
        "\n",
        "            time.sleep(1)"
      ]
    },
    {
      "cell_type": "code",
      "execution_count": null,
      "metadata": {
        "id": "Gc5L5m8O1YVo"
      },
      "outputs": [],
      "source": [
        "def save_top_games_to_csv(filename, num_games=100):\n",
        "    game_ids = get_top_game_ids()[:num_games]  # We retrieve the top games (MAYBE CAMBIAR ESTO)\n",
        "\n",
        "    with open(filename, \"w\", newline=\"\", encoding=\"utf-8\") as file:\n",
        "        writer = csv.DictWriter(file, fieldnames=[\"id\", \"name\", \"description\", \"year\", \"rating\", \"complexity\"], delimiter=\";\")\n",
        "        writer.writeheader()\n",
        "\n",
        "        for idx, game_id in enumerate(game_ids, 1):\n",
        "            print(f\"Fetching {idx}/{num_games}: Game ID {game_id}\")\n",
        "            game_data = get_game_data(game_id)\n",
        "\n",
        "            if game_data:\n",
        "                writer.writerow(game_data)\n",
        "\n",
        "            time.sleep(1)  # Avoid hitting API limits"
      ]
    },
    {
      "cell_type": "code",
      "execution_count": null,
      "metadata": {
        "colab": {
          "base_uri": "https://localhost:8080/"
        },
        "id": "5abVc0ra2Z9B",
        "outputId": "72f87cba-7c18-4ee1-ffbd-fdd284ef390d"
      },
      "outputs": [],
      "source": [
        "# Save games from ID 1 to 3000\n",
        "game_ids = list(range(3000, 6001))\n",
        "save_games_to_csv(filename=\"boardgames.csv\", game_ids=game_ids)"
      ]
    },
    {
      "cell_type": "code",
      "execution_count": null,
      "metadata": {
        "id": "DNiIg8_x1aSn"
      },
      "outputs": [],
      "source": [
        "# Save top 100 games (we only get 50)\n",
        "# save_top_games_to_csv(\"top_boardgames.csv\", num_games=100)"
      ]
    },
    {
      "cell_type": "code",
      "execution_count": null,
      "metadata": {
        "colab": {
          "base_uri": "https://localhost:8080/",
          "height": 423
        },
        "id": "-UW82vwxM9eQ",
        "outputId": "20d9e69a-9c05-4093-8200-914a98fdd4c9"
      },
      "outputs": [],
      "source": [
        "df = pd.read_csv(\"boardgames.csv\", sep=\";\")\n",
        "df"
      ]
    }
  ],
  "metadata": {
    "colab": {
      "provenance": []
    },
    "kernelspec": {
      "display_name": "Python 3",
      "name": "python3"
    },
    "language_info": {
      "codemirror_mode": {
        "name": "ipython",
        "version": 3
      },
      "file_extension": ".py",
      "mimetype": "text/x-python",
      "name": "python",
      "nbconvert_exporter": "python",
      "pygments_lexer": "ipython3",
      "version": "3.11.9"
    }
  },
  "nbformat": 4,
  "nbformat_minor": 0
}
