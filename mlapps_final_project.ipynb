{
  "cells": [
    {
      "cell_type": "markdown",
      "metadata": {
        "id": "jmJgQeOe6ttM"
      },
      "source": [
        "## Imports"
      ]
    },
    {
      "cell_type": "code",
      "execution_count": null,
      "metadata": {
        "colab": {
          "base_uri": "https://localhost:8080/"
        },
        "collapsed": true,
        "id": "BxOzr9c2Db7D",
        "outputId": "f33fd50f-c09b-4830-99dc-c91cbf37ecf8"
      },
      "outputs": [],
      "source": [
        "!pip install gensim"
      ]
    },
    {
      "cell_type": "code",
      "execution_count": null,
      "metadata": {
        "colab": {
          "base_uri": "https://localhost:8080/"
        },
        "collapsed": true,
        "id": "Tvi1ipPOqcme",
        "outputId": "f9fdc467-dfb2-4e1c-9811-4f800fa220c2"
      },
      "outputs": [],
      "source": [
        "!pip install pyLDAvis"
      ]
    },
    {
      "cell_type": "code",
      "execution_count": null,
      "metadata": {
        "colab": {
          "base_uri": "https://localhost:8080/"
        },
        "collapsed": true,
        "id": "cYwNLcSDv9Jj",
        "outputId": "67f3883b-666b-4a08-966b-695ed805a6be"
      },
      "outputs": [],
      "source": [
        "!pip install datasets"
      ]
    },
    {
      "cell_type": "code",
      "execution_count": null,
      "metadata": {
        "colab": {
          "base_uri": "https://localhost:8080/"
        },
        "id": "K7wGg-AOcG4Q",
        "outputId": "3618c527-43a2-447e-90c5-f37e784587a2"
      },
      "outputs": [],
      "source": [
        "# Para el error raro de gensim\n",
        "!pip uninstall -y scipy\n",
        "!pip install --no-cache-dir scipy"
      ]
    },
    {
      "cell_type": "code",
      "execution_count": null,
      "metadata": {
        "colab": {
          "base_uri": "https://localhost:8080/",
          "height": 405
        },
        "id": "Ds_VrtgK6vnU",
        "outputId": "bbc37b5f-0214-488a-8b58-4154485ccfed"
      },
      "outputs": [],
      "source": [
        "import os\n",
        "import re\n",
        "import spacy\n",
        "import html\n",
        "import numpy as np\n",
        "import pandas as pd\n",
        "import matplotlib.pyplot as plt\n",
        "import seaborn as sns\n",
        "import torch\n",
        "import random\n",
        "import pyLDAvis\n",
        "import pyLDAvis.gensim\n",
        "import gensim.downloader\n",
        "\n",
        "from math import sqrt\n",
        "from datasets import Dataset\n",
        "from wordcloud import WordCloud\n",
        "from transformers import pipeline\n",
        "from tqdm import tqdm\n",
        "from sklearn.tree import DecisionTreeRegressor, plot_tree\n",
        "from sklearn.model_selection import train_test_split\n",
        "from sklearn.metrics import mean_squared_error, r2_score\n",
        "from sklearn.preprocessing import OneHotEncoder, StandardScaler\n",
        "from sklearn.ensemble import RandomForestRegressor\n",
        "from torch.utils.data import Dataset, DataLoader\n",
        "from sklearn.metrics.pairwise import cosine_similarity\n",
        "from sklearn.decomposition import PCA\n",
        "from sklearn.cluster import KMeans\n",
        "from sklearn.manifold import TSNE\n",
        "from sklearn.preprocessing import MinMaxScaler\n",
        "from transformers import BertTokenizer, BertModel\n",
        "from datasets import Dataset\n",
        "from transformers import pipeline\n",
        "from gensim import corpora, models\n",
        "from gensim.models import KeyedVectors, LdaModel\n",
        "from gensim.models.doc2vec import Doc2Vec, TaggedDocument\n",
        "from gensim.models.coherencemodel import CoherenceModel\n",
        "from gensim.corpora import Dictionary\n",
        "from sklearn.cluster import KMeans\n",
        "from gensim.models import Word2Vec\n",
        "from nltk.tokenize import word_tokenize"
      ]
    },
    {
      "cell_type": "markdown",
      "metadata": {
        "id": "ZFtjcT6F6bw9"
      },
      "source": [
        "## Data loading"
      ]
    },
    {
      "cell_type": "code",
      "execution_count": null,
      "metadata": {
        "colab": {
          "base_uri": "https://localhost:8080/",
          "height": 351
        },
        "id": "FrXXc1Ps6Dp9",
        "outputId": "e4b8190c-2c60-4994-a6c5-369d8b9ce98b"
      },
      "outputs": [],
      "source": [
        "filename = \"boardgames_3000.csv\"\n",
        "games = pd.read_csv(filename, sep=\";\")\n",
        "games.head()"
      ]
    },
    {
      "cell_type": "markdown",
      "metadata": {
        "id": "FIIqi0lX6pKc"
      },
      "source": [
        "## Task 1: Text Preprocessing and vectorization"
      ]
    },
    {
      "cell_type": "markdown",
      "metadata": {
        "id": "9fki7x02wpRj"
      },
      "source": [
        "### Text Preprocessing"
      ]
    },
    {
      "cell_type": "code",
      "execution_count": null,
      "metadata": {
        "id": "vP81pLGCmmaY"
      },
      "outputs": [],
      "source": [
        "# Load English spaCy model\n",
        "nlp = spacy.load(\"en_core_web_sm\")\n",
        "\n",
        "custom_stopwords = {\n",
        "    \"game\", \"s\", \"quot\", \"play\", \"player\", \"move\", \"turn\", \"win\", \"lose\", \"score\", \"board\",\n",
        "    \"counter\", \"pawns\", \"roll\", \"flip\", \"stack\",\n",
        "    \"rule\", \"round\", \"phase\", \"turns\", \"player-based\",\n",
        "    \"moveable\", \"drafting\", \"placement\", \"point\", \"setup\", \"victory\", \"gameplay\",\n",
        "    \"scenario\", \"objectives\", \"teams\", \"player-controlled\", \"control\", \"goal\", \"objective\",\n",
        "    \"interaction\", \"turn-based\", \"multiplayer\", \"theme\", \"mechanic\", \"design\", \"playstyle\", \"elements\", \"feature\", \"mode\",\n",
        "    \"type\", \"system\", \"level\", \"expansion\", \"variant\", \"edition\", \"version\", \"add-on\", \"power-up\",\n",
        "    \"ability\", \"progression\", \"ruleset\", \"collection\",\n",
        "    \"choice\", \"replayability\", \"scoring\", \"movement\"\n",
        "}\n",
        "\n",
        "def clean_text(text):\n",
        "    if pd.isna(text):\n",
        "        return \"\"\n",
        "\n",
        "    # Lowercase\n",
        "    text = text.lower()\n",
        "\n",
        "    # Remove HTML tags\n",
        "    text = re.sub(r\"<.*?>\", \" \", text)\n",
        "\n",
        "    # Remove special characters and numbers\n",
        "    text = re.sub(r\"[^a-z\\s]\", \" \", text)\n",
        "\n",
        "    # Remove extra whitespace\n",
        "    text = re.sub(r\"\\s+\", \" \", text).strip()\n",
        "\n",
        "    # Apply spaCy NLP processing\n",
        "    doc = nlp(text)\n",
        "\n",
        "    # Remove stopwords, lemmatize, exclude punctuations, and custom words\n",
        "    tokens = [\n",
        "        token.lemma_ for token in doc\n",
        "        if not token.is_stop and token.is_alpha and token.lemma_ not in custom_stopwords\n",
        "    ]\n",
        "\n",
        "    return \" \".join(tokens)"
      ]
    },
    {
      "cell_type": "code",
      "execution_count": null,
      "metadata": {
        "id": "5xj4GKev4iHF"
      },
      "outputs": [],
      "source": [
        "# Apply the cleaning function to all descriptions\n",
        "games[\"clean_description\"] = games[\"description\"].apply(clean_text)"
      ]
    },
    {
      "cell_type": "code",
      "execution_count": null,
      "metadata": {
        "colab": {
          "base_uri": "https://localhost:8080/"
        },
        "id": "2nn0D-F31xOc",
        "outputId": "b74923fc-8e2b-47fc-c443-469dbd2a611f"
      },
      "outputs": [],
      "source": [
        "# Example: original and cleaned text for first entry\n",
        "print(\"Original:\\n\", games[\"description\"][0])\n",
        "print(\"Cleaned:\\n\", games[\"clean_description\"][0])"
      ]
    },
    {
      "cell_type": "markdown",
      "metadata": {
        "id": "-c-S79BS406W"
      },
      "source": [
        "#### Save clean dataset (if desired)"
      ]
    },
    {
      "cell_type": "code",
      "execution_count": null,
      "metadata": {
        "id": "nxUr1A5843u1"
      },
      "outputs": [],
      "source": [
        "games.to_csv(\"boardgames_3000_clean.csv\", index=False, encoding=\"utf-8\", sep=\";\")"
      ]
    },
    {
      "cell_type": "markdown",
      "metadata": {
        "id": "CNf3pQ2_-Kvr"
      },
      "source": [
        "### Vectorization"
      ]
    },
    {
      "cell_type": "markdown",
      "metadata": {
        "id": "-gOle5pZBuAo"
      },
      "source": [
        "#### BoW and TF-IDF"
      ]
    },
    {
      "cell_type": "code",
      "execution_count": null,
      "metadata": {
        "id": "r3DYwD1b6DRF"
      },
      "outputs": [],
      "source": [
        "# For this task, we will mainly be working with the column \"clean_description\".\n",
        "# We will tokenize this part fist\n",
        "tokenized_descr = [clean_description.split() for clean_description in games[\"clean_description\"]]"
      ]
    },
    {
      "cell_type": "code",
      "execution_count": null,
      "metadata": {
        "id": "wSPQpzDv8ug7"
      },
      "outputs": [],
      "source": [
        "# Then we will create a dictionary and obtain both the BoW corpus and the TF-IDF corpus\n",
        "# BoW corpus\n",
        "dictionary = corpora.Dictionary(tokenized_descr)\n",
        "bow_corpus = [dictionary.doc2bow(doc) for doc in tokenized_descr]\n",
        "\n",
        "# TF-IDF corpus\n",
        "tfidf = models.TfidfModel(bow_corpus)\n",
        "tfidf_corpus = tfidf[bow_corpus]"
      ]
    },
    {
      "cell_type": "markdown",
      "metadata": {
        "id": "DqapaTajBDU5"
      },
      "source": [
        "Now we would like to obtain some insights from our data using the TF-IDF corpus. However, we cannot use it as it is. `tfidf_corpus`is a sparse corpus matrix, not a dense numpy matrix.\n",
        "\n",
        "Gensim is optimized for streaming large corpora and if we wanted to do some visualizations, we would need to convert it to dense form."
      ]
    },
    {
      "cell_type": "code",
      "execution_count": null,
      "metadata": {
        "id": "xEAc_TCCAp0P"
      },
      "outputs": [],
      "source": [
        "num_docs = len(tfidf_corpus)\n",
        "num_terms = len(dictionary)\n",
        "\n",
        "# Create empty matrix\n",
        "X_tfidf_gensim = np.zeros((num_docs, num_terms))\n",
        "\n",
        "# Fill it with TF-IDF scores\n",
        "for doc_idx, doc in enumerate(tfidf_corpus):\n",
        "    for term_id, tfidf_score in doc:\n",
        "        X_tfidf_gensim[doc_idx, term_id] = tfidf_score"
      ]
    },
    {
      "cell_type": "code",
      "execution_count": null,
      "metadata": {
        "colab": {
          "base_uri": "https://localhost:8080/"
        },
        "id": "bOEEx5r8AunZ",
        "outputId": "e511a7f5-f1a6-4ad3-c066-a003d92a2ca0"
      },
      "outputs": [],
      "source": [
        "# Compute average TF-IDF per term\n",
        "avg_tfidf_scores = X_tfidf_gensim.mean(axis=0)\n",
        "\n",
        "# Top-N terms\n",
        "top_n = 25\n",
        "top_term_indices = avg_tfidf_scores.argsort()[::-1][:top_n]\n",
        "\n",
        "# Get corresponding terms\n",
        "terms = [dictionary[i] for i in top_term_indices]\n",
        "\n",
        "# Plot\n",
        "plt.figure(figsize=(12, 6))\n",
        "plt.bar(range(top_n), avg_tfidf_scores[top_term_indices], tick_label=terms)\n",
        "plt.xlabel('Term')\n",
        "plt.ylabel('Average TF-IDF Score')\n",
        "plt.title('Top Terms by TF-IDF Score')\n",
        "plt.xticks(rotation=45, ha='right')\n",
        "plt.tight_layout()\n",
        "plt.show()"
      ]
    },
    {
      "cell_type": "code",
      "execution_count": null,
      "metadata": {
        "colab": {
          "base_uri": "https://localhost:8080/"
        },
        "id": "qQzHzx-RAv6B",
        "outputId": "7390dc1c-c6c1-464f-c20a-7679324ab370"
      },
      "outputs": [],
      "source": [
        "# Total TF-IDF score per term across all documents\n",
        "tfidf_term_scores = X_tfidf_gensim.sum(axis=0)\n",
        "\n",
        "# Map term to score\n",
        "word_freq = {dictionary[i]: tfidf_term_scores[i] for i in range(num_terms)}\n",
        "\n",
        "# Generate word cloud\n",
        "wordcloud = WordCloud(\n",
        "    width=800,\n",
        "    height=400,\n",
        "    background_color='white',\n",
        "    colormap='viridis',\n",
        "    max_words=200\n",
        ").generate_from_frequencies(word_freq)\n",
        "\n",
        "# Display\n",
        "plt.figure(figsize=(12, 6))\n",
        "plt.imshow(wordcloud, interpolation='bilinear')\n",
        "plt.axis('off')\n",
        "plt.title('TF-IDF Word Cloud')\n",
        "plt.show()"
      ]
    },
    {
      "cell_type": "code",
      "execution_count": null,
      "metadata": {
        "colab": {
          "base_uri": "https://localhost:8080/"
        },
        "id": "-rp9Q9XPThPv",
        "outputId": "4427e41b-0d6f-4521-e27f-8f115998c649"
      },
      "outputs": [],
      "source": [
        "from sklearn.manifold import TSNE\n",
        "from sklearn.decomposition import PCA\n",
        "\n",
        "# Dimensionality reduction\n",
        "X_reduced = PCA(n_components=50).fit_transform(X_tfidf_gensim)\n",
        "X_embedded = TSNE(n_components=2, perplexity=30, random_state=42).fit_transform(X_reduced)\n",
        "\n",
        "# Plot\n",
        "plt.figure(figsize=(10, 8))\n",
        "plt.scatter(X_embedded[:, 0], X_embedded[:, 1], alpha=0.6)\n",
        "plt.title(\"t-SNE of Game Descriptions (TF-IDF)\")\n",
        "plt.xlabel(\"Dim 1\")\n",
        "plt.ylabel(\"Dim 2\")\n",
        "plt.grid(True)\n",
        "plt.show()"
      ]
    },
    {
      "cell_type": "markdown",
      "metadata": {
        "id": "2j99I9klB94Y"
      },
      "source": [
        "#### GloVe and Doc2Vec"
      ]
    },
    {
      "cell_type": "code",
      "execution_count": null,
      "metadata": {
        "colab": {
          "base_uri": "https://localhost:8080/"
        },
        "id": "55Zb297tB_UB",
        "outputId": "44162cb7-ed66-4357-b9a3-0255bea6ca08"
      },
      "outputs": [],
      "source": [
        "# Load pretrained GloVe from gensim\n",
        "glove_model = gensim.downloader.load(\"glove-wiki-gigaword-100\")\n",
        "\n",
        "def get_glove_avg_vector(doc):\n",
        "    words = doc.split()\n",
        "    vectors = [glove_model[word] for word in words if word in glove_model]\n",
        "    if vectors:\n",
        "        return np.mean(vectors, axis=0)\n",
        "    else:\n",
        "        return np.zeros(glove_model.vector_size)\n",
        "\n",
        "# Apply to clean descriptions\n",
        "X_glove = np.vstack(games[\"clean_description\"].apply(get_glove_avg_vector))"
      ]
    },
    {
      "cell_type": "code",
      "execution_count": null,
      "metadata": {
        "id": "5aywaZXdpQUp"
      },
      "outputs": [],
      "source": [
        "def load_glove_embeddings(filepath=\"glove.6B.100d.txt\"):\n",
        "    embeddings = {}\n",
        "    with open(filepath, \"r\", encoding=\"utf8\") as f:\n",
        "        for line in f:\n",
        "            values = line.split()\n",
        "            word = values[0]\n",
        "            vector = np.asarray(values[1:], dtype='float32')\n",
        "            embeddings[word] = vector\n",
        "    return embeddings\n",
        "\n",
        "def get_glove_vector(text, glove, dim=100):\n",
        "    words = text.split()\n",
        "    vectors = [glove[word] for word in words if word in glove]\n",
        "    return np.mean(vectors, axis=0) if vectors else np.zeros(dim)"
      ]
    },
    {
      "cell_type": "code",
      "execution_count": null,
      "metadata": {
        "id": "xPJHfAsMpflQ"
      },
      "outputs": [],
      "source": [
        "glove = load_glove_embeddings(\"glove.6B.100d.txt\")\n",
        "games[\"glove_vector\"] = games[\"clean_description\"].apply(lambda x: get_glove_vector(x, glove))"
      ]
    },
    {
      "cell_type": "code",
      "execution_count": null,
      "metadata": {
        "colab": {
          "base_uri": "https://localhost:8080/"
        },
        "id": "JcqXPytnD-SL",
        "outputId": "a37d618b-9e75-4345-de59-6022f4e80e96"
      },
      "outputs": [],
      "source": [
        "len(games[\"glove_vector\"][0])"
      ]
    },
    {
      "cell_type": "code",
      "execution_count": null,
      "metadata": {
        "colab": {
          "base_uri": "https://localhost:8080/",
          "height": 624
        },
        "id": "AgwgbOmbcdFg",
        "outputId": "277bcc1a-7403-485e-bf45-25539453e015"
      },
      "outputs": [],
      "source": [
        "# Run PCA without limiting components\n",
        "pca_full = PCA()\n",
        "X_glove_pca_full = pca_full.fit_transform(X_glove)\n",
        "\n",
        "# Explained variance per component\n",
        "explained_variance = pca_full.explained_variance_ratio_\n",
        "cumulative_variance = explained_variance.cumsum()\n",
        "\n",
        "plt.figure(figsize=(10, 6))\n",
        "plt.plot(range(1, len(cumulative_variance) + 1), cumulative_variance, marker='o')\n",
        "plt.xlabel(\"Number of Components\")\n",
        "plt.ylabel(\"Cumulative Explained Variance\")\n",
        "plt.title(\"PCA Explained Variance Curve (GloVe)\")\n",
        "plt.grid(True)\n",
        "plt.axhline(y=0.90, color=\"red\", linestyle=\"--\", label=\"90% Variance\")\n",
        "plt.legend()\n",
        "plt.tight_layout()\n",
        "plt.show()\n",
        "\n",
        "n_components_90 = np.argmax(cumulative_variance >= 0.90) + 1\n",
        "print(f\"Number of components to explain 90% variance: {n_components_90}\")"
      ]
    },
    {
      "cell_type": "code",
      "execution_count": null,
      "metadata": {
        "colab": {
          "base_uri": "https://localhost:8080/",
          "height": 624
        },
        "id": "UyZAFH7Dd5m4",
        "outputId": "55acd342-cc10-47c4-b2cb-8f3aa77c7e59"
      },
      "outputs": [],
      "source": [
        "# Reduce GloVe to 2D with PCA\n",
        "pca = PCA(n_components=2)\n",
        "X_glove_pca = pca.fit_transform(X_glove)\n",
        "\n",
        "# Plot\n",
        "plt.figure(figsize=(10, 6))\n",
        "plt.scatter(X_glove_pca[:, 0], X_glove_pca[:, 1], alpha=0.6)\n",
        "plt.title(\"PCA of GloVe Document Embeddings\")\n",
        "plt.xlabel(\"PC 1\")\n",
        "plt.ylabel(\"PC 2\")\n",
        "plt.grid(True)\n",
        "plt.tight_layout()\n",
        "plt.show()\n",
        "\n",
        "# How much variance PCA retained\n",
        "explained_var = pca.explained_variance_ratio_.sum()\n",
        "print(f\"Explained Variance (first 2 components): {explained_var:.2%}\")"
      ]
    },
    {
      "cell_type": "code",
      "execution_count": null,
      "metadata": {
        "id": "hap7ON6SD9r_"
      },
      "outputs": [],
      "source": [
        "# Prepare data\n",
        "documents = [TaggedDocument(words=text.split(), tags=[str(i)]) for i, text in enumerate(games[\"clean_description\"])]\n",
        "\n",
        "# Train\n",
        "doc2vec_model = Doc2Vec(documents, vector_size=100, window=5, min_count=2, workers=4, epochs=40)\n",
        "\n",
        "# Vectorize\n",
        "X_doc2vec = np.array([doc2vec_model.dv[str(i)] for i in range(len(documents))])"
      ]
    },
    {
      "cell_type": "code",
      "execution_count": null,
      "metadata": {
        "colab": {
          "base_uri": "https://localhost:8080/",
          "height": 662
        },
        "id": "KV63biIIcmqu",
        "outputId": "6876a076-2796-4283-8c2a-60dea93fd880"
      },
      "outputs": [],
      "source": [
        "# Run t-SNE on doc2vec vectors\n",
        "tsne = TSNE(n_components=2, perplexity=30, learning_rate=200, n_iter=1000, random_state=42)\n",
        "X_doc2vec_tsne = tsne.fit_transform(X_doc2vec)\n",
        "\n",
        "# Plot\n",
        "plt.figure(figsize=(10, 6))\n",
        "plt.scatter(X_doc2vec_tsne[:, 0], X_doc2vec_tsne[:, 1], alpha=0.6)\n",
        "plt.title(\"t-SNE of Doc2Vec Document Embeddings\")\n",
        "plt.xlabel(\"Dim 1\")\n",
        "plt.ylabel(\"Dim 2\")\n",
        "plt.grid(True)\n",
        "plt.tight_layout()\n",
        "plt.show()"
      ]
    },
    {
      "cell_type": "markdown",
      "metadata": {
        "id": "GXyTNkehEGZ3"
      },
      "source": [
        "#### LDA"
      ]
    },
    {
      "cell_type": "code",
      "execution_count": null,
      "metadata": {
        "id": "34orJweOE4oW"
      },
      "outputs": [],
      "source": [
        "corpus = games['clean_description'].tolist()"
      ]
    },
    {
      "cell_type": "code",
      "execution_count": null,
      "metadata": {
        "colab": {
          "base_uri": "https://localhost:8080/",
          "height": 472
        },
        "id": "T8B_9XPiE4mn",
        "outputId": "95993520-a9eb-4273-a9ca-46affba853e0"
      },
      "outputs": [],
      "source": [
        "# Try different numbers of topics\n",
        "coherence_scores = []\n",
        "models = []\n",
        "for k in range(5, 41, 5):\n",
        "    model = LdaModel(corpus=bow_corpus, id2word=dictionary, num_topics=k, passes=15, random_state=42)\n",
        "    coherence = CoherenceModel(model=model, texts=tokenized_descr, dictionary=dictionary, coherence='c_v').get_coherence()\n",
        "    coherence_scores.append(coherence)\n",
        "    models.append(model)\n",
        "\n",
        "# Plot coherence vs. topic count\n",
        "plt.plot(range(5, 41, 5), coherence_scores)\n",
        "plt.xlabel(\"Number of Topics\")\n",
        "plt.ylabel(\"Coherence Score (c_v)\")\n",
        "plt.title(\"Coherence vs Number of Topics (Gensim LDA)\")\n",
        "plt.grid(True)\n",
        "plt.show()\n",
        "\n",
        "# Select best model\n",
        "best_k = range(5, 41, 5)[np.argmax(coherence_scores)]\n",
        "best_model = models[np.argmax(coherence_scores)]\n",
        "best_model.save(\"lda_best_model.gensim\")"
      ]
    },
    {
      "cell_type": "code",
      "execution_count": null,
      "metadata": {
        "colab": {
          "base_uri": "https://localhost:8080/"
        },
        "id": "unKsIMS-Du-m",
        "outputId": "375dd227-4bc2-459d-c3ee-823a5ad2cb60"
      },
      "outputs": [],
      "source": [
        "for topic_id, words in best_model.show_topics(num_topics=best_k, num_words=10, formatted=False):\n",
        "    print(f\"Topic {topic_id}: {[word for word, prob in words]}\")"
      ]
    },
    {
      "cell_type": "code",
      "execution_count": null,
      "metadata": {
        "colab": {
          "base_uri": "https://localhost:8080/"
        },
        "id": "1urtmQvgTIdl",
        "outputId": "5b538ab1-c1a2-4026-dcc8-78b0fc9d89ec"
      },
      "outputs": [],
      "source": [
        "beta_matrix = np.array(best_model.get_topics())\n",
        "print(\"Beta shape:\", beta_matrix.shape)"
      ]
    },
    {
      "cell_type": "code",
      "execution_count": null,
      "metadata": {
        "colab": {
          "base_uri": "https://localhost:8080/"
        },
        "id": "jrYVrY14UPH1",
        "outputId": "6d9fd869-d0dd-4bf5-9ff8-c311690c967b"
      },
      "outputs": [],
      "source": [
        "words = [dictionary[i] for i in range(len(dictionary))]\n",
        "\n",
        "# We create a dataframe to read the results better\n",
        "beta_df = pd.DataFrame(beta_matrix, columns=words, index=[f\"Topic {i}\" for i in range(best_k)])\n",
        "\n",
        "# Here we display the top words per topic (beta vectors), with the probabilities.\n",
        "for topic_id in range(best_k):\n",
        "    print(f\"\\nTopic {topic_id}:\")\n",
        "    print(beta_df.iloc[topic_id].sort_values(ascending=False).head(10))"
      ]
    },
    {
      "cell_type": "code",
      "execution_count": null,
      "metadata": {
        "colab": {
          "base_uri": "https://localhost:8080/"
        },
        "id": "oYFXkj9bWdZ2",
        "outputId": "06649f5e-d872-42e2-a317-327595c00eed"
      },
      "outputs": [],
      "source": [
        "best_model.show_topics(num_topics=-1, num_words=10, log=False, formatted=True)\n",
        "\n",
        "# igual usar esto que es más compacto"
      ]
    },
    {
      "cell_type": "code",
      "execution_count": null,
      "metadata": {
        "colab": {
          "base_uri": "https://localhost:8080/"
        },
        "id": "bmAo2LoBTZi8",
        "outputId": "23cdfaa7-7283-4e21-f5c8-7ba86b206760"
      },
      "outputs": [],
      "source": [
        "theta_matrix = []\n",
        "for doc in bow_corpus:\n",
        "    doc_topics = best_model.get_document_topics(doc, minimum_probability=0)\n",
        "    theta_matrix.append([prob for _, prob in doc_topics])\n",
        "\n",
        "theta_matrix = np.array(theta_matrix)\n",
        "print(\"Theta shape:\", theta_matrix.shape)"
      ]
    },
    {
      "cell_type": "code",
      "execution_count": null,
      "metadata": {
        "colab": {
          "base_uri": "https://localhost:8080/"
        },
        "id": "ezo5JqT7VUVO",
        "outputId": "b101526d-e541-4261-a415-6486f614ae24"
      },
      "outputs": [],
      "source": [
        "# Dataframe for the thetas\n",
        "theta_df = pd.DataFrame(theta_matrix, columns=[f\"Topic {i}\" for i in range(best_k)])\n",
        "\n",
        "# We just display the most relevant topic (the one with the highest probability)\n",
        "theta_df[\"Dominant Topic\"] = theta_df.idxmax(axis=1)\n",
        "\n",
        "print(theta_df[[\"Dominant Topic\"]])"
      ]
    },
    {
      "cell_type": "code",
      "execution_count": null,
      "metadata": {
        "colab": {
          "base_uri": "https://localhost:8080/",
          "height": 882
        },
        "id": "R4PwJpcPTeLN",
        "outputId": "132403aa-c41d-4942-f5e0-dc724adf9135"
      },
      "outputs": [],
      "source": [
        "pyLDAvis.enable_notebook()\n",
        "vis = pyLDAvis.gensim.prepare(best_model, bow_corpus, dictionary)\n",
        "pyLDAvis.save_html(vis, \"assets/lda_vis.html\")\n",
        "vis"
      ]
    },
    {
      "cell_type": "markdown",
      "metadata": {
        "id": "RZxnB_uaIaPs"
      },
      "source": [
        "#### LDA with higher coherence values (+0.02)"
      ]
    },
    {
      "cell_type": "code",
      "execution_count": null,
      "metadata": {
        "id": "Nh0gSVXXIgGL"
      },
      "outputs": [],
      "source": [
        "def lemmatize_nouns_adjs(text):\n",
        "    doc = nlp(text)\n",
        "    return [\n",
        "        token.lemma_ for token in doc\n",
        "        if token.pos_ in {\"NOUN\", \"ADJ\"} and not token.is_stop and token.is_alpha\n",
        "    ]\n",
        "\n",
        "tokenized_descr = games[\"description\"].apply(lemmatize_nouns_adjs).tolist()"
      ]
    },
    {
      "cell_type": "code",
      "execution_count": null,
      "metadata": {
        "id": "-92p4SMSIiRn"
      },
      "outputs": [],
      "source": [
        "dictionary = corpora.Dictionary(tokenized_descr)\n",
        "dictionary.filter_extremes(no_below=5, no_above=0.5)\n",
        "bow_corpus = [dictionary.doc2bow(doc) for doc in tokenized_descr]"
      ]
    },
    {
      "cell_type": "code",
      "execution_count": null,
      "metadata": {
        "colab": {
          "base_uri": "https://localhost:8080/",
          "height": 564
        },
        "id": "ACo_bbJHIl8d",
        "outputId": "e601b87d-fe17-4766-ccfe-a405513aa67f"
      },
      "outputs": [],
      "source": [
        "coherence_scores = []\n",
        "models = []\n",
        "\n",
        "for k in range(5, 41, 5):\n",
        "    model = LdaModel(\n",
        "        corpus=bow_corpus,\n",
        "        id2word=dictionary,\n",
        "        num_topics=k,\n",
        "        passes=20,\n",
        "        random_state=42\n",
        "    )\n",
        "    cm = CoherenceModel(model=model, texts=tokenized_descr, dictionary=dictionary, coherence='c_v')\n",
        "    coherence_scores.append(cm.get_coherence())\n",
        "    models.append(model)\n",
        "\n",
        "plt.figure(figsize=(8, 6))\n",
        "plt.plot(range(5, 41, 5), coherence_scores, marker=\"o\")\n",
        "plt.xlabel(\"Number of Topics\")\n",
        "plt.ylabel(\"Coherence Score (c_v)\")\n",
        "plt.title(\"Improved LDA: Coherence vs Number of Topics\")\n",
        "plt.grid(True)\n",
        "plt.show()"
      ]
    },
    {
      "cell_type": "code",
      "execution_count": null,
      "metadata": {
        "id": "8yIW48KJI6JY"
      },
      "outputs": [],
      "source": [
        "best_k = range(5, 41, 5)[np.argmax(coherence_scores)]\n",
        "best_model = models[np.argmax(coherence_scores)]\n",
        "\n",
        "for idx, topic in best_model.show_topics(num_topics=best_k, num_words=10, formatted=False):\n",
        "    print(f\"Topic {idx}: {[word for word, _ in topic]}\")"
      ]
    },
    {
      "cell_type": "code",
      "execution_count": null,
      "metadata": {
        "id": "bHeMTq_YLAQe"
      },
      "outputs": [],
      "source": [
        "beta_matrix = np.array(best_model.get_topics())\n",
        "print(\"Beta shape:\", beta_matrix.shape)"
      ]
    },
    {
      "cell_type": "code",
      "execution_count": null,
      "metadata": {
        "id": "j9x2kG69LAOb"
      },
      "outputs": [],
      "source": [
        "words = [dictionary[i] for i in range(len(dictionary))]\n",
        "\n",
        "# We create a dataframe to read the results better\n",
        "beta_df = pd.DataFrame(beta_matrix, columns=words, index=[f\"Topic {i}\" for i in range(best_k)])\n",
        "\n",
        "# Here we display the top words per topic (beta vectors), with the probabilities.\n",
        "for topic_id in range(best_k):\n",
        "    print(f\"\\nTopic {topic_id}:\")\n",
        "    print(beta_df.iloc[topic_id].sort_values(ascending=False).head(10))"
      ]
    },
    {
      "cell_type": "code",
      "execution_count": null,
      "metadata": {
        "id": "kpRjjeZqLAM_"
      },
      "outputs": [],
      "source": [
        "best_model.show_topics(num_topics=-1, num_words=10, log=False, formatted=True)\n",
        "\n",
        "# igual usar esto que es más compacto"
      ]
    },
    {
      "cell_type": "code",
      "execution_count": null,
      "metadata": {
        "id": "iD5Wbv5ULALM"
      },
      "outputs": [],
      "source": [
        "theta_matrix = []\n",
        "for doc in bow_corpus:\n",
        "    doc_topics = best_model.get_document_topics(doc, minimum_probability=0)\n",
        "    theta_matrix.append([prob for _, prob in doc_topics])\n",
        "\n",
        "theta_matrix = np.array(theta_matrix)\n",
        "print(\"Theta shape:\", theta_matrix.shape)"
      ]
    },
    {
      "cell_type": "code",
      "execution_count": null,
      "metadata": {
        "id": "VEh9nz4bLNmp"
      },
      "outputs": [],
      "source": [
        "# Dataframe for the thetas\n",
        "theta_df = pd.DataFrame(theta_matrix, columns=[f\"Topic {i}\" for i in range(best_k)])\n",
        "\n",
        "# We just display the most relevant topic (the one with the highest probability)\n",
        "theta_df[\"Dominant Topic\"] = theta_df.idxmax(axis=1)\n",
        "\n",
        "print(theta_df[[\"Dominant Topic\"]])"
      ]
    },
    {
      "cell_type": "code",
      "execution_count": null,
      "metadata": {
        "id": "90X5JxzBLQTy"
      },
      "outputs": [],
      "source": [
        "pyLDAvis.enable_notebook()\n",
        "vis = pyLDAvis.gensim.prepare(best_model, bow_corpus, dictionary)\n",
        "vis"
      ]
    },
    {
      "cell_type": "markdown",
      "metadata": {
        "id": "ltsDt1pwqk5j"
      },
      "source": [
        " ## Sentiment Analysis"
      ]
    },
    {
      "cell_type": "markdown",
      "metadata": {
        "id": "9jZ04CNAw_X_"
      },
      "source": [
        "In this case, we will be using a zero-shot model from Facebook. We need to be careful when using these models because:\n",
        "\n",
        "*   They are trained on natural language, not preprocessed or lemmatized text.\n",
        "*   They expect raw sentences to understand semantic tone.\n",
        "*   They perform better when given more expressive and emotional content, which can get lost when lemmatizing everything.\n",
        "\n",
        "Because of this, we need to preprocess again the game descriptions and use that new column for using the model that we have selected.\n",
        "\n",
        "There is an important aspect to consider here, which is that zero-shot classification with large transformer models is computationally expensive and slow when done sequentially.\n",
        "\n",
        "To optimize performance, we convert our data to a Hugging Face Dataset object, which allows us to apply classification in efficient batches. Batching not only reduces runtime significantly, but also allows the model to process multiple descriptions in parallel without affecting the accuracy of individual predictions.\n",
        "\n",
        "As a result of the classification process, we introduced two new variables into our dataset: `predicted_emotion` and `predicted_vibe`. The former reflects the emotional or narrative mood of the game (e.g., dark, funny, nostalgic), while the latter characterizes the gameplay dynamics or player experience (e.g., strategic, cooperative, family-friendly)."
      ]
    },
    {
      "cell_type": "code",
      "execution_count": null,
      "metadata": {
        "colab": {
          "base_uri": "https://localhost:8080/",
          "referenced_widgets": [
            "4b912d59582d41429aab0052784de9ad",
            "1ed6e5fc7ea54c8e9d2bef1d7c6e63f4",
            "458714c60b9041c5b334af44228659ee",
            "9a6c60f8c2ae4f188f3418b67120b5e8",
            "c4915007da354c6ebf5561a9b580765f",
            "9060c48579c840a3aa667304e6258f2a",
            "1a70d9f4f34942cfb1a398431f17d6c9",
            "2fee82762a3449aba536dc3959fef1d8",
            "0941f72a0e664fbeaef67b3426a1c978",
            "1b9dc8813c324e5fb0017bcf3fbc7a0a",
            "2bca47b4c7924022a1aa8119e824858b",
            "0f93d4c0bd2042789bee03737e488821",
            "801c76b3aace49778944ed24d8b464e7",
            "08a2f3189ad24f5d944365486a3971cf",
            "48ae71623f334e3a8ff9dbbfcc291683",
            "9f5cc11877fe4afe98aa622b2d4693bc",
            "d4f91bd9f94d4793b54999bfca62b9b4",
            "cd7a3f53732145df81249a5aba6dd9e2",
            "6ba43d95a213479b8195fdb9235ca3f8",
            "024240c9f204467daf0c3062e0a23e74",
            "d6454f36fbc649b59f8e754caeb01869",
            "c749ace1a2d84b40b2eff2ae3cb6fd12",
            "c225d5ad40aa4cec98dd76c91a7722c8",
            "197b36991c55479cb8fdb2b49e9fabdd",
            "852200334fe34b6f9ef333ab4c0406fe",
            "8bee7b51b0914a94b43b54b29652bffd",
            "3e6cefc9ec2a4503aa20c5d6759c40d3",
            "9a02acc9569741df8ef08d63c8b0b3e8",
            "98de6a907e26460f8e0f4efcd87a1a10",
            "dd18dc36cf334d4b9d6b167e764add2a",
            "4f184186d8f64a87b856a87cc57c3f24",
            "e9914e78cd0e4f6cbf88c97f322d8b45",
            "eae00e4954134e56b019ca5fca0bbec7",
            "383a13c2fc324966a9bb3a53cca2325f",
            "a1ad676e2c094646b19a5cffe011f4ff",
            "d2954402486a4bafa3f98f747ba8a98b",
            "681cd1fee60b4f0487acfa16a752cf2a",
            "7e04f1d43afc42248a726a7d287ba144",
            "c080e72edc494cb1a3c2f98f8024c6ff",
            "54bcaedb2a5c4dcdb2dbdc93dd527fe6",
            "ff87a899791045c3b2e5f26004f9454b",
            "1f534f118edf4a6eb2624abda31f4ff7",
            "253c8c23c5914b2a8bd397b1491b2b3d",
            "f3f6c0a93726474092a670eab407c142",
            "2bce1d58112f4892b6034c0bb0fc2b06",
            "5fb2e0dc70c44e3a89ed6a85c8b15e7a",
            "ff8a7a6ff5c44e30b14705a43538ea2b",
            "cf8d6b2c15094288b8ec3950fca9520f",
            "70c2387e816341a2bbe364ac8d3a2303",
            "2659309f85cb4bea91d340cad15e802d",
            "c53e1112e4af492abd909736924cdf38",
            "8906951cd29c4b7c97f7c58722f336c8",
            "e5853a89e43e4b6cab4a3887f4a28fc6",
            "e8e1e3b283f94c67807adadddac3bac1",
            "974b8f44f03e4708b0d06f86b689868f",
            "5c64a501daf24254aac9ce0d8091a195",
            "f1b4447030ee4d6391621173b5e1ebd6",
            "50d1fcef5b6c41bcb7b272634983041f",
            "4539faa3105e40a9bbe09f978ddfbace",
            "c4e3b1c0c98e4a1eb9232fddd3f023ab",
            "96a580dc5f1c463a8a4f8091f68052da",
            "4adceee476764564a3a26eabd19fda39",
            "59f6c375d6e84b979bf484222ff84c57",
            "3f77601c219c4b2da3e4aa58ccf1f4f6",
            "81847ccbb58b45cb947315307df7998c",
            "fcdf8b3902f34ce4940400fed9c80efb"
          ]
        },
        "id": "FvEGLJv2_wAP",
        "outputId": "0aff4f24-c3d7-4e66-f242-71d12353d5b8"
      },
      "outputs": [],
      "source": [
        "# Load your clean dataframe\n",
        "hf_dataset = Dataset.from_pandas(games[[\"clean_description\"]])\n",
        "\n",
        "# Load the zero-shot classifier\n",
        "classifier = pipeline(\"zero-shot-classification\", model=\"facebook/bart-large-mnli\", device=0)  # device=0 to use GPU\n",
        "\n",
        "# Labels\n",
        "emotional_labels = [\"funny\", \"dark\", \"happy\", \"serious\", \"nostalgic\", \"intense\"]\n",
        "vibe_labels = [\"strategic\", \"cooperative\", \"competitive\", \"family-friendly\", \"chaotic\", \"educational\"]\n",
        "\n",
        "# Batched classification function\n",
        "def classify_batch(batch):\n",
        "    texts = batch[\"clean_description\"]\n",
        "\n",
        "    # Predict emotions and vibes together\n",
        "    emotion_results = classifier(texts, emotional_labels, batch_size=8)\n",
        "    vibe_results = classifier(texts, vibe_labels, batch_size=8)\n",
        "\n",
        "    # If input is batched, results will be a list of dicts\n",
        "    predicted_emotion = [result[\"labels\"][0] for result in emotion_results]\n",
        "    predicted_vibe = [result[\"labels\"][0] for result in vibe_results]\n",
        "\n",
        "    return {\n",
        "        \"predicted_emotion\": predicted_emotion,\n",
        "        \"predicted_vibe\": predicted_vibe\n",
        "    }"
      ]
    },
    {
      "cell_type": "code",
      "execution_count": null,
      "metadata": {
        "colab": {
          "base_uri": "https://localhost:8080/",
          "referenced_widgets": [
            "282a1232aeae41d88c4bd199534c70d4",
            "41639697e0e14e6aba7e2cc80e07a7d0",
            "abe99adc65a54b31bcc96ab2a9464dc4",
            "75d10ccab338401e819fd3c4c17cb247",
            "8a8396c0b1334e9c8d160023066e5199",
            "a03cf679581040c1b43f16321f7c2d58",
            "3f5153a924e242da86083cb102c9ff54",
            "a42a0f04a947400593878afb0b7d92e0",
            "83890815a7a0469ca826ca45685a098b",
            "2a3da9b089c44906a59451ea941c69e8",
            "9b2bfe417716458983fa1e5527ebc1d8"
          ]
        },
        "id": "YV1cyOQAvCzF",
        "outputId": "8bc976de-0283-46f0-965d-d2a1c6068d02"
      },
      "outputs": [],
      "source": [
        "# Apply with batching\n",
        "hf_dataset = hf_dataset.map(classify_batch, batched=True, batch_size=8)\n",
        "\n",
        "# Convert back to pandas\n",
        "games[\"predicted_emotion\"] = hf_dataset[\"predicted_emotion\"]\n",
        "games[\"predicted_vibe\"] = hf_dataset[\"predicted_vibe\"]"
      ]
    },
    {
      "cell_type": "code",
      "execution_count": null,
      "metadata": {
        "id": "6ZnBkG8r5C9T"
      },
      "outputs": [],
      "source": [
        "games.to_csv(\"boardgames_3000_with_dual_tone.csv\", sep=\";\", index=False)"
      ]
    },
    {
      "cell_type": "code",
      "execution_count": null,
      "metadata": {
        "colab": {
          "base_uri": "https://localhost:8080/"
        },
        "id": "Sta5rh4W20_t",
        "outputId": "b16125bd-5949-4e02-8186-e3586a10d5cf"
      },
      "outputs": [],
      "source": [
        "num_examples = 100\n",
        "\n",
        "for i in range(num_examples):\n",
        "    name = games.iloc[i][\"name\"]\n",
        "    description = games.iloc[i][\"description\"][:500]\n",
        "    emotion = games.iloc[i][\"predicted_emotion\"]\n",
        "    vibe = games.iloc[i][\"predicted_vibe\"]\n",
        "\n",
        "    print(f\"Game: {name}\")\n",
        "    print(f\"Description:\\n{description}...\")\n",
        "    print(f\"Predicted Emotion: {emotion}\")\n",
        "    print(f\"Predicted Vibe: {vibe}\\n\")"
      ]
    },
    {
      "cell_type": "code",
      "execution_count": null,
      "metadata": {
        "colab": {
          "base_uri": "https://localhost:8080/",
          "height": 797
        },
        "id": "nmLYmntdvUsG",
        "outputId": "ab042eb8-f715-4a9a-8a37-edc572e07f7c"
      },
      "outputs": [],
      "source": [
        "for col in [\"predicted_emotion\", \"predicted_vibe\"]:\n",
        "    plt.figure(figsize=(8, 4))\n",
        "    sns.countplot(data=games, y=col, order=games[col].value_counts().index)\n",
        "    plt.title(f\"Distribution of {col}\")\n",
        "    plt.tight_layout()\n",
        "    plt.show()"
      ]
    },
    {
      "cell_type": "markdown",
      "metadata": {
        "id": "Av4i38QoqpsE"
      },
      "source": [
        "## Task 2: Machine Learning (Recommender System)"
      ]
    },
    {
      "cell_type": "markdown",
      "metadata": {
        "id": "dqP95iqxCQ7-"
      },
      "source": [
        "#### Load dataset and reviews"
      ]
    },
    {
      "cell_type": "code",
      "execution_count": null,
      "metadata": {
        "colab": {
          "base_uri": "https://localhost:8080/",
          "height": 860
        },
        "id": "DFcLAi8nEA2n",
        "outputId": "dc57bc29-1f3a-49d2-cceb-e3b939223eb4"
      },
      "outputs": [],
      "source": [
        "filename = \"boardgames_3000_with_dual_tone.csv\"\n",
        "games = pd.read_csv(filename, sep=\";\")\n",
        "games"
      ]
    },
    {
      "cell_type": "code",
      "execution_count": null,
      "metadata": {
        "id": "rmeOt2Tim6fp"
      },
      "outputs": [],
      "source": [
        "#from google.colab import drive\n",
        "#drive.mount('/content/drive')"
      ]
    },
    {
      "cell_type": "code",
      "execution_count": null,
      "metadata": {
        "colab": {
          "base_uri": "https://localhost:8080/",
          "height": 339
        },
        "id": "lvcCfzGjEAqH",
        "outputId": "9eec93ff-ca6f-45e1-c310-aea8082429d5"
      },
      "outputs": [],
      "source": [
        "filename = \"reviews.csv\"\n",
        "reviews = pd.read_csv(filename, sep=\",\")\n",
        "reviews"
      ]
    },
    {
      "cell_type": "markdown",
      "metadata": {
        "id": "_0ndZfCrBM8O"
      },
      "source": [
        "#### Games Similarity Exploration"
      ]
    },
    {
      "cell_type": "markdown",
      "metadata": {
        "id": "KLnzJdp-qQqm"
      },
      "source": [
        "##### GloVe"
      ]
    },
    {
      "cell_type": "markdown",
      "metadata": {
        "id": "biQHfmC-BqLv"
      },
      "source": [
        "In order to explore the similarity between games, we chose to use GloVe embeddings because these capture the meaning of words such that similar words have similar representations."
      ]
    },
    {
      "cell_type": "code",
      "execution_count": null,
      "metadata": {
        "id": "ZO7XAHn9jCrK"
      },
      "outputs": [],
      "source": [
        "def load_glove_embeddings(filepath=\"glove.6B.100d.txt\"):\n",
        "    embeddings = {}\n",
        "    with open(filepath, \"r\", encoding=\"utf8\") as f:\n",
        "        for line in f:\n",
        "            values = line.split()\n",
        "            word = values[0]\n",
        "            vector = np.asarray(values[1:], dtype='float32')\n",
        "            embeddings[word] = vector\n",
        "    return embeddings\n",
        "\n",
        "def get_glove_vector(text, glove, dim=100):\n",
        "    words = text.split()\n",
        "    vectors = [glove[word] for word in words if word in glove]\n",
        "    return np.mean(vectors, axis=0) if vectors else np.zeros(dim)"
      ]
    },
    {
      "cell_type": "code",
      "execution_count": null,
      "metadata": {
        "id": "jZ5w7Vx5jDYu"
      },
      "outputs": [],
      "source": [
        "glove = load_glove_embeddings(\"glove.6B.100d.txt\")\n",
        "games[\"glove_vector\"] = games[\"clean_description\"].apply(lambda x: get_glove_vector(x, glove))"
      ]
    },
    {
      "cell_type": "code",
      "execution_count": null,
      "metadata": {
        "colab": {
          "base_uri": "https://localhost:8080/"
        },
        "id": "MswMywPXCAHQ",
        "outputId": "b96e040a-e888-4f09-f04f-1399a1047dad"
      },
      "outputs": [],
      "source": [
        "len(games['glove_vector'][0])"
      ]
    },
    {
      "cell_type": "markdown",
      "metadata": {
        "id": "LHsZqgPDkYLJ"
      },
      "source": [
        "Once we had vector representations of all our games, we computed the cosine similarity between every pair of games so see how closely aligned vectors are.\n",
        "\n",
        "Furthermore, we proceeded by displaying a histogram that plots the distribution of the similarity values. This might be useful because it can help us understand:\n",
        "\n",
        "*   Are most games very similar?\n",
        "*   Do we have a wide range of similarity?\n"
      ]
    },
    {
      "cell_type": "code",
      "execution_count": null,
      "metadata": {
        "colab": {
          "base_uri": "https://localhost:8080/",
          "height": 469
        },
        "id": "d__971pjBZLc",
        "outputId": "7da76f3a-5bbe-4b83-cf20-af139cbe9b6a"
      },
      "outputs": [],
      "source": [
        "glove_vectors = np.vstack(games[\"glove_vector\"].values)\n",
        "\n",
        "# Compute the full cosine similarity matrix\n",
        "sim_matrix = cosine_similarity(glove_vectors)\n",
        "\n",
        "# Remove diagonal values (self-similarity)\n",
        "np.fill_diagonal(sim_matrix, np.nan)\n",
        "\n",
        "# Flatten and filter out NaNs\n",
        "similarities = sim_matrix[~np.isnan(sim_matrix)]\n",
        "\n",
        "# Plot histogram\n",
        "plt.figure(figsize=(8, 5))\n",
        "plt.hist(similarities, bins=50, color=\"skyblue\", edgecolor=\"black\")\n",
        "plt.title(\"Distribution of Cosine Similarities Between GloVe Embeddings\")\n",
        "plt.xlabel(\"Cosine Similarity\")\n",
        "plt.ylabel(\"Frequency\")\n",
        "plt.grid(True)\n",
        "plt.tight_layout()\n",
        "plt.show()"
      ]
    },
    {
      "cell_type": "markdown",
      "metadata": {
        "id": "gCdHgWntlNNG"
      },
      "source": [
        "From this histogram, we can learn different things, some along the lines of:\n",
        "\n",
        "1.   Most pair have high similarity scores, grouped between 0.8 and 0.95, which may be telling us that many game descriptions are using similar language or concepts.\n",
        "2.   Very few pairs are below 0.6, transalting into strong dissimilarities in descriptions being rare.\n",
        "\n",
        "These results can be interpreted in different ways, because if we were show that there is a semantic consistency, these results would confirm it.\n",
        "\n",
        "However, if our goal is to detect meaningful clusters or differentiate games precisely, since everything is mostly 85%-95% similar, we are not getting much variation.\n",
        "\n",
        "Because of this, we will try and enhance GloVe by trying a contextual embedding such as BERT and combining text with some more metadata.\n",
        "\n",
        "As of right now, let's take a deeper look to our embeddings.\n"
      ]
    },
    {
      "cell_type": "code",
      "execution_count": null,
      "metadata": {
        "id": "36EUTXYJ6rIC"
      },
      "outputs": [],
      "source": [
        "def get_min_max_similarity(games_df):\n",
        "    # Stack GloVe vectors into a 2D array\n",
        "    vectors = np.vstack(games_df[\"glove_vector\"].values)\n",
        "\n",
        "    # Compute full cosine similarity matrix\n",
        "    sim_matrix = cosine_similarity(vectors)\n",
        "\n",
        "    # Remove diagonal (similarity with self = 1.0)\n",
        "    np.fill_diagonal(sim_matrix, np.nan)\n",
        "\n",
        "    # Get min and max ignoring NaNs\n",
        "    min_sim = np.nanmin(sim_matrix)\n",
        "    max_sim = np.nanmax(sim_matrix)\n",
        "    mean_sim = np.nanmean(sim_matrix)\n",
        "\n",
        "    return min_sim, max_sim, mean_sim"
      ]
    },
    {
      "cell_type": "code",
      "execution_count": null,
      "metadata": {
        "colab": {
          "base_uri": "https://localhost:8080/"
        },
        "id": "kt9AS6mEnUN2",
        "outputId": "5b14713e-38b9-441d-deb6-c0e380b4838c"
      },
      "outputs": [],
      "source": [
        "min_similarity, max_similarity, mean = get_min_max_similarity(games)\n",
        "print(f\"Min similarity: {min_similarity:.4f}, Max similarity: {max_similarity:.4f}\")\n",
        "print(mean)"
      ]
    },
    {
      "cell_type": "code",
      "execution_count": null,
      "metadata": {
        "id": "QxQpije-6rIC"
      },
      "outputs": [],
      "source": [
        "def get_min_max_similarity_with_ids(games_df):\n",
        "    # Stack GloVe vectors into a 2D array\n",
        "    vectors = np.vstack(games_df[\"glove_vector\"].values)\n",
        "\n",
        "    # Compute full cosine similarity matrix\n",
        "    sim_matrix = cosine_similarity(vectors)\n",
        "\n",
        "    # Remove diagonal (self-similarity)\n",
        "    np.fill_diagonal(sim_matrix, np.nan)\n",
        "\n",
        "    # Get min, max, and mean ignoring NaNs\n",
        "    min_sim = np.nanmin(sim_matrix)\n",
        "    max_sim = np.nanmax(sim_matrix)\n",
        "    mean_sim = np.nanmean(sim_matrix)\n",
        "\n",
        "    # Get indices of min and max\n",
        "    min_indices = np.unravel_index(np.nanargmin(sim_matrix), sim_matrix.shape)\n",
        "    max_indices = np.unravel_index(np.nanargmax(sim_matrix), sim_matrix.shape)\n",
        "\n",
        "    # Get IDs and names\n",
        "    min_pair = (games_df.iloc[min_indices[0]][\"id\"], games_df.iloc[min_indices[1]][\"id\"])\n",
        "    max_pair = (games_df.iloc[max_indices[0]][\"id\"], games_df.iloc[max_indices[1]][\"id\"])\n",
        "\n",
        "    return min_sim, max_sim, mean_sim, min_pair, max_pair"
      ]
    },
    {
      "cell_type": "code",
      "execution_count": null,
      "metadata": {
        "colab": {
          "base_uri": "https://localhost:8080/"
        },
        "id": "53UjEv2CnWq3",
        "outputId": "5875ee90-ada5-432a-e8b9-ac9d6b4c780e"
      },
      "outputs": [],
      "source": [
        "min_sim, max_sim, mean_sim, min_pair, max_pair = get_min_max_similarity_with_ids(games)\n",
        "print(f\"Min similarity: {min_sim:.4f} between games {min_pair}\")\n",
        "print(f\"Max similarity: {max_sim:.4f} between games {max_pair}\")\n",
        "print(f\"Mean similarity: {mean_sim:.4f}\")\n",
        "\n",
        "min_names = (games[games[\"id\"] == min_pair[0]][\"name\"].values[0],\n",
        "             games[games[\"id\"] == min_pair[1]][\"name\"].values[0])\n",
        "max_names = (games[games[\"id\"] == max_pair[0]][\"name\"].values[0],\n",
        "             games[games[\"id\"] == max_pair[1]][\"name\"].values[0])\n",
        "print(f\"Min similarity between: {min_names}\")\n",
        "print(f\"Max similarity between: {max_names}\")"
      ]
    },
    {
      "cell_type": "markdown",
      "metadata": {
        "id": "6iHhb4M-qUTk"
      },
      "source": [
        "##### GloVe + Metadata"
      ]
    },
    {
      "cell_type": "markdown",
      "metadata": {
        "id": "hr9yFLQEFK5i"
      },
      "source": [
        "Now that we have explored similarity using only text (via GloVe), we can try and add  metadata features to enrich our similarity analysis.\n",
        "\n",
        "We selected some additional features that might influence how games relate to each other, such as the number of players, game complexity..."
      ]
    },
    {
      "cell_type": "code",
      "execution_count": null,
      "metadata": {
        "id": "Q1CBHIC26rIB"
      },
      "outputs": [],
      "source": [
        "extra_features = [\"year\", \"rating\", \"complexity\", \"minplayers\", \"maxplayers\", \"playingtime\", \"minage\"]\n",
        "\n",
        "# Initialize the scaler\n",
        "scaler = MinMaxScaler()\n",
        "\n",
        "# Fit and transform\n",
        "games_scaled_features = scaler.fit_transform(games[extra_features])\n",
        "\n",
        "# Save them into a new column\n",
        "games[\"extra_vector\"] = list(games_scaled_features)"
      ]
    },
    {
      "cell_type": "code",
      "execution_count": null,
      "metadata": {
        "id": "LRC5anOA6rIB"
      },
      "outputs": [],
      "source": [
        "# Now we combine the textual (GloVe) vector and the extra features into a single vector.\n",
        "# Each game is now represented by a vector that includes both semantic and numeric information.\n",
        "games[\"combined_vector\"] = games.apply(\n",
        "    lambda row: np.concatenate([row[\"glove_vector\"], row[\"extra_vector\"]]),\n",
        "    axis=1)"
      ]
    },
    {
      "cell_type": "code",
      "execution_count": null,
      "metadata": {
        "colab": {
          "base_uri": "https://localhost:8080/"
        },
        "id": "fEkSD-Io6rIB",
        "outputId": "9f52881f-94a7-4d75-e939-5a241803bd87"
      },
      "outputs": [],
      "source": [
        "len(games['combined_vector'][0])"
      ]
    },
    {
      "cell_type": "code",
      "execution_count": null,
      "metadata": {
        "id": "tkAoQwWt6rIB"
      },
      "outputs": [],
      "source": [
        "combined_vectors = np.vstack(games[\"combined_vector\"].values)\n",
        "\n",
        "# Compute the full cosine similarity matrix\n",
        "sim_matrix = cosine_similarity(combined_vectors)\n",
        "\n",
        "# Remove diagonal values (self-similarity)\n",
        "np.fill_diagonal(sim_matrix, np.nan)\n",
        "\n",
        "# Flatten and filter out NaNs\n",
        "similarities = sim_matrix[~np.isnan(sim_matrix)]\n",
        "\n",
        "plt.figure(figsize=(8, 5))\n",
        "plt.hist(similarities, bins=50, color=\"skyblue\", edgecolor=\"black\")\n",
        "plt.title(\"Distribution of Cosine Similarities Between Combined Embeddings\")\n",
        "plt.xlabel(\"Cosine Similarity\")\n",
        "plt.ylabel(\"Frequency\")\n",
        "plt.grid(True)\n",
        "plt.tight_layout()\n",
        "plt.show()"
      ]
    },
    {
      "cell_type": "markdown",
      "metadata": {
        "id": "oIwlBuxto-3h"
      },
      "source": [
        "When comparing the similarity histograms, we find that using GloVe alone provides a broader range of similarity scores between games. It captures meaningful differences in game descriptions, making it more effective for differentiating games.\n",
        "\n",
        "Aadding extra features like year, rating, and player count reduces variability in similarity scores, making most games to appear overly similar. This limits the model's ability to differentiate between games, making the combined approach less useful in our context."
      ]
    },
    {
      "cell_type": "code",
      "execution_count": null,
      "metadata": {
        "colab": {
          "base_uri": "https://localhost:8080/",
          "height": 170
        },
        "id": "MN-OuPTI6rIB",
        "outputId": "ef58b459-eb88-473f-aee6-a0996363595f"
      },
      "outputs": [],
      "source": [
        "games[games['name']== 'Siesta']"
      ]
    },
    {
      "cell_type": "code",
      "execution_count": null,
      "metadata": {
        "colab": {
          "base_uri": "https://localhost:8080/",
          "height": 152
        },
        "id": "usmAIAIW6rIB",
        "outputId": "b882d2e6-6d65-44ea-b04a-9cf188e82966"
      },
      "outputs": [],
      "source": [
        "games[games['name']== 'CATAN']"
      ]
    },
    {
      "cell_type": "code",
      "execution_count": null,
      "metadata": {
        "id": "LzsiMv-q6rIB"
      },
      "outputs": [],
      "source": [
        "def compare_games_combined_similarity(game_id_1, game_id_2, games_df):\n",
        "    # Get combined vectors\n",
        "    vec1 = games_df.loc[games_df[\"id\"] == game_id_1, \"combined_vector\"].values[0]\n",
        "    vec2 = games_df.loc[games_df[\"id\"] == game_id_2, \"combined_vector\"].values[0]\n",
        "\n",
        "    # Get descriptions\n",
        "    desc1 = games_df.loc[games_df[\"id\"] == game_id_1, \"clean_description\"].values[0]\n",
        "    desc2 = games_df.loc[games_df[\"id\"] == game_id_2, \"clean_description\"].values[0]\n",
        "\n",
        "    # Compute cosine similarity\n",
        "    sim = cosine_similarity([vec1], [vec2])[0][0]\n",
        "\n",
        "    # Print the results\n",
        "    print(f\"Cosine similarity between Game {game_id_1} and Game {game_id_2}: {sim:.4f}\")\n",
        "    print(f\"\\nDescription of Game {game_id_1}: {desc1}\")\n",
        "    print(f\"\\nDescription of Game {game_id_2}: {desc2}\")"
      ]
    },
    {
      "cell_type": "code",
      "execution_count": null,
      "metadata": {
        "colab": {
          "base_uri": "https://localhost:8080/"
        },
        "id": "viKP3nhHo1iC",
        "outputId": "497e9b4a-2fb3-4779-d82d-a68fad20c4cf"
      },
      "outputs": [],
      "source": [
        "# Example usage\n",
        "compare_games_combined_similarity(game_id_1=171, game_id_2=13, games_df=games)"
      ]
    },
    {
      "cell_type": "markdown",
      "metadata": {
        "id": "Si73maAeANVz"
      },
      "source": [
        "##### BERT"
      ]
    },
    {
      "cell_type": "markdown",
      "metadata": {
        "id": "UQUzHr16qrbr"
      },
      "source": [
        "Finally, we explore BERT to represent each game's description. Unlike GloVe, which uses static word vectors, BERT captures contextual meaning, allowing us to better differentiate between similar words used in different contexts.\n",
        "\n"
      ]
    },
    {
      "cell_type": "code",
      "execution_count": null,
      "metadata": {
        "colab": {
          "base_uri": "https://localhost:8080/"
        },
        "id": "4441QJJ_APor",
        "outputId": "7166c585-0ca0-49d2-a50a-6df8cac850e4"
      },
      "outputs": [],
      "source": [
        "# Load pre-trained BERT model and tokenizer\n",
        "tokenizer = BertTokenizer.from_pretrained(\"bert-base-uncased\")\n",
        "model = BertModel.from_pretrained(\"bert-base-uncased\")\n",
        "model.eval()  # Set model to evaluation mode"
      ]
    },
    {
      "cell_type": "markdown",
      "metadata": {
        "id": "9H4JLsj6rD7C"
      },
      "source": [
        "We have defined a function that takes in a game description and returns a 768-dimensional embedding representing the entire sentence. We do this by extracting the embedding of the special CLS token, which BERT is trained to use as a summary of the sentence."
      ]
    },
    {
      "cell_type": "code",
      "execution_count": null,
      "metadata": {
        "id": "JZ3RqfmeAdWS"
      },
      "outputs": [],
      "source": [
        "def get_bert_embeddings(texts, tokenizer, model, batch_size=16, device=\"cpu\"):\n",
        "    model.to(device)\n",
        "    model.eval()\n",
        "    embeddings = []\n",
        "\n",
        "    dataloader = DataLoader(texts, batch_size=batch_size)\n",
        "\n",
        "    with torch.no_grad():\n",
        "        for batch in tqdm(dataloader):\n",
        "            inputs = tokenizer(batch, return_tensors=\"pt\", padding=True, truncation=True, max_length=128).to(device)\n",
        "            outputs = model(**inputs)\n",
        "            cls_embeddings = outputs.last_hidden_state[:, 0, :]  # shape: (batch_size, 768)\n",
        "            embeddings.extend(cls_embeddings.cpu().numpy())\n",
        "\n",
        "    return embeddings"
      ]
    },
    {
      "cell_type": "code",
      "execution_count": null,
      "metadata": {
        "colab": {
          "base_uri": "https://localhost:8080/"
        },
        "id": "-OHIP1TytHEN",
        "outputId": "2c32dfec-9d75-43ce-e143-f70cdcb31d1e"
      },
      "outputs": [],
      "source": [
        "texts = games[\"clean_description\"].tolist()\n",
        "bert_vectors = get_bert_embeddings(texts, tokenizer, model, batch_size=16, device=\"cuda\" if torch.cuda.is_available() else \"cpu\")\n",
        "games[\"bert_vector\"] = bert_vectors"
      ]
    },
    {
      "cell_type": "code",
      "execution_count": null,
      "metadata": {
        "colab": {
          "base_uri": "https://localhost:8080/"
        },
        "id": "WAIADcosBhlM",
        "outputId": "6993ee82-8326-4380-b8dd-11d3d60dc9f7"
      },
      "outputs": [],
      "source": [
        "bert_vectors = np.vstack(games[\"bert_vector\"].values)\n",
        "\n",
        "# Compute the full cosine similarity matrix\n",
        "sim_matrix = cosine_similarity(bert_vectors)\n",
        "\n",
        "# Remove diagonal values (self-similarity)\n",
        "np.fill_diagonal(sim_matrix, np.nan)\n",
        "\n",
        "# Flatten and filter out NaNs\n",
        "similarities = sim_matrix[~np.isnan(sim_matrix)]\n",
        "\n",
        "# Plot histogram\n",
        "plt.figure(figsize=(8, 5))\n",
        "plt.hist(similarities, bins=50, color=\"skyblue\", edgecolor=\"black\")\n",
        "plt.title(\"Distribution of Cosine Similarities Between BERT Embeddings\")\n",
        "plt.xlabel(\"Cosine Similarity\")\n",
        "plt.ylabel(\"Frequency\")\n",
        "plt.grid(True)\n",
        "plt.tight_layout()\n",
        "plt.show()"
      ]
    },
    {
      "cell_type": "markdown",
      "metadata": {
        "id": "xxRL4kBUrcUo"
      },
      "source": [
        "The histogram of cosine similarities using BERT shows a broader and more informative distribution than GloVe or GloVe+features.\n",
        "\n",
        "Similarities range from 0.60 to 0.96, with a peak around 0.90, indicating that BERT captures contextual differences between game descriptions more effectively.\n"
      ]
    },
    {
      "cell_type": "markdown",
      "metadata": {
        "id": "Iajv6cA5CQ7-"
      },
      "source": [
        "#### Reviews Dataset Exploration"
      ]
    },
    {
      "cell_type": "markdown",
      "metadata": {
        "id": "wmOROF6xwnAZ"
      },
      "source": [
        "Now we explore the dataset of user reviews to understand how many games have been reviewed, the distribution of ratings, and user activity."
      ]
    },
    {
      "cell_type": "code",
      "execution_count": null,
      "metadata": {
        "colab": {
          "base_uri": "https://localhost:8080/"
        },
        "id": "xhuFMpk1EAiz",
        "outputId": "c75cfc26-d26b-4854-bd25-4864cbe9e9ce"
      },
      "outputs": [],
      "source": [
        "# Unique game names in the reviews\n",
        "unique_names = reviews[\"name\"].unique()\n",
        "print(len(unique_names))"
      ]
    },
    {
      "cell_type": "code",
      "execution_count": null,
      "metadata": {
        "id": "zUSREuOe3P2i"
      },
      "outputs": [],
      "source": [
        "# Unique reviews of games in the reviews\n",
        "reviewed_ids = reviews[\"ID\"].unique()"
      ]
    },
    {
      "cell_type": "code",
      "execution_count": null,
      "metadata": {
        "id": "FsFVv8p63W51"
      },
      "outputs": [],
      "source": [
        "# Find games with and without reviews\n",
        "games_with_reviews = games[games[\"id\"].isin(reviewed_ids)]\n",
        "games_without_reviews = games[~games[\"id\"].isin(reviewed_ids)]"
      ]
    },
    {
      "cell_type": "code",
      "execution_count": null,
      "metadata": {
        "colab": {
          "base_uri": "https://localhost:8080/"
        },
        "id": "54T1xQ853YeV",
        "outputId": "be03aefa-b95e-4a32-945c-ff538c059131"
      },
      "outputs": [],
      "source": [
        "print(f\"Total games: {len(games)}\")\n",
        "print(f\"Games with reviews: {len(games_with_reviews)}\")\n",
        "print(f\"Games without reviews: {len(games_without_reviews)}\")"
      ]
    },
    {
      "cell_type": "code",
      "execution_count": null,
      "metadata": {
        "colab": {
          "base_uri": "https://localhost:8080/",
          "height": 417
        },
        "id": "BOaIgPd6MymE",
        "outputId": "56d1747a-52cf-4f21-8b0a-d968ffda627d"
      },
      "outputs": [],
      "source": [
        "plt.figure(figsize=(10, 6))\n",
        "sns.histplot(data=reviews, x='rating', bins=10, color='skyblue', edgecolor='black')\n",
        "plt.xlabel(\"Rating\", fontsize=14)\n",
        "plt.ylabel(\"Number of Ratings\", fontsize=14)\n",
        "plt.title(\"Distribution of Game Ratings\", fontsize=16)\n",
        "plt.xticks(fontsize=12)\n",
        "plt.yticks(fontsize=12)\n",
        "plt.show()"
      ]
    },
    {
      "cell_type": "markdown",
      "metadata": {
        "id": "qUSxc_Wswvr_"
      },
      "source": [
        "This histogram shows the frequency of ratings given to games, on a scale from 0 to 10.\n",
        "\n",
        "The distribution is right-skewed, meaning most ratings are above 6. Also, the most common rating is between 7 and 8, suggesting that users tend to rate games positively, and very low ratings are rare."
      ]
    },
    {
      "cell_type": "code",
      "execution_count": null,
      "metadata": {
        "colab": {
          "base_uri": "https://localhost:8080/",
          "height": 431
        },
        "id": "18GJ1wfFNFcE",
        "outputId": "ee44d163-f76f-4d6a-ba7e-69279531c22c"
      },
      "outputs": [],
      "source": [
        "Nrating_por_user = reviews.user.value_counts()\n",
        "\n",
        "plt.figure(figsize=(10, 6))\n",
        "sns.histplot(Nrating_por_user, bins=range(1, 21), color='skyblue', edgecolor='black')\n",
        "plt.xlim(1, 20)\n",
        "plt.ylim(1, 60000)\n",
        "plt.xlabel(\"Number of Ratings\", fontsize=14)\n",
        "plt.ylabel(\"Number of Users\", fontsize=14)\n",
        "plt.title(\"Distribution of Ratings per User\", fontsize=16)\n",
        "plt.xticks(fontsize=12)\n",
        "plt.yticks(fontsize=12)\n",
        "plt.show()\n",
        "\n",
        "# Print the user who has rated the most\n",
        "print(\"The user who has rated most games has rated:\", Nrating_por_user.max())"
      ]
    },
    {
      "cell_type": "markdown",
      "metadata": {
        "id": "VekZphwwxFOh"
      },
      "source": [
        "This histogram shows how many users have given a certain number of ratings.\n",
        "\n",
        "The majority of users have rated only 1 or 2 games, and very few users have rated more than 10 games, and even fewer above 15."
      ]
    },
    {
      "cell_type": "markdown",
      "metadata": {
        "id": "1i6G7GXtwYxz"
      },
      "source": [
        "#### Filtering the reviews"
      ]
    },
    {
      "cell_type": "code",
      "execution_count": null,
      "metadata": {
        "colab": {
          "base_uri": "https://localhost:8080/",
          "height": 684
        },
        "id": "NCyLZwhSuhXJ",
        "outputId": "db7eb185-9a3b-4775-dfbf-9fcfeb3ab117"
      },
      "outputs": [],
      "source": [
        "# Keep only reviews for games that exist in the games dataset\n",
        "valid_game_ids = set(games[\"id\"].unique())\n",
        "filtered_reviews = reviews[reviews[\"ID\"].isin(valid_game_ids)].copy()\n",
        "filtered_reviews"
      ]
    },
    {
      "cell_type": "code",
      "execution_count": null,
      "metadata": {
        "colab": {
          "base_uri": "https://localhost:8080/",
          "height": 335
        },
        "id": "QrOHI_GCvMC8",
        "outputId": "230aeca1-c134-433a-f358-b83509a7af1c"
      },
      "outputs": [],
      "source": [
        "# Check the number of reviews per game\n",
        "review_counts = filtered_reviews[\"ID\"].value_counts()\n",
        "review_counts.describe()"
      ]
    },
    {
      "cell_type": "code",
      "execution_count": null,
      "metadata": {
        "colab": {
          "base_uri": "https://localhost:8080/",
          "height": 684
        },
        "id": "jortURl-CQ7_",
        "outputId": "80158498-ab03-4e5f-a114-0e687b4c1414"
      },
      "outputs": [],
      "source": [
        "#filtered_reviews.to_csv(\"filtered_reviews.csv\", sep=\";\", index=False)\n",
        "#filtered_reviews = pd.read_csv(\"filtered_reviews.csv\", sep=\";\")\n",
        "filtered_reviews"
      ]
    },
    {
      "cell_type": "code",
      "execution_count": null,
      "metadata": {
        "id": "6hjvi2ZEwhPP"
      },
      "outputs": [],
      "source": [
        "reviews = filtered_reviews"
      ]
    },
    {
      "cell_type": "code",
      "execution_count": null,
      "metadata": {
        "id": "scaiw06gCQ7_"
      },
      "outputs": [],
      "source": [
        "valid_game_ids = set(games[\"id\"].unique())\n",
        "filtered_reviews = reviews[reviews[\"ID\"].isin(valid_game_ids)].copy()"
      ]
    },
    {
      "cell_type": "markdown",
      "metadata": {
        "id": "CQjkvy52wh6v"
      },
      "source": [
        "#### Content-based system"
      ]
    },
    {
      "cell_type": "markdown",
      "metadata": {
        "id": "UFstZPq7xoax"
      },
      "source": [
        "In this section, we will be implementing different content-based recommendation systems that suggest games to users based on the content of games they have previously liked.\n",
        "\n",
        "These systems rely on vector representations derived from game descriptions, along with optional metadata like player count and playtime, to build personalized user profiles.\n",
        "\n",
        "We will explore several variants, starting with a basic similarity-based approach and going toward more diverse models using techniques like MMR, clustering, and even emotional tone."
      ]
    },
    {
      "cell_type": "markdown",
      "metadata": {
        "id": "1FVV2QYQIBek"
      },
      "source": [
        "##### Basic content-based system"
      ]
    },
    {
      "cell_type": "markdown",
      "metadata": {
        "id": "WmSe7CiWyCKJ"
      },
      "source": [
        "The first method is a simple content-based recommender that suggests new games to a user based on the descriptions of games they liked.\n",
        "\n",
        "We consider it 'basic' because it relies solely on semantic similarity between game descriptions, without incorporating diversity mechanisms, clustering, or collaborative data.\n",
        "\n",
        "This works by using GloVe embeddings to convert each game's description into a numeric vector. Then, for a given user, it builds a preference profile by averaging the vectors of games the user liked, weighted by how highly they were rated. The system then compares this profile to the rest of the games (filtered by user constraints like age or playtime), and recommends the top k games with the highest cosine similarity to the user's profile.\n"
      ]
    },
    {
      "cell_type": "code",
      "execution_count": null,
      "metadata": {
        "id": "SABc8su2IL1E"
      },
      "outputs": [],
      "source": [
        "def recommend_content_based_basic(user_name, games, reviews, top_k=10, testing=False, max_playingtime=None, min_age=None, minplayers=None, maxplayers=None, min_rating=None):\n",
        "    # Filter games based on user preferences\n",
        "    filtered_games = games.copy()\n",
        "\n",
        "    if max_playingtime is not None:\n",
        "        filtered_games = filtered_games[filtered_games[\"playingtime\"] <= max_playingtime]\n",
        "    if min_age is not None:\n",
        "        filtered_games = filtered_games[filtered_games[\"minage\"] >= min_age]\n",
        "    if minplayers is not None:\n",
        "        filtered_games = filtered_games[filtered_games[\"minplayers\"] <= minplayers]\n",
        "    if maxplayers is not None:\n",
        "        filtered_games = filtered_games[filtered_games[\"maxplayers\"] >= maxplayers]\n",
        "    if min_rating is not None:\n",
        "        filtered_games = filtered_games[filtered_games[\"rating\"] >= min_rating]\n",
        "\n",
        "    if filtered_games.empty:\n",
        "        print(\"No games match the provided filters.\")\n",
        "        return\n",
        "\n",
        "    # Get games the user liked\n",
        "    liked_game_ids = reviews[(reviews[\"user\"] == user_name) & (reviews[\"rating\"] >= 6)]\n",
        "    liked_vectors = liked_game_ids.merge(games[[\"id\", \"glove_vector\"]], left_on=\"ID\", right_on=\"id\")\n",
        "\n",
        "    if liked_vectors.empty:\n",
        "        print(\"Not enough liked games with vectors to build a profile.\")\n",
        "        return\n",
        "\n",
        "    # Build user profile (weighted average)\n",
        "    ratings = liked_vectors[\"rating\"].values\n",
        "    weights = ratings / ratings.max()\n",
        "    vectors = np.vstack(liked_vectors[\"glove_vector\"])\n",
        "    user_profile = np.average(vectors, axis=0, weights=weights)\n",
        "\n",
        "    if not testing:\n",
        "        # Remove already liked games from recommendations\n",
        "        unseen_mask = ~filtered_games[\"id\"].isin(liked_game_ids[\"ID\"])\n",
        "        filtered_games = filtered_games[unseen_mask]\n",
        "\n",
        "    if filtered_games.empty:\n",
        "        print(\"No new games to recommend after filtering out liked ones\")\n",
        "        return\n",
        "\n",
        "    # Calculate similarity\n",
        "    game_vectors = np.vstack(filtered_games[\"glove_vector\"].values)\n",
        "    similarities = cosine_similarity(game_vectors, [user_profile]).flatten()\n",
        "\n",
        "    # Select top_k most similar games\n",
        "    filtered_games = filtered_games.copy()\n",
        "    filtered_games[\"similarity\"] = similarities\n",
        "    recommended_games = filtered_games.sort_values(by=\"similarity\", ascending=False).head(top_k)\n",
        "\n",
        "    # Generate personalized explanations\n",
        "    explanations = []\n",
        "    for game_id in recommended_games[\"id\"]:\n",
        "        # Find most similar liked game\n",
        "        similarities_to_liked = cosine_similarity(\n",
        "            [games.loc[games[\"id\"] == game_id, \"glove_vector\"].values[0]],\n",
        "            liked_vectors[\"glove_vector\"].tolist()\n",
        "        ).flatten()\n",
        "        most_similar_game_idx = np.argmax(similarities_to_liked)\n",
        "        most_similar_game_id = liked_game_ids.iloc[most_similar_game_idx][\"ID\"]\n",
        "        most_similar_game_name = games.loc[games[\"id\"] == most_similar_game_id, \"name\"].values[0]\n",
        "        most_similar_rating = liked_game_ids.iloc[most_similar_game_idx][\"rating\"]\n",
        "\n",
        "        # Vibe and emotion\n",
        "        predicted_vibe = games.loc[games[\"id\"] == game_id, \"predicted_vibe\"].values[0]\n",
        "        predicted_emotion = games.loc[games[\"id\"] == game_id, \"predicted_emotion\"].values[0]\n",
        "\n",
        "        explanation = (\n",
        "            f\"I recommend this game because you liked '{most_similar_game_name}' \"\n",
        "            f\"(you rated it {most_similar_rating}/10). \"\n",
        "            f\"This game has a '{predicted_emotion}' feeling and is '{predicted_vibe}'.\"\n",
        "        )\n",
        "        explanations.append(explanation)\n",
        "\n",
        "    recommended_games[\"explanation\"] = explanations\n",
        "\n",
        "    return recommended_games[[\"name\", \"rating\", \"id\", \"similarity\", \"explanation\"]]"
      ]
    },
    {
      "cell_type": "code",
      "execution_count": null,
      "metadata": {
        "colab": {
          "base_uri": "https://localhost:8080/",
          "height": 218
        },
        "id": "C8J8-4NXIRIo",
        "outputId": "94f37c34-2d46-49a6-bb1e-258f1e24836e"
      },
      "outputs": [],
      "source": [
        "user_name = \"jbuergel\"\n",
        "recommendations = recommend_content_based_basic(\n",
        "    user_name,\n",
        "    games,\n",
        "    filtered_reviews,\n",
        "    max_playingtime=60,\n",
        "    min_age=12,\n",
        "    minplayers=2,\n",
        "    maxplayers=4,\n",
        "    min_rating=6\n",
        ")\n",
        "\n",
        "print(f\"Recommended games for user '{user_name}'\")\n",
        "print(recommendations)"
      ]
    },
    {
      "cell_type": "code",
      "execution_count": null,
      "metadata": {
        "id": "4rsxmnsWQlQE"
      },
      "outputs": [],
      "source": [
        "if recommendations is not None:\n",
        "    for idx, row in recommendations.iterrows():\n",
        "        print(f\"{row['name']} (Rating: {row['rating']:.2f})\")\n",
        "        print(f\"Similarity: {row['similarity']:.2f}\")\n",
        "        print(f\"{row['explanation']}\\n\")"
      ]
    },
    {
      "cell_type": "markdown",
      "metadata": {
        "id": "v3yJS9r2KYAm"
      },
      "source": [
        "##### MMR diversity content-based system"
      ]
    },
    {
      "cell_type": "markdown",
      "metadata": {
        "id": "Z9rMCZU_ymUK"
      },
      "source": [
        "In this method, we extend the basic content-based recommender by incorporating a diversitystrategy known as Maximal Marginal Relevance (MMR).\n",
        "\n",
        "While the basic model focuses only on recommending games that are most similar to the user's profile, it can result in suggestions that are too similar to each other.\n",
        "\n",
        "MMR addresses this by balancing relevance (similarity to the user) with diversity (dissimilarity among recommended items). At each step, the algorithm selects the next best game that is both similar to the user's interests and sufficiently different from previously selected games.\n",
        "\n",
        "This allows us to give recommendations that are not only aligned with the user's tastes but also more varied."
      ]
    },
    {
      "cell_type": "code",
      "execution_count": null,
      "metadata": {
        "id": "wbX33tmGGxIC"
      },
      "outputs": [],
      "source": [
        "def mmr(user_profile, candidate_vectors, candidate_ids, lambda_param=0.7, top_k=10):\n",
        "    selected = []\n",
        "    selected_ids = []\n",
        "    candidate_indices = list(range(len(candidate_vectors)))\n",
        "\n",
        "    similarities_to_user = cosine_similarity(candidate_vectors, [user_profile]).flatten()\n",
        "    similarity_matrix = cosine_similarity(candidate_vectors)\n",
        "\n",
        "    for _ in range(top_k):\n",
        "        mmr_scores = []\n",
        "        for idx in candidate_indices:\n",
        "            if not selected:\n",
        "                diversity_penalty = 0\n",
        "            else:\n",
        "                diversity_penalty = max(similarity_matrix[idx][j] for j in selected)\n",
        "\n",
        "            mmr_score = lambda_param * similarities_to_user[idx] - (1 - lambda_param) * diversity_penalty\n",
        "            mmr_scores.append((idx, mmr_score))\n",
        "\n",
        "        selected_idx, _ = max(mmr_scores, key=lambda x: x[1])\n",
        "        selected.append(selected_idx)\n",
        "        selected_ids.append(candidate_ids[selected_idx])\n",
        "        candidate_indices.remove(selected_idx)\n",
        "\n",
        "    return selected_ids"
      ]
    },
    {
      "cell_type": "code",
      "execution_count": null,
      "metadata": {
        "id": "gyRVicPLJA4B"
      },
      "outputs": [],
      "source": [
        "def visualize_mmr(user_vector, candidate_vectors, candidate_ids, game_names, lambda_param=0.7, top_k=10):\n",
        "    # Get top-k by similarity\n",
        "    relevance = cosine_similarity(candidate_vectors, [user_vector]).flatten()\n",
        "    top_k_indices = relevance.argsort()[::-1][:top_k]\n",
        "    top_k_ids = [candidate_ids[i] for i in top_k_indices]\n",
        "\n",
        "    # Get top-k using MMR\n",
        "    mmr_ids = mmr(user_vector, candidate_vectors, candidate_ids, lambda_param, top_k)\n",
        "\n",
        "    # Reduce dimensions for plotting\n",
        "    pca = PCA(n_components=2)\n",
        "    reduced = pca.fit_transform(np.vstack([user_vector, candidate_vectors]))\n",
        "    user_p = reduced[0]\n",
        "    candidates_p = reduced[1:]\n",
        "\n",
        "    plt.figure(figsize=(10, 7))\n",
        "    plt.scatter(candidates_p[:, 0], candidates_p[:, 1], c='lightgray', label=\"All Candidates\", alpha=0.5)\n",
        "\n",
        "    # Plot user profile\n",
        "    plt.scatter(user_p[0], user_p[1], c='blue', label=\"User Profile\", marker='X', s=100)\n",
        "\n",
        "    # Plot top-k by similarity\n",
        "    for idx in top_k_indices:\n",
        "        plt.scatter(candidates_p[idx, 0], candidates_p[idx, 1], c='green', label=\"Top-k Similarity\" if idx == top_k_indices[0] else \"\", edgecolors='black')\n",
        "        plt.text(candidates_p[idx, 0], candidates_p[idx, 1], game_names[candidate_ids[idx]], fontsize=8, color='darkgreen')\n",
        "\n",
        "    # Plot MMR-selected games\n",
        "    for mmr_id in mmr_ids:\n",
        "        i = candidate_ids.index(mmr_id)\n",
        "        plt.scatter(candidates_p[i, 0], candidates_p[i, 1], c='orange', label=\"Top-k MMR\" if mmr_id == mmr_ids[0] else \"\", edgecolors='black')\n",
        "        plt.text(candidates_p[i, 0], candidates_p[i, 1], game_names[mmr_id], fontsize=8, color='darkorange')\n",
        "\n",
        "    plt.legend()\n",
        "    plt.title(f\"MMR vs Top-k Similarity (λ = {lambda_param})\")\n",
        "    plt.xlabel(\"PCA Component 1\")\n",
        "    plt.ylabel(\"PCA Component 2\")\n",
        "    plt.grid(True)\n",
        "    plt.show()"
      ]
    },
    {
      "cell_type": "code",
      "execution_count": null,
      "metadata": {
        "id": "ZwwkjaSZHzSp"
      },
      "outputs": [],
      "source": [
        "def recommend_content_based_mmr(user_name, games, reviews, top_k=10, testing=False, max_playingtime=None, min_age=None, minplayers=None, maxplayers=None, min_rating=6, plot=False):\n",
        "    # Filter games based on user preferences\n",
        "    filtered_games = games.copy()\n",
        "\n",
        "    if max_playingtime is not None:\n",
        "        filtered_games = filtered_games[filtered_games[\"playingtime\"] <= max_playingtime]\n",
        "    if min_age is not None:\n",
        "        filtered_games = filtered_games[filtered_games[\"minage\"] >= min_age]\n",
        "    if minplayers is not None:\n",
        "        filtered_games = filtered_games[filtered_games[\"minplayers\"] <= minplayers]\n",
        "    if maxplayers is not None:\n",
        "        filtered_games = filtered_games[filtered_games[\"maxplayers\"] >= maxplayers]\n",
        "    if min_rating is not None:\n",
        "        filtered_games = filtered_games[filtered_games[\"rating\"] >= min_rating]\n",
        "\n",
        "    if filtered_games.empty:\n",
        "        print(\"No games match the provided filters.\")\n",
        "        return\n",
        "\n",
        "    # Get games the user liked\n",
        "    liked_game_ids = reviews[(reviews[\"user\"] == user_name) & (reviews[\"rating\"] >= 6)]\n",
        "    liked_vectors = liked_game_ids.merge(games[[\"id\", \"glove_vector\"]], left_on=\"ID\", right_on=\"id\")\n",
        "\n",
        "    if liked_vectors.empty:\n",
        "        print(\"Not enough liked games with vectors to build a profile.\")\n",
        "        return\n",
        "\n",
        "    # Build user profile (weighted average)\n",
        "    ratings = liked_vectors[\"rating\"].values\n",
        "    weights = ratings / ratings.max()\n",
        "    vectors = np.vstack(liked_vectors[\"glove_vector\"])\n",
        "    user_profile = np.average(vectors, axis=0, weights=weights)\n",
        "\n",
        "    if not testing:\n",
        "        # Remove already liked games from recommendations\n",
        "        unseen_mask = ~filtered_games[\"id\"].isin(liked_game_ids[\"ID\"])\n",
        "        filtered_games = filtered_games[unseen_mask]\n",
        "\n",
        "    if filtered_games.empty:\n",
        "        print(\"No new games to recommend after filtering out liked ones.\")\n",
        "        return\n",
        "\n",
        "    # Prepare data for MMR\n",
        "    game_vectors = np.vstack(filtered_games[\"glove_vector\"].values)\n",
        "    similarities = cosine_similarity(game_vectors, [user_profile]).flatten()\n",
        "\n",
        "    # Apply MMR for diversity\n",
        "    selected_ids = mmr(user_profile, game_vectors, filtered_games[\"id\"].tolist(), lambda_param=0.7, top_k=top_k)\n",
        "    recommended_games = filtered_games[filtered_games[\"id\"].isin(selected_ids)].copy()\n",
        "\n",
        "    # Add similarity score for interpretability\n",
        "    recommended_games[\"similarity\"] = similarities[[filtered_games[\"id\"].tolist().index(i) for i in selected_ids]]\n",
        "\n",
        "    # Generate personalized explanations with vibe and emotion\n",
        "    explanations = []\n",
        "    for game_id in selected_ids:\n",
        "        # Find the most similar liked game\n",
        "        similarities_to_liked_games = cosine_similarity([games.loc[games[\"id\"] == game_id, \"glove_vector\"].values[0]], liked_vectors[\"glove_vector\"].tolist()).flatten()\n",
        "        most_similar_game_idx = np.argmax(similarities_to_liked_games)\n",
        "        most_similar_game_id = liked_game_ids.iloc[most_similar_game_idx][\"ID\"]\n",
        "        most_similar_game_name = games.loc[games[\"id\"] == most_similar_game_id, \"name\"].values[0]\n",
        "        most_similar_rating = liked_game_ids.iloc[most_similar_game_idx][\"rating\"]\n",
        "\n",
        "        # Get predicted vibe and emotion for the recommended game\n",
        "        predicted_vibe = games.loc[games[\"id\"] == game_id, \"predicted_vibe\"].values[0]\n",
        "        predicted_emotion = games.loc[games[\"id\"] == game_id, \"predicted_emotion\"].values[0]\n",
        "\n",
        "        # Generate the explanation\n",
        "        explanation = (\n",
        "            f\"I recommend this game because you liked '{most_similar_game_name}' \"\n",
        "            f\"(you rated it {most_similar_rating}/10). \"\n",
        "            f\"This game has a '{predicted_emotion}' feeling and is '{predicted_vibe}'.\"\n",
        "        )\n",
        "        explanations.append(explanation)\n",
        "\n",
        "    recommended_games[\"explanation\"] = explanations\n",
        "\n",
        "    if plot:\n",
        "        visualize_mmr(user_profile, game_vectors, filtered_games[\"id\"].tolist(), dict(zip(games[\"id\"], games[\"name\"])), lambda_param=0.7, top_k=top_k)\n",
        "\n",
        "    return recommended_games[[\"name\", \"rating\", \"id\", \"similarity\", \"explanation\"]]"
      ]
    },
    {
      "cell_type": "code",
      "execution_count": null,
      "metadata": {
        "id": "Yq33Ckp7CQ8A"
      },
      "outputs": [],
      "source": [
        "user_name = \"jbuergel\"\n",
        "recommendations = recommend_content_based_mmr(\n",
        "    user_name,\n",
        "    games,\n",
        "    filtered_reviews,\n",
        "    max_playingtime=60,\n",
        "    min_age=12,\n",
        "    minplayers=2,\n",
        "    maxplayers=4,\n",
        "    min_rating=6,\n",
        "    plot = True)\n",
        "\n",
        "print(f\"Recommended games for user '{user_name}'\")\n",
        "print(recommendations)"
      ]
    },
    {
      "cell_type": "code",
      "execution_count": null,
      "metadata": {
        "id": "xYDV-2MCPwQC"
      },
      "outputs": [],
      "source": [
        "if recommendations is not None:\n",
        "    for idx, row in recommendations.iterrows():\n",
        "        print(f\"{row['name']} (Rating: {row['rating']:.2f})\")\n",
        "        print(f\"Similarity: {row['similarity']:.2f}\")\n",
        "        print(f\"{row['explanation']}\\n\")"
      ]
    },
    {
      "cell_type": "markdown",
      "metadata": {
        "id": "0izSSk24KcXe"
      },
      "source": [
        "##### Cluster diversity content-based system"
      ]
    },
    {
      "cell_type": "markdown",
      "metadata": {
        "id": "-gm9wlKTzPoZ"
      },
      "source": [
        "This other method introduces diversity by grouping candidate games into clusters before selecting recommendations. Instead of simply picking the most similar games overall, we first apply K-Means clustering to partition the games into different groups based on their GloVe embeddings.\n",
        "\n",
        "Then, we select top candidates from multiple clusters, ensuring that the recommendations are not only relevant to the user's preferences but also draen from different thematic areas within the dataset."
      ]
    },
    {
      "cell_type": "code",
      "execution_count": null,
      "metadata": {
        "id": "xi9IZNNJJm19"
      },
      "outputs": [],
      "source": [
        "def visualize_clusters(user_profile, game_vectors, cluster_labels, candidate_ids, recommended_ids, id_to_name):\n",
        "    # Reduce dimensions with PCA\n",
        "    pca = PCA(n_components=2)\n",
        "    all_points = np.vstack([user_profile, game_vectors])\n",
        "    pca_result = pca.fit_transform(all_points)\n",
        "\n",
        "    user_pca = pca_result[0]\n",
        "    games_pca = pca_result[1:]\n",
        "\n",
        "    plt.figure(figsize=(10, 7))\n",
        "\n",
        "    # Plot games, colored by cluster\n",
        "    for cluster in np.unique(cluster_labels):\n",
        "        idxs = np.where(cluster_labels == cluster)[0]\n",
        "        plt.scatter(games_pca[idxs, 0], games_pca[idxs, 1], label=f\"Cluster {cluster}\", alpha=0.6)\n",
        "\n",
        "    # Highlight recommended games and display their names below\n",
        "    recommended_idxs = [candidate_ids.index(i) for i in recommended_ids if i in candidate_ids]\n",
        "    for idx in recommended_idxs:\n",
        "        x, y = games_pca[idx, 0], games_pca[idx, 1]\n",
        "        plt.scatter(x, y, s=20, color='black')  # Black dot for recommended games\n",
        "        # Display the game name below the point\n",
        "        plt.text(x, y - 0.05, id_to_name[candidate_ids[idx]], fontsize=10, color='black', ha='center')\n",
        "\n",
        "    # Plot user profile\n",
        "    plt.scatter(user_pca[0], user_pca[1], color='red', s=150, marker='X', label='User Profile')\n",
        "\n",
        "    # Set the plot labels and title\n",
        "    plt.xlabel(\"PCA 1\", fontsize=14)\n",
        "    plt.ylabel(\"PCA 2\", fontsize=14)\n",
        "    plt.title(\"PCA Projection of Game Clusters\", fontsize=16)\n",
        "\n",
        "    # Add legend and grid\n",
        "    plt.legend(loc=\"best\", fontsize=12)\n",
        "    plt.xticks(fontsize=12)\n",
        "    plt.yticks(fontsize=12)\n",
        "    plt.grid(True, linestyle='--', alpha=0.7)\n",
        "\n",
        "    # Show the plot\n",
        "    plt.show()"
      ]
    },
    {
      "cell_type": "code",
      "execution_count": null,
      "metadata": {
        "id": "s0EUFg96Ihik"
      },
      "outputs": [],
      "source": [
        "def recommend_content_based_cluster(user_name, games, reviews, top_k=10, testing = False, max_playingtime=None, min_age=None, minplayers=None, maxplayers=None, min_rating=None, n_clusters=5, plot=False):\n",
        "    # Filter games based on user preferences\n",
        "    filtered_games = games.copy()\n",
        "\n",
        "    if max_playingtime is not None:\n",
        "        filtered_games = filtered_games[filtered_games[\"playingtime\"] <= max_playingtime]\n",
        "    if min_age is not None:\n",
        "        filtered_games = filtered_games[filtered_games[\"minage\"] >= min_age]\n",
        "    if minplayers is not None:\n",
        "        filtered_games = filtered_games[filtered_games[\"minplayers\"] <= minplayers]\n",
        "    if maxplayers is not None:\n",
        "        filtered_games = filtered_games[filtered_games[\"maxplayers\"] >= maxplayers]\n",
        "    if min_rating is not None:\n",
        "        filtered_games = filtered_games[filtered_games[\"rating\"] >= min_rating]\n",
        "\n",
        "    if filtered_games.empty:\n",
        "        print(\"No games match the provided filters.\")\n",
        "        return\n",
        "\n",
        "    # Get games the user liked\n",
        "    liked_game_ids = reviews[(reviews[\"user\"] == user_name) & (reviews[\"rating\"] >= 6)]\n",
        "    liked_vectors = liked_game_ids.merge(games[[\"id\", \"glove_vector\"]], left_on=\"ID\", right_on=\"id\")\n",
        "\n",
        "    if liked_vectors.empty:\n",
        "        print(\"Not enough liked games with vectors to build a profile.\")\n",
        "        return\n",
        "\n",
        "    # Build user profile (weighted average)\n",
        "    ratings = liked_vectors[\"rating\"].values\n",
        "    weights = ratings / ratings.max()\n",
        "    vectors = np.vstack(liked_vectors[\"glove_vector\"])\n",
        "    user_profile = np.average(vectors, axis=0, weights=weights)\n",
        "\n",
        "    if not testing:\n",
        "    # Remove already liked games from recommendations\n",
        "        unseen_mask = ~filtered_games[\"id\"].isin(liked_game_ids[\"ID\"])\n",
        "        filtered_games = filtered_games[unseen_mask]\n",
        "\n",
        "    if filtered_games.empty:\n",
        "        print(\"No new games to recommend after filtering out liked ones\")\n",
        "        return\n",
        "\n",
        "    # Cluster candidate games\n",
        "    game_vectors = np.vstack(filtered_games[\"glove_vector\"].values)\n",
        "    candidate_ids = filtered_games[\"id\"].tolist()\n",
        "    kmeans = KMeans(n_clusters=n_clusters, random_state=42)\n",
        "    cluster_labels = kmeans.fit_predict(game_vectors)\n",
        "\n",
        "    # Compute similarities\n",
        "    similarities = cosine_similarity(game_vectors, [user_profile]).flatten()\n",
        "\n",
        "    # Pick top games from each cluster\n",
        "    cluster_recommendations = []\n",
        "    for cluster_id in range(n_clusters):\n",
        "        indices_in_cluster = np.where(cluster_labels == cluster_id)[0]\n",
        "        if len(indices_in_cluster) == 0:\n",
        "            continue\n",
        "        # Sort games in cluster by similarity\n",
        "        cluster_sims = similarities[indices_in_cluster]\n",
        "        sorted_idx = indices_in_cluster[np.argsort(cluster_sims)[::-1]]\n",
        "        for i in sorted_idx[:min(top_k // n_clusters + 1, len(sorted_idx))]:\n",
        "            cluster_recommendations.append((candidate_ids[i], similarities[i]))\n",
        "\n",
        "    # Sort all selected games by similarity and return top_k\n",
        "    sorted_final = sorted(cluster_recommendations, key=lambda x: x[1], reverse=True)[:top_k]\n",
        "    selected_ids = [x[0] for x in sorted_final]\n",
        "\n",
        "    recommended_games = filtered_games[filtered_games[\"id\"].isin(selected_ids)].copy()\n",
        "    recommended_games[\"similarity\"] = [x[1] for x in sorted_final]\n",
        "\n",
        "    # Generate personalized explanations with vibe and emotion\n",
        "    explanations = []\n",
        "    for game_id in selected_ids:\n",
        "        # Find the most similar liked game\n",
        "        similarities_to_liked_games = cosine_similarity(\n",
        "            [games.loc[games[\"id\"] == game_id, \"glove_vector\"].values[0]],\n",
        "            liked_vectors[\"glove_vector\"].tolist()\n",
        "        ).flatten()\n",
        "        most_similar_game_idx = np.argmax(similarities_to_liked_games)\n",
        "        most_similar_game_id = liked_game_ids.iloc[most_similar_game_idx][\"ID\"]\n",
        "        most_similar_game_name = games.loc[games[\"id\"] == most_similar_game_id, \"name\"].values[0]\n",
        "        most_similar_rating = liked_game_ids.iloc[most_similar_game_idx][\"rating\"]\n",
        "\n",
        "        # Get predicted vibe and emotion for the recommended game\n",
        "        predicted_vibe = games.loc[games[\"id\"] == game_id, \"predicted_vibe\"].values[0]\n",
        "        predicted_emotion = games.loc[games[\"id\"] == game_id, \"predicted_emotion\"].values[0]\n",
        "\n",
        "        # Generate the explanation\n",
        "        explanation = (\n",
        "            f\"I recommend this game because you liked '{most_similar_game_name}' \"\n",
        "            f\"(you rated it {most_similar_rating}/10). \"\n",
        "            f\"This game has a '{predicted_emotion}' feeling and is '{predicted_vibe}'.\"\n",
        "        )\n",
        "        explanations.append(explanation)\n",
        "\n",
        "    recommended_games[\"explanation\"] = explanations\n",
        "\n",
        "    if plot:\n",
        "        id_to_name = dict(zip(games[\"id\"], games[\"name\"]))\n",
        "        visualize_clusters(user_profile, game_vectors, cluster_labels, candidate_ids, selected_ids, id_to_name)\n",
        "\n",
        "    return recommended_games[[\"name\", \"rating\", \"id\", \"similarity\", \"explanation\"]]"
      ]
    },
    {
      "cell_type": "code",
      "execution_count": null,
      "metadata": {
        "colab": {
          "base_uri": "https://localhost:8080/",
          "height": 218
        },
        "id": "O42Pys1rJdcq",
        "outputId": "8dde0672-eb28-4706-bb28-9c698922f001"
      },
      "outputs": [],
      "source": [
        "user_name = \"Pyrogal\"\n",
        "recommendations = recommend_content_based_cluster(\n",
        "    user_name,\n",
        "    games,\n",
        "    filtered_reviews,\n",
        "    max_playingtime=60,\n",
        "    min_age=12,\n",
        "    minplayers=2,\n",
        "    maxplayers=4,\n",
        "    min_rating=6,\n",
        "    plot = True)\n",
        "print(f\"Recommended games for user '{user_name}'\")\n",
        "print(recommendations)"
      ]
    },
    {
      "cell_type": "code",
      "execution_count": null,
      "metadata": {
        "id": "C3ByGK5GQPqv"
      },
      "outputs": [],
      "source": [
        "if recommendations is not None:\n",
        "    for idx, row in recommendations.iterrows():\n",
        "        print(f\"{row['name']} (Rating: {row['rating']:.2f})\")\n",
        "        print(f\"Similarity: {row['similarity']:.2f}\")\n",
        "        print(f\"{row['explanation']}\\n\")"
      ]
    },
    {
      "cell_type": "markdown",
      "metadata": {
        "id": "vaZ6arA9j_S5"
      },
      "source": [
        "##### Diversity-based RecSys comparison"
      ]
    },
    {
      "cell_type": "markdown",
      "metadata": {
        "id": "0Wzb_8f00D3g"
      },
      "source": [
        "Now we need to evaluate and compare the performance of the three content-based recommendation strategies introduced earlier.\n",
        "\n",
        "The goal is to assess how each method balances accuracy and diversity in the recommendations.\n",
        "\n",
        "We will be using precision and recall at top-k as evaluation metrics, both for an individual user and averaged across multiple users. This allows us to quantify how well each system recovers games the user actually liked, and observe the trade-offs between relevance and variety."
      ]
    },
    {
      "cell_type": "code",
      "execution_count": null,
      "metadata": {
        "id": "j0EiVjH2LLuJ"
      },
      "outputs": [],
      "source": [
        "reviews[(reviews[\"user\"] == 'jbuergel') & (reviews[\"rating\"] >= 6)]"
      ]
    },
    {
      "cell_type": "code",
      "execution_count": null,
      "metadata": {
        "id": "LdWnm6UlL-f0"
      },
      "outputs": [],
      "source": [
        "def get_highly_rated_games(reviews_df, user_name, rating_threshold=6):\n",
        "    user_reviews = reviews_df[(reviews_df[\"user\"] == user_name) & (reviews_df[\"rating\"] >= rating_threshold)]\n",
        "    return user_reviews\n",
        "\n",
        "def precision_recall_manual(user_name, recommendations, highly_rated_games, k=10, threshold=6.0):\n",
        "    relevant_ids = highly_rated_games[\"ID\"].unique()  # All games the user rated highly\n",
        "\n",
        "    # Top-k recommended game IDs\n",
        "    rec_ids = recommendations[\"id\"].head(k).values if not recommendations.empty else []\n",
        "\n",
        "    # True positives\n",
        "    hits = len(set(rec_ids) & set(relevant_ids))\n",
        "\n",
        "    precision = hits / len(rec_ids) if len(rec_ids) > 0 else 0\n",
        "    recall = hits / len(relevant_ids) if len(relevant_ids) > 0 else 0\n",
        "    return precision, recall"
      ]
    },
    {
      "cell_type": "markdown",
      "metadata": {
        "id": "Qtm_Imzq0kY6"
      },
      "source": [
        "We generate recommendations for a user using each of the three methods, applying the same filtering preferences."
      ]
    },
    {
      "cell_type": "code",
      "execution_count": null,
      "metadata": {
        "id": "9mFkeDK5mio6"
      },
      "outputs": [],
      "source": [
        "user1 = \"jbuergel\"\n",
        "highly_rated_games_user1 = get_highly_rated_games(filtered_reviews, user1, rating_threshold=6)"
      ]
    },
    {
      "cell_type": "code",
      "execution_count": null,
      "metadata": {
        "id": "_7Ui-ssiocrl"
      },
      "outputs": [],
      "source": [
        "recs_basic = recommend_content_based_basic(\n",
        "    user1, games, highly_rated_games_user1, testing = True, max_playingtime=60, min_age=12, minplayers=2, maxplayers=4)\n",
        "\n",
        "recs_mmr = recommend_content_based_mmr(\n",
        "    user1, games, highly_rated_games_user1, testing = True,  max_playingtime=60, min_age=12, minplayers=2, maxplayers=4)\n",
        "\n",
        "recs_cluster = recommend_content_based_cluster(\n",
        "    user1, games, highly_rated_games_user1, testing = True, max_playingtime=60, min_age=12, minplayers=2, maxplayers=4)"
      ]
    },
    {
      "cell_type": "code",
      "execution_count": null,
      "metadata": {
        "id": "dNCchCABo9i0"
      },
      "outputs": [],
      "source": [
        "precision_basic, recall_basic = precision_recall_manual(\n",
        "    user1, recs_basic, highly_rated_games_user1, k=5, threshold=6.0)\n",
        "precision_mmr, recall_mmr = precision_recall_manual(\n",
        "    user1, recs_mmr, highly_rated_games_user1, k=5, threshold=6.0)\n",
        "precision_cluster, recall_cluster = precision_recall_manual(\n",
        "    user1, recs_cluster, highly_rated_games_user1, k=5, threshold=6.0)\n",
        "\n",
        "print(f\"Precision@5 Basic: {precision_basic:.4f}\")\n",
        "print(f\"Recall@5 Basic: {recall_basic:.4f}\")\n",
        "\n",
        "print(f\"\\nPrecision@5 MMR: {precision_mmr:.4f}\")\n",
        "print(f\"Recall@5M MRR: {recall_mmr:.4f}\")\n",
        "\n",
        "print(f\"\\nPrecision@5 Cluster: {precision_cluster:.4f}\")\n",
        "print(f\"Recall@5 Cluster: {recall_cluster:.4f}\")"
      ]
    },
    {
      "cell_type": "markdown",
      "metadata": {
        "id": "PWt-M4a61JQx"
      },
      "source": [
        "Now we defined a general evaluation function to assess how each method performs across multiple users, not just one."
      ]
    },
    {
      "cell_type": "code",
      "execution_count": null,
      "metadata": {
        "id": "A9ouT8lW6UaM"
      },
      "outputs": [],
      "source": [
        "def evaluate_multiple_users(reviews_df, games_df, recommend_funcs, k=5, n_users=30, rating_threshold=6.0):\n",
        "    \"\"\"\n",
        "    Evaluate average precision and recall over multiple users who have rated at least one game above the threshold.\n",
        "    \"\"\"\n",
        "    users = reviews_df[\"user\"].unique()\n",
        "    random.shuffle(users)  # shuffle for randomness\n",
        "\n",
        "    results = {method: {\"precision\": [], \"recall\": []} for method in recommend_funcs.keys()}\n",
        "    evaluated_users = 0\n",
        "\n",
        "    for user in users:\n",
        "        highly_rated = get_highly_rated_games(reviews_df, user, rating_threshold)\n",
        "\n",
        "        if highly_rated.empty:\n",
        "            continue  # skip users with no high ratings\n",
        "\n",
        "        for method_name, func in recommend_funcs.items():\n",
        "            recs = func(user, games_df, highly_rated, testing=True,\n",
        "                        max_playingtime=60, min_age=12, minplayers=2, maxplayers=4)\n",
        "\n",
        "            precision, recall = precision_recall_manual(user, recs, highly_rated, k=k, threshold=rating_threshold)\n",
        "            results[method_name][\"precision\"].append(precision)\n",
        "            results[method_name][\"recall\"].append(recall)\n",
        "\n",
        "        evaluated_users += 1\n",
        "        if evaluated_users >= n_users:\n",
        "            break  # stop once we have enough valid users\n",
        "\n",
        "    # Compute average metrics\n",
        "    avg_results = {}\n",
        "    for method, metrics in results.items():\n",
        "        avg_precision = sum(metrics[\"precision\"]) / len(metrics[\"precision\"]) if metrics[\"precision\"] else 0\n",
        "        avg_recall = sum(metrics[\"recall\"]) / len(metrics[\"recall\"]) if metrics[\"recall\"] else 0\n",
        "        avg_results[method] = {\"avg_precision\": avg_precision, \"avg_recall\": avg_recall}\n",
        "\n",
        "    return avg_results"
      ]
    },
    {
      "cell_type": "code",
      "execution_count": null,
      "metadata": {
        "id": "_flyXMK06YOM"
      },
      "outputs": [],
      "source": [
        "recommend_funcs = {\n",
        "    \"basic\": recommend_content_based_basic,\n",
        "    \"mmr\": recommend_content_based_mmr,\n",
        "    \"cluster\": recommend_content_based_cluster\n",
        "}\n",
        "\n",
        "avg_metrics = evaluate_multiple_users(\n",
        "    filtered_reviews, games,\n",
        "    recommend_funcs=recommend_funcs,\n",
        "    k=5, n_users=40, rating_threshold=6.0\n",
        ")\n",
        "\n",
        "for method, metrics in avg_metrics.items():\n",
        "    print(f\"{method.upper()} - Avg Precision@5: {metrics['avg_precision']:.4f}, Avg Recall@5: {metrics['avg_recall']:.4f}\")"
      ]
    },
    {
      "cell_type": "markdown",
      "metadata": {
        "id": "bS0pLaQR4-GQ"
      },
      "source": [
        "##### Hybrid content-based recommender system"
      ]
    },
    {
      "cell_type": "markdown",
      "metadata": {
        "id": "ArxfYuQeG0n5"
      },
      "source": [
        "Now we will try a hybrid recommender system, which is called hybrid because it comines elements from collaborative filtering and content-based filtering.\n",
        "\n",
        "The content-based part is achieved using the GloVe vectors to represent each game, and the collaborative by using user rating behavior.\n",
        "\n",
        "Note we only take the k most similar games. This is done in order to prevent bias towards the weighted mean of the user ratings. When a user has many rated games, the prediction of any of the rest of target games will converge to a number very close to the mean."
      ]
    },
    {
      "cell_type": "code",
      "execution_count": null,
      "metadata": {
        "id": "cB37U4RsvfGF"
      },
      "outputs": [],
      "source": [
        "def predict_rating(user_name, target_game_id, games_df, reviews_df, k=10):\n",
        "    # Get user-rated games\n",
        "    user_reviews = reviews_df[(reviews_df[\"user\"] == user_name)]\n",
        "\n",
        "    if user_reviews.empty:\n",
        "        return \"No reviews found for this user.\"\n",
        "\n",
        "    # Merge with games to get GloVe vectors\n",
        "    user_games = user_reviews.merge(games_df[[\"id\", \"glove_vector\"]], left_on=\"ID\", right_on=\"id\")\n",
        "\n",
        "    if user_games.empty:\n",
        "        return \"User has rated games with no vector information.\"\n",
        "\n",
        "    # Get vector of target game\n",
        "    try:\n",
        "        target_vector = games_df.loc[games_df[\"id\"] == target_game_id, \"glove_vector\"].values[0]\n",
        "    except IndexError:\n",
        "        return \"Target game ID not found in games dataset.\"\n",
        "\n",
        "    # Compute cosine similarities\n",
        "    rated_vectors = np.vstack(user_games[\"glove_vector\"])\n",
        "    similarities = cosine_similarity(rated_vectors, [target_vector]).flatten()\n",
        "    similarities = np.maximum(similarities, 0)  # Ensure no negatives\n",
        "\n",
        "    ratings = user_games[\"rating\"].values\n",
        "\n",
        "    # Get indices of top-k similar games\n",
        "    if len(similarities) < k:\n",
        "        k = len(similarities)\n",
        "    top_k_idx = np.argsort(similarities)[-k:]\n",
        "\n",
        "    top_similarities = similarities[top_k_idx]\n",
        "    top_ratings = ratings[top_k_idx]\n",
        "\n",
        "    if top_similarities.sum() == 0:\n",
        "        return \"No sufficiently similar games found.\"\n",
        "\n",
        "    # Weighted average using top-k\n",
        "    predicted_rating = np.average(top_ratings, weights=top_similarities)\n",
        "\n",
        "    return round(predicted_rating, 2)"
      ]
    },
    {
      "cell_type": "code",
      "execution_count": null,
      "metadata": {
        "id": "mm6Itc5ITklq"
      },
      "outputs": [],
      "source": [
        "def predict_rating_with_explanation(user_name, target_game_id, games_df, reviews_df, k=10):\n",
        "    user_reviews = reviews_df[reviews_df[\"user\"] == user_name]\n",
        "    if user_reviews.empty:\n",
        "        return None, \"No reviews found for this user.\"\n",
        "\n",
        "    user_games = user_reviews.merge(games_df[[\"id\", \"glove_vector\", \"name\"]], left_on=\"ID\", right_on=\"id\")\n",
        "    if user_games.empty:\n",
        "        return None, \"User has rated games with no vector information.\"\n",
        "    try:\n",
        "        target_vector = games_df.loc[games_df[\"id\"] == target_game_id, \"glove_vector\"].values[0]\n",
        "    except IndexError:\n",
        "        return None, \"Target game ID not found in games dataset.\"\n",
        "\n",
        "    rated_vectors = np.vstack(user_games[\"glove_vector\"])\n",
        "    similarities = cosine_similarity(rated_vectors, [target_vector]).flatten()\n",
        "    similarities = np.maximum(similarities, 0)\n",
        "\n",
        "    ratings = user_games[\"rating\"].values\n",
        "\n",
        "    if len(similarities) < k:\n",
        "        k = len(similarities)\n",
        "    top_k_idx = np.argsort(similarities)[-k:]\n",
        "\n",
        "    top_similarities = similarities[top_k_idx]\n",
        "    top_ratings = ratings[top_k_idx]\n",
        "    top_game_names = user_games.iloc[top_k_idx][\"name_y\"].tolist()\n",
        "\n",
        "    if top_similarities.sum() == 0:\n",
        "        return None, \"No sufficiently similar games found.\"\n",
        "\n",
        "    predicted_rating = round(np.average(top_ratings, weights=top_similarities), 2)\n",
        "\n",
        "    # Build explanation\n",
        "    if len(top_game_names) == 1:\n",
        "        explanation = f\"Because you liked **{top_game_names[0]}**, and this game is similar to it.\"\n",
        "    elif len(top_game_names) == 2:\n",
        "        explanation = f\"Because you liked **{top_game_names[0]}** and **{top_game_names[1]}**, and this game is similar to both.\"\n",
        "    else:\n",
        "        explanation = f\"Because you liked games like **{top_game_names[0]}**, **{top_game_names[1]}**, and others.\"\n",
        "\n",
        "    return predicted_rating, explanation"
      ]
    },
    {
      "cell_type": "markdown",
      "metadata": {
        "id": "OKFX8XVa6Cmf"
      },
      "source": [
        "The next code is to check range of predictions in all target games"
      ]
    },
    {
      "cell_type": "code",
      "execution_count": null,
      "metadata": {
        "id": "ob4SE1pI3i9n"
      },
      "outputs": [],
      "source": [
        "def predict_all_ratings(user_name, games_df, reviews_df, k=10):\n",
        "    # Get user-rated games and their vectors\n",
        "    user_reviews = reviews_df[reviews_df[\"user\"] == user_name]\n",
        "    if user_reviews.empty:\n",
        "        return \"No reviews found for this user.\"\n",
        "\n",
        "    user_games = user_reviews.merge(games_df[[\"id\", \"glove_vector\"]], left_on=\"ID\", right_on=\"id\")\n",
        "    if user_games.empty:\n",
        "        return \"User has rated games with no vector information.\"\n",
        "\n",
        "    rated_vectors = np.vstack(user_games[\"glove_vector\"])\n",
        "    rated_ratings = user_games[\"rating\"].values\n",
        "    rated_names = user_games[\"name\"].tolist()\n",
        "\n",
        "    # Games not yet rated by user\n",
        "    unseen_games = games_df[~games_df[\"id\"].isin(user_games[\"id\"])].copy()\n",
        "    if unseen_games.empty:\n",
        "        return \"No unseen games to predict ratings for.\"\n",
        "\n",
        "    predicted_ratings = []\n",
        "\n",
        "    for _, game in unseen_games.iterrows():\n",
        "        target_vector = game[\"glove_vector\"]\n",
        "\n",
        "        # Cosine similarity with all user-rated games\n",
        "        similarities = cosine_similarity(rated_vectors, [target_vector]).flatten()\n",
        "        similarities = np.maximum(similarities, 0)\n",
        "\n",
        "        # Select top-k most similar games\n",
        "        if len(similarities) < k:\n",
        "            k_adj = len(similarities)\n",
        "        else:\n",
        "            k_adj = k\n",
        "\n",
        "        top_k_idx = np.argsort(similarities)[-k_adj:]\n",
        "        top_similarities = similarities[top_k_idx]\n",
        "        top_ratings = rated_ratings[top_k_idx]\n",
        "        top_game_names = [rated_names[i] for i in top_k_idx]\n",
        "\n",
        "        if top_similarities.sum() == 0:\n",
        "            pred_rating = np.nan\n",
        "            explanation = \"No sufficiently similar games found.\"\n",
        "        else:\n",
        "            pred_rating = np.average(top_ratings, weights=top_similarities)\n",
        "            # Build explanation\n",
        "            if len(top_game_names) == 1:\n",
        "                explanation = f\"Because you liked **{top_game_names[0]}**, and this game is similar to it.\"\n",
        "            elif len(top_game_names) == 2:\n",
        "                explanation = f\"Because you liked **{top_game_names[0]}** and **{top_game_names[1]}**, and this game is similar to both.\"\n",
        "            else:\n",
        "                explanation = f\"Because you liked games like **{top_game_names[0]}**, **{top_game_names[1]}**, and others.\"\n",
        "\n",
        "        predicted_ratings.append((game[\"id\"], game[\"name\"], round(pred_rating, 2) if not np.isnan(pred_rating) else None, explanation))\n",
        "\n",
        "    # Return as a DataFrame\n",
        "    pred_df = pd.DataFrame(predicted_ratings, columns=[\"id\", \"name\", \"predicted_rating\", \"explanation\"])\n",
        "    pred_df = pred_df.sort_values(by=\"predicted_rating\", ascending=False)\n",
        "\n",
        "    return pred_df"
      ]
    },
    {
      "cell_type": "code",
      "execution_count": null,
      "metadata": {
        "id": "C4YBFm5v3mxq"
      },
      "outputs": [],
      "source": [
        "predictions_df = predict_all_ratings(\"jbuergel\", games, reviews, k=10)\n",
        "predictions_df"
      ]
    },
    {
      "cell_type": "markdown",
      "metadata": {
        "id": "ypwvQNAIHsn6"
      },
      "source": [
        "It is important, however, to test different values of k (number of similar items considered), since this can affect the predictions:\n",
        "\n",
        "*   A small k uses the most similar items, hence it is more personalized but probably noisier.\n",
        "*   A large k uses more items, hence smoother predictions but more biased towards the average."
      ]
    },
    {
      "cell_type": "code",
      "execution_count": null,
      "metadata": {
        "id": "TrHI5aJxcAlJ"
      },
      "outputs": [],
      "source": [
        "def split_reviews_for_user(reviews_df, user_name, test_size=0.3, random_state=42):\n",
        "    user_reviews = reviews_df[reviews_df[\"user\"] == user_name]\n",
        "\n",
        "    if user_reviews.empty:\n",
        "        raise ValueError(f\"No reviews found for user {user_name}\")\n",
        "\n",
        "    # Split the reviews into train and test\n",
        "    train_reviews, test_reviews = train_test_split(user_reviews, test_size=test_size, random_state=random_state)\n",
        "\n",
        "    return train_reviews, test_reviews"
      ]
    },
    {
      "cell_type": "code",
      "execution_count": null,
      "metadata": {
        "id": "1qVCyY8KLOxk"
      },
      "outputs": [],
      "source": [
        "def predict_all_ratings_k_values_with_rmse(user_name, games_df, reviews_df, test_df, k_values=[5, 10]):\n",
        "    results = {}\n",
        "\n",
        "    # Prepare user data\n",
        "    user_train = reviews_df[reviews_df[\"user\"] == user_name]\n",
        "    test_data = test_df[test_df[\"user\"] == user_name]\n",
        "\n",
        "    if user_train.empty or test_data.empty:\n",
        "        return \"Not enough data for user\"\n",
        "\n",
        "    user_games = user_train.merge(games_df[[\"id\", \"glove_vector\"]], left_on=\"ID\", right_on=\"id\")\n",
        "    rated_vectors = np.vstack(user_games[\"glove_vector\"])\n",
        "    rated_ratings = user_games[\"rating\"].values\n",
        "\n",
        "    for k in k_values:\n",
        "        predicted = []\n",
        "        actual = []\n",
        "\n",
        "        for _, game in test_data.iterrows():\n",
        "            game_id = game[\"ID\"]\n",
        "            true_rating = game[\"rating\"]\n",
        "            try:\n",
        "                target_vector = games_df.loc[games_df[\"id\"] == game_id, \"glove_vector\"].values[0]\n",
        "            except IndexError:\n",
        "                continue\n",
        "\n",
        "            sims = cosine_similarity(rated_vectors, [target_vector]).flatten()\n",
        "            sims = np.maximum(sims, 0)\n",
        "            top_k_idx = np.argsort(sims)[-k:]\n",
        "            top_sims = sims[top_k_idx]\n",
        "            top_ratings = rated_ratings[top_k_idx]\n",
        "\n",
        "            if top_sims.sum() == 0:\n",
        "                continue\n",
        "\n",
        "            pred_rating = np.average(top_ratings, weights=top_sims)\n",
        "            predicted.append(pred_rating)\n",
        "            actual.append(true_rating)\n",
        "\n",
        "        if predicted:\n",
        "            rmse = sqrt(mean_squared_error(actual, predicted))\n",
        "            results[k] = rmse\n",
        "\n",
        "    return results"
      ]
    },
    {
      "cell_type": "code",
      "execution_count": null,
      "metadata": {
        "id": "dlt_Dl2nHsRg"
      },
      "outputs": [],
      "source": [
        "user = \"jbuergel\"\n",
        "train_df, test_df = split_reviews_for_user(filtered_reviews, user)\n",
        "\n",
        "rmse_by_k = predict_all_ratings_k_values_with_rmse(\n",
        "    user_name=user,\n",
        "    games_df=games,\n",
        "    reviews_df=train_df,   # this is used for building the user profile\n",
        "    test_df=test_df,       # this is used for evaluating predictions\n",
        "    k_values=[3, 5, 10, 15, 20, 30, 40, 50]\n",
        ")\n",
        "rmse_by_k"
      ]
    },
    {
      "cell_type": "code",
      "execution_count": null,
      "metadata": {
        "id": "km_foRkRK763"
      },
      "outputs": [],
      "source": [
        "ks = list(rmse_by_k.keys())\n",
        "rmse_values = list(rmse_by_k.values())\n",
        "\n",
        "plt.figure(figsize=(8, 5))\n",
        "plt.plot(ks, rmse_values, marker='o')\n",
        "plt.title(\"RMSE vs. k in Hybrid Content-Based Recommender\")\n",
        "plt.xlabel(\"k (Top-k similar games used)\")\n",
        "plt.ylabel(\"RMSE\")\n",
        "plt.grid(True)\n",
        "plt.xticks(ks)\n",
        "plt.show()"
      ]
    },
    {
      "cell_type": "code",
      "execution_count": null,
      "metadata": {
        "id": "2CuKCJsfcAlJ"
      },
      "outputs": [],
      "source": [
        "predictions_df = predict_rating(\"jbuergel\", 13, games, reviews, k=10)\n",
        "predictions_df"
      ]
    },
    {
      "cell_type": "code",
      "execution_count": null,
      "metadata": {
        "id": "kxUobUeYTm5q"
      },
      "outputs": [],
      "source": [
        "predicted_score, explanation = predict_rating_with_explanation(\"jbuergel\", 13, games, reviews, k=10)\n",
        "if predicted_score is not None:\n",
        "    print(f\"You’d probably rate this game {predicted_score}/10\")\n",
        "    print(explanation)\n",
        "else:\n",
        "    print(explanation)"
      ]
    },
    {
      "cell_type": "markdown",
      "metadata": {
        "id": "WCNDjL0tqApa"
      },
      "source": [
        "##### Cold Start for Hybrid RecSys"
      ]
    },
    {
      "cell_type": "markdown",
      "metadata": {
        "id": "6WovJ2VK66Ye"
      },
      "source": [
        "For this project, it is important to highlight that we considered the so-called 'cold-start' scenarios. Cold-start refers to when a user does not have ratings at all or only a few, which makes collaborative or hybrid recommendations unreliable.\n",
        "\n",
        "Our original hybrid system depends on having enough rated games to compare against, so it doesn't work well when this data is missing.\n",
        "\n",
        "Because of this, we offer two approaches:\n",
        "\n",
        "*   Allow users to manually select a few games they like (simulating initial ratings).\n",
        "*   Recommend games based on popularity and clustering, ensuring relevance and diversity.\n"
      ]
    },
    {
      "cell_type": "markdown",
      "metadata": {
        "id": "vPmJ-4D_r70x"
      },
      "source": [
        "**OPTION 1: Cold start with user choosing three games**"
      ]
    },
    {
      "cell_type": "code",
      "execution_count": null,
      "metadata": {
        "id": "euWEp1v4OsGM"
      },
      "outputs": [],
      "source": [
        "# Simulate cold start user\n",
        "cold_start_user = \"new_user\"\n",
        "\n",
        "# Let’s pretend they selected these game IDs as their favorites\n",
        "liked_game_ids = [12, 91, 170]  # These must exist in games[\"id\"]\n",
        "\n",
        "# Create a pseudo-review dataframe for them\n",
        "cold_reviews = pd.DataFrame({\n",
        "    \"user\": [cold_start_user] * len(liked_game_ids),\n",
        "    \"ID\": liked_game_ids,\n",
        "    \"rating\": [9] * len(liked_game_ids)  # simulate high preference\n",
        "})\n",
        "\n",
        "# Run the recommender with this pseudo-profile\n",
        "cold_recs = recommend_content_based_mmr(\n",
        "    user_name=cold_start_user,\n",
        "    games=games,\n",
        "    reviews=cold_reviews,\n",
        "    top_k=10,\n",
        "    max_playingtime=60,\n",
        "    min_age=12,\n",
        "    minplayers=2,\n",
        "    maxplayers=4,\n",
        "    min_rating=6\n",
        ")\n",
        "\n",
        "print(cold_recs)"
      ]
    },
    {
      "cell_type": "markdown",
      "metadata": {
        "id": "i6ymOg7i3qRy"
      },
      "source": [
        "**OPTION 2: Cold start with popularity-based recommnender**"
      ]
    },
    {
      "cell_type": "markdown",
      "metadata": {
        "id": "twsDtZ6G4FuR"
      },
      "source": [
        "Before implementing the recommender, we explored two things:\n",
        "\n",
        "1.   Choosing the number of clusters using the Elbow method.\n",
        "2.   Visualizing the game space with t-SNE to confirm meaningful clustering.\n",
        "\n"
      ]
    },
    {
      "cell_type": "code",
      "execution_count": null,
      "metadata": {
        "id": "rjVABrDPw1w5"
      },
      "outputs": [],
      "source": [
        "# Calculate the inertia (WCSS) for different values of k\n",
        "inertia = []\n",
        "k_range = range(1, 30)  # Try different cluster counts\n",
        "\n",
        "for k in k_range:\n",
        "    kmeans = KMeans(n_clusters=k, random_state=42)\n",
        "    kmeans.fit(np.vstack(games[\"glove_vector\"]))\n",
        "    inertia.append(kmeans.inertia_)\n",
        "\n",
        "# Plot the inertia values\n",
        "plt.figure(figsize=(8, 6))\n",
        "plt.plot(k_range, inertia, marker=\"o\")\n",
        "plt.title(\"Elbow Method for Optimal Number of Clusters\")\n",
        "plt.xlabel(\"Number of Clusters\")\n",
        "plt.ylabel(\"Inertia (WCSS)\")\n",
        "plt.show()"
      ]
    },
    {
      "cell_type": "code",
      "execution_count": null,
      "metadata": {
        "id": "24rVmKKN5glK"
      },
      "outputs": [],
      "source": [
        "games[\"glove_vector\"] = games[\"glove_vector\"].apply(lambda x: np.fromstring(x[1:-1], sep=',') if isinstance(x, str) else x)\n",
        "n_clusters = 20\n",
        "kmeans = KMeans(n_clusters=n_clusters, random_state=42)\n",
        "games[\"description_cluster\"] = kmeans.fit_predict(np.vstack(games[\"glove_vector\"]))"
      ]
    },
    {
      "cell_type": "code",
      "execution_count": null,
      "metadata": {
        "id": "HhpB6rAjxDHS"
      },
      "outputs": [],
      "source": [
        "# Get the embeddings (glove vectors) from the 'glove_vector' column\n",
        "embeddings = np.vstack(games[\"glove_vector\"])\n",
        "\n",
        "# Perform t-SNE to reduce dimensions to 2D\n",
        "tsne = TSNE(n_components=2, random_state=42)\n",
        "tsne_results = tsne.fit_transform(embeddings)\n",
        "\n",
        "# Add t-SNE results to the games dataframe\n",
        "games[\"tsne_1\"] = tsne_results[:, 0]\n",
        "games[\"tsne_2\"] = tsne_results[:, 1]\n",
        "\n",
        "# Plot t-SNE representation with cluster labels\n",
        "plt.figure(figsize=(10, 8))\n",
        "plt.scatter(games[\"tsne_1\"], games[\"tsne_2\"], c=games[\"description_cluster\"], cmap=\"viridis\", alpha=0.7)\n",
        "plt.colorbar(label=\"Cluster\")\n",
        "plt.title(\"t-SNE Visualization of K-Means Clusters\")\n",
        "plt.xlabel(\"t-SNE Component 1\")\n",
        "plt.ylabel(\"t-SNE Component 2\")\n",
        "plt.show()"
      ]
    },
    {
      "cell_type": "code",
      "execution_count": null,
      "metadata": {
        "id": "nDOmy7EELUT9"
      },
      "outputs": [],
      "source": [
        "# Compute average ratings and number of ratings per game\n",
        "ratings = reviews.groupby(\"ID\")[\"rating\"].agg([\"mean\", \"count\"]).reset_index()\n",
        "ratings.columns = [\"id\", \"avg_rating\", \"num_ratings\"]\n",
        "\n",
        "# Compute popularity score: weighted average of rating and the number of ratings\n",
        "ratings[\"popularity_score\"] = (ratings[\"avg_rating\"] * ratings[\"num_ratings\"]) / (ratings[\"num_ratings\"] + 10)\n",
        "\n",
        "# Merge popularity scores with the games DataFrame and add suffixes to avoid column name conflicts\n",
        "games = games.merge(ratings, left_on=\"id\", right_on=\"id\", how=\"left\", suffixes=('', '_ratings'))\n",
        "\n",
        "def get_diverse_popular_games(games, top_k=10):\n",
        "    recommended_games = []\n",
        "\n",
        "    # Iterate over clusters to get popular games from each cluster\n",
        "    for cluster in range(games[\"description_cluster\"].nunique()):\n",
        "        # Get games in the cluster\n",
        "        games_cluster = games[games[\"description_cluster\"] == cluster]\n",
        "\n",
        "        # Sort by popularity\n",
        "        games_cluster = games_cluster.sort_values(\"popularity_score\", ascending=False)\n",
        "\n",
        "        # Select the top 1 game from each cluster to ensure diversity\n",
        "        top_game = games_cluster.head(1)\n",
        "        recommended_games.append(top_game)\n",
        "\n",
        "    # Combine all recommended games and sort by popularity score\n",
        "    recommended_games = pd.concat(recommended_games)\n",
        "    recommended_games = recommended_games.sort_values(\"popularity_score\", ascending=False).head(top_k)\n",
        "\n",
        "    explanations = []\n",
        "    for _, row in recommended_games.iterrows():\n",
        "        cluster = row[\"description_cluster\"]\n",
        "        rating = round(row[\"avg_rating\"], 2)\n",
        "        num = int(row[\"num_ratings\"])\n",
        "\n",
        "        explanation = (\n",
        "            f\"This game is highly rated ({rating}/10 from {num} users) \"\n",
        "            f\"and was selected to represent a distinct style or theme (cluster {cluster}).\"\n",
        "        )\n",
        "        explanations.append(explanation)\n",
        "\n",
        "    recommended_games[\"explanation\"] = explanations\n",
        "\n",
        "    return recommended_games[[\"name\", \"clean_description\", \"avg_rating\", \"num_ratings\", \"popularity_score\", \"explanation\"]]"
      ]
    },
    {
      "cell_type": "code",
      "execution_count": null,
      "metadata": {
        "id": "pgfe_-NKvBdF"
      },
      "outputs": [],
      "source": [
        "cold_recs = get_diverse_popular_games(games, top_k=10)\n",
        "print(cold_recs)"
      ]
    },
    {
      "cell_type": "markdown",
      "metadata": {
        "id": "rRzaaqNkOYmY"
      },
      "source": [
        "##### Tone-enhanced recommendations (FALTA AÑADIR EXPLANATIONS PART, PERO NO ME CONVENCE ESTE MÉTODO EN GENERAL)"
      ]
    },
    {
      "cell_type": "markdown",
      "metadata": {
        "id": "NT10CJis_78k"
      },
      "source": [
        "For this we will use OHE to encode the predicted tone and vibe"
      ]
    },
    {
      "cell_type": "code",
      "execution_count": null,
      "metadata": {
        "id": "sBDy8DzD-GmP"
      },
      "outputs": [],
      "source": [
        "def encode_vibe_emotion(games_df):\n",
        "    encoder = OneHotEncoder(sparse_output=False, handle_unknown='ignore')\n",
        "    encoded = encoder.fit_transform(games_df[[\"predicted_vibe\", \"predicted_emotion\"]])\n",
        "    return encoded, encoder\n",
        "\n",
        "def build_content_vectors(games_df, encoder):\n",
        "    glove_vectors = np.vstack(games_df[\"glove_vector\"])\n",
        "    vibe_emotion_encoded = encoder.transform(games_df[[\"predicted_vibe\", \"predicted_emotion\"]])\n",
        "    combined_vectors = np.hstack([glove_vectors, vibe_emotion_encoded])\n",
        "    return combined_vectors"
      ]
    },
    {
      "cell_type": "code",
      "execution_count": null,
      "metadata": {
        "id": "LTKWMsnf9iyr"
      },
      "outputs": [],
      "source": [
        "def recommend_content_based_tone_with_input(user_name, games, reviews, target_vibe, target_emotion,\n",
        "                                            top_k=10, max_playingtime=None, min_age=None, minplayers=None,\n",
        "                                            maxplayers=None, min_rating=6, n_clusters=5, alpha=0.5):\n",
        "    # Filter games based on user preferences\n",
        "    filtered_games = games.copy()\n",
        "\n",
        "    if max_playingtime is not None:\n",
        "        filtered_games = filtered_games[filtered_games[\"playingtime\"] <= max_playingtime]\n",
        "    if min_age is not None:\n",
        "        filtered_games = filtered_games[filtered_games[\"minage\"] >= min_age]\n",
        "    if minplayers is not None:\n",
        "        filtered_games = filtered_games[filtered_games[\"minplayers\"] <= minplayers]\n",
        "    if maxplayers is not None:\n",
        "        filtered_games = filtered_games[filtered_games[\"maxplayers\"] >= maxplayers]\n",
        "    if min_rating is not None:\n",
        "        filtered_games = filtered_games[filtered_games[\"rating\"] >= min_rating]\n",
        "\n",
        "    if filtered_games.empty:\n",
        "        print(\"No games match the provided filters.\")\n",
        "        return\n",
        "\n",
        "    # Get liked games by the user\n",
        "    liked_game_ids = reviews[(reviews[\"user\"] == user_name) & (reviews[\"rating\"] >= 6)]\n",
        "    liked_vectors = liked_game_ids.merge(games, left_on=\"ID\", right_on=\"id\")\n",
        "\n",
        "    if liked_vectors.empty:\n",
        "        print(\"Not enough liked games with vectors to build a profile.\")\n",
        "        return\n",
        "\n",
        "    # Encode tone\n",
        "    _, encoder = encode_vibe_emotion(games)\n",
        "    tone_df = pd.DataFrame([[target_vibe, target_emotion]], columns=[\"predicted_vibe\", \"predicted_emotion\"])\n",
        "    tone_vector = encoder.transform(tone_df)\n",
        "\n",
        "    # Build user profile\n",
        "    ratings = liked_vectors[\"rating_x\"].values\n",
        "    weights = ratings / ratings.max()\n",
        "    liked_combined_vectors = build_content_vectors(liked_vectors, encoder)\n",
        "    user_profile = np.average(liked_combined_vectors, axis=0, weights=weights)\n",
        "\n",
        "    # Pad tone vector to match dimensionality\n",
        "    glove_dim = user_profile.shape[0] - tone_vector.shape[1]\n",
        "    padded_tone_vector = np.hstack([np.zeros(glove_dim), tone_vector.flatten()])\n",
        "\n",
        "    # Final profile: weighted combo of user and tone vector\n",
        "    final_vector = alpha * user_profile + (1 - alpha) * padded_tone_vector\n",
        "\n",
        "    # Remove already liked games\n",
        "    filtered_games = filtered_games[~filtered_games[\"id\"].isin(liked_game_ids[\"ID\"])]\n",
        "\n",
        "    if filtered_games.empty:\n",
        "        print(\"No new games to recommend after filtering out liked ones\")\n",
        "        return\n",
        "\n",
        "    # Compute candidate vectors\n",
        "    game_vectors = build_content_vectors(filtered_games, encoder)\n",
        "    candidate_ids = filtered_games[\"id\"].tolist()\n",
        "\n",
        "    # Clustering\n",
        "    cluster_labels = KMeans(n_clusters=n_clusters, random_state=42).fit_predict(game_vectors)\n",
        "\n",
        "    # Similarities\n",
        "    similarities = cosine_similarity(game_vectors, [final_vector]).flatten()\n",
        "\n",
        "    # Cluster-based selection\n",
        "    cluster_recommendations = []\n",
        "    for cluster_id in range(n_clusters):\n",
        "        indices = np.where(cluster_labels == cluster_id)[0]\n",
        "        if len(indices) == 0:\n",
        "            continue\n",
        "        sims = similarities[indices]\n",
        "        sorted_idx = indices[np.argsort(sims)[::-1]]\n",
        "        for i in sorted_idx[:min(top_k // n_clusters + 1, len(sorted_idx))]:\n",
        "            cluster_recommendations.append((candidate_ids[i], similarities[i]))\n",
        "\n",
        "    sorted_final = sorted(cluster_recommendations, key=lambda x: x[1], reverse=True)[:top_k]\n",
        "    selected_ids = [x[0] for x in sorted_final]\n",
        "\n",
        "    recommended_games = filtered_games[filtered_games[\"id\"].isin(selected_ids)].copy()\n",
        "    recommended_games[\"similarity\"] = [x[1] for x in sorted_final]\n",
        "\n",
        "    return recommended_games[[\"name\", \"rating\", \"id\", \"predicted_vibe\", \"predicted_emotion\", \"similarity\"]]"
      ]
    },
    {
      "cell_type": "code",
      "execution_count": null,
      "metadata": {
        "id": "KRIJsLbv9iwV"
      },
      "outputs": [],
      "source": [
        "recs = recommend_content_based_tone_with_input(\n",
        "    user_name=\"sidehacker\",\n",
        "    games=games,\n",
        "    reviews=filtered_reviews,\n",
        "    target_vibe=\"strategic\",\n",
        "    target_emotion=\"funny\",\n",
        "    max_playingtime=60,\n",
        "    min_age=12,\n",
        "    minplayers=2,\n",
        "    maxplayers=4,\n",
        "    min_rating=6,\n",
        "    alpha=0.1\n",
        ")\n",
        "\n",
        "print(recs)"
      ]
    },
    {
      "cell_type": "markdown",
      "metadata": {
        "id": "pVhjLP0E9cfO"
      },
      "source": [
        "#### Collaborative filtering"
      ]
    },
    {
      "cell_type": "markdown",
      "metadata": {
        "id": "Ayvl1nav_EdQ"
      },
      "source": [
        "In this section, we implement collaborative filtering approaches using the Surprise library. These methods only rely on ratings, without needing content features. We explore both neighborhood-based and latent factor models."
      ]
    },
    {
      "cell_type": "code",
      "execution_count": null,
      "metadata": {
        "colab": {
          "base_uri": "https://localhost:8080/"
        },
        "id": "0r6OU4mnExhr",
        "outputId": "b9f4d090-b22b-48a1-ba77-41a5392ae098"
      },
      "outputs": [],
      "source": [
        "# CODE TO MAKE SURPRISE LIBRARY WORK\n",
        "!pip uninstall -y numpy scikit-surprise tensorflow numba\n",
        "!pip install numpy==1.26.4\n",
        "!pip install numba==0.60.0\n",
        "!pip install scikit-surprise\n",
        "!pip install tensorflow==2.18.0"
      ]
    },
    {
      "cell_type": "code",
      "execution_count": null,
      "metadata": {
        "id": "jOuercp9AQvl"
      },
      "outputs": [],
      "source": [
        "from surprise import SVD, Dataset, Reader, accuracy, NMF, KNNBasic\n",
        "from surprise import KNNWithMeans, KNNBaseline\n",
        "from surprise.model_selection import GridSearchCV, train_test_split\n",
        "from collections import defaultdict"
      ]
    },
    {
      "cell_type": "markdown",
      "metadata": {
        "id": "z9Wv4XK7_imJ"
      },
      "source": [
        "##### Data preparation and filtering"
      ]
    },
    {
      "cell_type": "markdown",
      "metadata": {
        "id": "YgjyyY-uEnyj"
      },
      "source": [
        "We begin by filtering out users with too many ratings (above a threshold) to avoid bias from these users. We also randomly sample users to reduce computational cost, and format the data to work with Surprise's rating-based datasets.\n",
        "\n"
      ]
    },
    {
      "cell_type": "code",
      "execution_count": null,
      "metadata": {
        "id": "mPgKvYt6lCx6"
      },
      "outputs": [],
      "source": [
        "reviews = pd.read_csv(\"filtered_reviews.csv\", sep=\";\")"
      ]
    },
    {
      "cell_type": "code",
      "execution_count": null,
      "metadata": {
        "id": "IfFpzUSiEnyj"
      },
      "outputs": [],
      "source": [
        "# Identify and remove users with too many reviews\n",
        "review_counts = reviews[\"user\"].value_counts()\n",
        "\n",
        "# Set a threshold (e.g., remove users with more than 50 reviews)\n",
        "threshold = 50\n",
        "users_to_remove = review_counts[review_counts > threshold].index\n",
        "\n",
        "# Filter reviews\n",
        "filtered_reviews = reviews[~reviews[\"user\"].isin(users_to_remove)]"
      ]
    },
    {
      "cell_type": "code",
      "execution_count": null,
      "metadata": {
        "colab": {
          "base_uri": "https://localhost:8080/",
          "height": 545
        },
        "id": "TXY5TtM5Enyj",
        "outputId": "bebd4128-656d-44c5-ed98-ca19f224d58e"
      },
      "outputs": [],
      "source": [
        "filtered_reviews"
      ]
    },
    {
      "cell_type": "code",
      "execution_count": null,
      "metadata": {
        "id": "Ldxoy1LqEnyj"
      },
      "outputs": [],
      "source": [
        "# Sample 10000 users to have less reviews\n",
        "sampled_users = np.random.choice(reviews[\"user\"].unique(), size=1000, replace=False)\n",
        "sampled_reviews = reviews[reviews[\"user\"].isin(sampled_users)]"
      ]
    },
    {
      "cell_type": "code",
      "execution_count": null,
      "metadata": {
        "colab": {
          "base_uri": "https://localhost:8080/",
          "height": 475
        },
        "id": "rX4TqRlZEnyj",
        "outputId": "4a6d4a58-01b3-4ec8-aca5-bc57e2358158"
      },
      "outputs": [],
      "source": [
        "sampled_reviews"
      ]
    },
    {
      "cell_type": "code",
      "execution_count": null,
      "metadata": {
        "id": "v08ZvdJ4cAlL"
      },
      "outputs": [],
      "source": [
        "# Load data\n",
        "# Range of ratings\n",
        "reader = Reader(rating_scale=(1, 10))\n",
        "\n",
        "# Dataset Auto Folds only with user, game ID and rating.\n",
        "data = Dataset.load_from_df(sampled_reviews[[\"user\", \"ID\", \"rating\"]], reader)"
      ]
    },
    {
      "cell_type": "code",
      "execution_count": null,
      "metadata": {
        "colab": {
          "base_uri": "https://localhost:8080/"
        },
        "id": "CMHdSHCrcAlL",
        "outputId": "a8b4aa97-975d-4d52-8919-d5aa13c10274"
      },
      "outputs": [],
      "source": [
        "# Train-test split\n",
        "trainset, testset = train_test_split(data, test_size=0.2, random_state=42)\n",
        "print(type(trainset))\n",
        "print(type(testset))"
      ]
    },
    {
      "cell_type": "code",
      "execution_count": null,
      "metadata": {
        "colab": {
          "base_uri": "https://localhost:8080/",
          "height": 164
        },
        "id": "QCS520i5cAlL",
        "outputId": "a2b3109f-ca97-4cf7-99f7-951b4589f22f"
      },
      "outputs": [],
      "source": [
        "print(list(trainset.all_ratings())[:10])\n",
        "# Note the relative user ids."
      ]
    },
    {
      "cell_type": "code",
      "execution_count": null,
      "metadata": {
        "colab": {
          "base_uri": "https://localhost:8080/"
        },
        "id": "YT0xfQQkcAlL",
        "outputId": "8fa0e602-64fa-46a7-a6db-a2ffffdad7d5"
      },
      "outputs": [],
      "source": [
        "testset[:10]"
      ]
    },
    {
      "cell_type": "markdown",
      "metadata": {
        "id": "JgOllQJCEnyj"
      },
      "source": [
        "##### Neighborhood-based methods\n"
      ]
    },
    {
      "cell_type": "markdown",
      "metadata": {
        "id": "k-WnY7az_pSo"
      },
      "source": [
        "We will begin by exploring KNN-based collaborative filtering, where the rating for a game is predicted based on similar users or items.\n",
        "\n",
        "We will be hyperparamter tuning k (number of neighbors) and min_k (minimum number of neighbors) using RMSE as a performance metric. Grid search is then applied to test different similarity measures and models like KNNBasic and KNNWithMeans.\n",
        "\n",
        "To narrow down the gridsearch, we can explore these hyperaparameters with the KNNBasic model to see where does the performance stabilizes. This will also help us to not consider a huge grid during gridsearch."
      ]
    },
    {
      "cell_type": "code",
      "execution_count": null,
      "metadata": {
        "colab": {
          "base_uri": "https://localhost:8080/",
          "height": 1000
        },
        "id": "0PsdmhUacAlL",
        "outputId": "25073161-d5b4-4e58-f5eb-09650abacdfa"
      },
      "outputs": [],
      "source": [
        "# Discovering the right value for k_max\n",
        "range_K = range(10,200,10)\n",
        "RMSE_K = []\n",
        "\n",
        "for k in range_K:\n",
        "    print(f\"Trying k = {k}\")\n",
        "    algo = KNNBasic(k=k)\n",
        "    algo.fit(trainset)\n",
        "    predictions = algo.test(testset)\n",
        "    RMSE_K.append(accuracy.rmse(predictions))\n",
        "\n",
        "plt.plot(range_K, RMSE_K)\n",
        "plt.xlabel('k')\n",
        "plt.ylabel('RMSE')\n",
        "plt.show()"
      ]
    },
    {
      "cell_type": "code",
      "execution_count": null,
      "metadata": {
        "colab": {
          "base_uri": "https://localhost:8080/",
          "height": 1000
        },
        "id": "5lF9R89BM264",
        "outputId": "3af7d321-715e-48d6-a70f-721fcd068dc4"
      },
      "outputs": [],
      "source": [
        "# Discovering the right value for min_k\n",
        "range_minK = range(1, 20)\n",
        "RMSE_minK = []\n",
        "\n",
        "for mink in range_minK:\n",
        "    print(f\"Trying min_k = {mink}\")\n",
        "    algo = KNNBasic(k=20, min_k=mink)\n",
        "    algo.fit(trainset)\n",
        "    predictions = algo.test(testset)\n",
        "    rmse = accuracy.rmse(predictions, verbose=False)\n",
        "    RMSE_minK.append(rmse)\n",
        "\n",
        "plt.plot(range_minK, RMSE_minK, marker='o')\n",
        "plt.xlabel('min_k')\n",
        "plt.ylabel('RMSE')\n",
        "plt.title('RMSE vs. min_k in KNNBasic')\n",
        "plt.grid(True)\n",
        "plt.show()"
      ]
    },
    {
      "cell_type": "code",
      "execution_count": null,
      "metadata": {
        "id": "vRNCX175TCJv"
      },
      "outputs": [],
      "source": [
        "# Define parameters\n",
        "param_grids = {\n",
        "    'KNNBasic': {\n",
        "        'k': [5, 10, 20, 30, 50, 70, 90, 100, 120],\n",
        "        'min_k': [3, 6, 7],\n",
        "        'sim_options': {\n",
        "            'name': ['cosine', 'pearson'],\n",
        "            'user_based': [False],\n",
        "        }\n",
        "    },\n",
        "    'KNNWithMeans': {\n",
        "        'k': [5, 10, 20, 30, 50, 70, 90, 100, 120],\n",
        "        'min_k': [3, 6, 7],\n",
        "        'sim_options': {\n",
        "            'name': ['cosine', 'pearson'],\n",
        "            'user_based': [False],\n",
        "        }\n",
        "    }\n",
        "}\n",
        "\n",
        "# Store results\n",
        "results = []\n",
        "best_models = {}  # To store the best model for each algorithm\n",
        "\n",
        "# Loop through algorithms and perform grid search\n",
        "for algo_name, param_grid in param_grids.items():\n",
        "    algo_class = eval(algo_name)\n",
        "    gs = GridSearchCV(algo_class, param_grid, measures=['rmse', 'mae'], cv=3, n_jobs=-1)\n",
        "    gs.fit(data)  # Fit on the full dataset to find best parameters\n",
        "\n",
        "    # Store the best model\n",
        "    best_models[algo_name] = gs.best_estimator['rmse']\n",
        "\n",
        "    # Store the result of the grid search\n",
        "    results.append({\n",
        "        'Algorithm': algo_name,\n",
        "        'Best RMSE': gs.best_score['rmse'],\n",
        "        'Best MAE': gs.best_score['mae'],\n",
        "        'Best Params': gs.best_params['rmse']\n",
        "    })\n",
        "\n",
        "    # Plotting the best k values\n",
        "    # Extract k values and corresponding RMSE scores\n",
        "    k_values = param_grid['k']\n",
        "    rmse_scores = []\n",
        "\n",
        "    # Loop through each k value and find corresponding RMSE score\n",
        "    for k in k_values:\n",
        "        # Filter out the corresponding scores for each k value\n",
        "        mask = [params['k'] == k for params in gs.cv_results['params']]\n",
        "        k_rmse_scores = [gs.cv_results['mean_test_rmse'][i] for i in range(len(gs.cv_results['params'])) if mask[i]]\n",
        "        rmse_scores.append(k_rmse_scores[0])  # Assuming only one score per k value\n",
        "\n",
        "    plt.figure(figsize=(8, 6))\n",
        "    plt.plot(k_values, rmse_scores, marker='o', linestyle='-', color='b')\n",
        "    plt.title(f'RMSE vs. k for {algo_name}')\n",
        "    plt.xlabel('k')\n",
        "    plt.ylabel('RMSE')\n",
        "    plt.grid(True)\n",
        "    plt.show()"
      ]
    },
    {
      "cell_type": "code",
      "execution_count": null,
      "metadata": {
        "colab": {
          "base_uri": "https://localhost:8080/",
          "height": 125
        },
        "id": "2TP-9ZZmlERN",
        "outputId": "fdd4a642-e5b1-4e64-dd04-c5b0beaa9d2f"
      },
      "outputs": [],
      "source": [
        "# Show results of the grid search\n",
        "results_df = pd.DataFrame(results)\n",
        "results_df"
      ]
    },
    {
      "cell_type": "code",
      "execution_count": null,
      "metadata": {
        "colab": {
          "base_uri": "https://localhost:8080/"
        },
        "id": "iMIbDFRal3sl",
        "outputId": "f01f6119-bee6-4822-ed19-7a6adcbd5138"
      },
      "outputs": [],
      "source": [
        "for index, row in results_df.iterrows():\n",
        "    print(f\"Algorithm: {row['Algorithm']}\")\n",
        "    print(f\"Best Params: {row['Best Params']}\")\n",
        "    print(\"-\" * 20)"
      ]
    },
    {
      "cell_type": "code",
      "execution_count": null,
      "metadata": {
        "colab": {
          "base_uri": "https://localhost:8080/"
        },
        "id": "-f6Mf4JZYmxF",
        "outputId": "c9bc7576-d7c5-4cba-80d6-f9816a1bf05b"
      },
      "outputs": [],
      "source": [
        "# Choose the best algorithm based on the best RMSE from the grid search\n",
        "best_algorithm_name = results_df.loc[results_df['Best RMSE'].idxmin()]['Algorithm']\n",
        "best_model = best_models[best_algorithm_name]\n",
        "print(f\"Using the best model: {best_algorithm_name} with parameters: {results_df.loc[results_df['Best RMSE'].idxmin()]['Best Params']}\")"
      ]
    },
    {
      "cell_type": "markdown",
      "metadata": {
        "id": "9oe6S32qAzpB"
      },
      "source": [
        "Once we have found the best model, we can test its ability to recommend games to a specific user."
      ]
    },
    {
      "cell_type": "code",
      "execution_count": null,
      "metadata": {
        "colab": {
          "base_uri": "https://localhost:8080/"
        },
        "id": "_eo9DXuTEnyk",
        "outputId": "8d8b5f67-13f0-4e7c-ae32-23cb098321a9"
      },
      "outputs": [],
      "source": [
        "best_model = KNNWithMeans(k=50, min_k=5, sim_options={'name': 'cosine', 'user_based': False})\n",
        "best_model.fit(trainset)\n",
        "\n",
        "import pickle\n",
        "\n",
        "# Save KNNWithMeans model\n",
        "with open(\"knn_model.pkl\", \"wb\") as f:\n",
        "    pickle.dump(best_model, f)\n",
        "\n",
        "user = 'jbourgel'\n",
        "\n",
        "# Games the user has already rated\n",
        "rated_game_ids = reviews[reviews[\"user\"] == user][\"ID\"].unique()\n",
        "\n",
        "# All possible game IDs\n",
        "all_game_ids = games[\"id\"].unique()\n",
        "\n",
        "# Filter out the ones already rated\n",
        "unseen_game_ids = [gid for gid in all_game_ids if gid not in rated_game_ids]\n",
        "\n",
        "# Predict ratings for the unseen games\n",
        "predictions_user = [(gid, best_model.predict(user, gid).est) for gid in unseen_game_ids]\n",
        "\n",
        "# Sort by predicted rating\n",
        "top_k = 10\n",
        "top_predictions = sorted(predictions_user, key=lambda x: x[1], reverse=True)[:top_k]\n",
        "\n",
        "# Get game info from the original games DataFrame\n",
        "top_game_ids = [pred[0] for pred in top_predictions]\n",
        "recommended_games = games[games[\"id\"].isin(top_game_ids)][[\"id\", \"name\", \"rating\"]]\n",
        "\n",
        "print(\"\\nTop Recommended Games:\")\n",
        "print(recommended_games.reset_index(drop=True))"
      ]
    },
    {
      "cell_type": "code",
      "execution_count": null,
      "metadata": {
        "colab": {
          "base_uri": "https://localhost:8080/"
        },
        "id": "OlnTEzg4Enyk",
        "outputId": "4fd95f26-254d-4ebf-decd-2e17135583bd"
      },
      "outputs": [],
      "source": [
        "# Get predictions on test set\n",
        "predictions = best_model.test(testset)\n",
        "\n",
        "# Calculate performance metrics\n",
        "print(\"Evaluation Metrics:\")\n",
        "rmse = accuracy.rmse(predictions)\n",
        "mae = accuracy.mae(predictions)"
      ]
    },
    {
      "cell_type": "code",
      "execution_count": null,
      "metadata": {
        "id": "nXKI3XDGEnyk"
      },
      "outputs": [],
      "source": [
        "# Precision@K and Recall@K (k = 10 by default)\n",
        "def precision_recall_at_k(predictions, k=10, threshold=7.0):\n",
        "    # Map user to list of (item_id, true_rating, est_rating)\n",
        "    # Here we group predictions by user\n",
        "    user_est_true = defaultdict(list)\n",
        "    for uid, iid, true_r, est, _ in predictions:\n",
        "        user_est_true[uid].append((iid, true_r, est))\n",
        "\n",
        "    precisions = dict()\n",
        "    recalls = dict()\n",
        "\n",
        "    # For each user we simulate getting their top-k recommendations:\n",
        "    for uid, user_ratings in user_est_true.items():\n",
        "        # Sort by estimated rating\n",
        "        user_ratings.sort(key=lambda x: x[2], reverse=True)\n",
        "        top_k = user_ratings[:k]\n",
        "\n",
        "        # How many relevant items are in the test set? (true_rating ≥ 8)\n",
        "        n_rel = sum((true_r >= threshold) for (_, true_r, _) in user_ratings)\n",
        "\n",
        "        # How many of the top-k recommended items are estimated to be ≥ 8?\n",
        "        n_rec_k = sum((est >= threshold) for (_, _, est) in top_k)\n",
        "\n",
        "        # How many are both relevant and recommended?\n",
        "        n_rel_and_rec_k = sum(((true_r >= threshold) and (est >= threshold)) for (_, true_r, est) in top_k)\n",
        "\n",
        "        precisions[uid] = n_rel_and_rec_k / n_rec_k if n_rec_k != 0 else 0\n",
        "        recalls[uid] = n_rel_and_rec_k / n_rel if n_rel != 0 else 0\n",
        "\n",
        "    # Average over all users\n",
        "    avg_precision = sum(precisions.values()) / len(precisions)\n",
        "    avg_recall = sum(recalls.values()) / len(recalls)\n",
        "    return avg_precision, avg_recall"
      ]
    },
    {
      "cell_type": "code",
      "execution_count": null,
      "metadata": {
        "id": "TbVM_37kCh8J"
      },
      "outputs": [],
      "source": [
        "precision, recall = precision_recall_at_k(predictions, k=10)\n",
        "print(f\"Precision@10: {precision:.4f}\")\n",
        "print(f\"Recall@10: {recall:.4f}\")"
      ]
    },
    {
      "cell_type": "markdown",
      "metadata": {
        "id": "VRtbpFBqcAlL"
      },
      "source": [
        "##### Latent based methods"
      ]
    },
    {
      "cell_type": "markdown",
      "metadata": {
        "id": "EahiwW5XBr_R"
      },
      "source": [
        "Before ending this section of collaborative filtering, we also wanted to test latent factor models. These try to compress user and item interactions into a smaller set of hidden features.\n",
        "\n",
        "These methods try to uncover the underlying structure in rating data, capturing things like genre preference, complexity tolerance, or thematic interests.\n",
        "\n",
        "We test two models from the Surprise library:\n",
        "\n",
        "*   SVD (Singular Value Decomposition): Learns latent factors via matrix factorization using gradient descent.\n",
        "*   NMF (Non-negative Matrix Factorization): Learns additive latent components, and it is often more interpretable."
      ]
    },
    {
      "cell_type": "code",
      "execution_count": null,
      "metadata": {
        "colab": {
          "base_uri": "https://localhost:8080/",
          "height": 1000
        },
        "id": "H-0jesAFcAlL",
        "outputId": "02d84467-b263-4407-eef7-7deb54543b25"
      },
      "outputs": [],
      "source": [
        "from surprise import SVD, NMF\n",
        "from surprise.model_selection import GridSearchCV\n",
        "\n",
        "# Define models and corresponding grids\n",
        "param_grids = {\n",
        "    'SVD': {\n",
        "        'n_factors': [10, 25, 50],\n",
        "        'lr_all': [0.002, 0.005],\n",
        "        'reg_all': [0.02, 0.1]\n",
        "    },\n",
        "    'NMF': {\n",
        "        'n_factors': [15, 30, 70],\n",
        "        'reg_pu': [0.06, 0.1],\n",
        "        'reg_qi': [0.06, 0.1]\n",
        "    }\n",
        "}\n",
        "\n",
        "# Store results\n",
        "results = []\n",
        "best_models = {}  # To store the best model for each algorithm\n",
        "\n",
        "# Loop through algorithms and perform grid search\n",
        "for algo_name, param_grid in param_grids.items():\n",
        "    algo_class = eval(algo_name)\n",
        "    gs = GridSearchCV(algo_class, param_grid, measures=['rmse', 'mae'], cv=3, n_jobs=-1)\n",
        "    gs.fit(data)  # Fit on the full dataset to find best parameters\n",
        "\n",
        "    # Store the best model\n",
        "    best_models[algo_name] = gs.best_estimator\n",
        "\n",
        "    # Store the result of the grid search\n",
        "    results.append({\n",
        "        'Algorithm': algo_name,\n",
        "        'Best RMSE': gs.best_score['rmse'],\n",
        "        'Best MAE': gs.best_score['mae'],\n",
        "        'Best Params': gs.best_params['rmse']\n",
        "    })\n",
        "\n",
        "    # Plotting the RMSE values for different hyperparameters\n",
        "    if algo_name == 'SVD':\n",
        "        # Extract parameters for plotting RMSE\n",
        "        n_factors = param_grid['n_factors']\n",
        "        lr_all = param_grid['lr_all']\n",
        "        reg_all = param_grid['reg_all']\n",
        "\n",
        "        # Plot RMSE across n_factors, lr_all, reg_all\n",
        "        plt.figure(figsize=(8, 6))\n",
        "        for lr in lr_all:\n",
        "            for reg in reg_all:\n",
        "                rmse_scores = []\n",
        "                for nf in n_factors:\n",
        "                    mask = [(params['n_factors'] == nf) and (params['lr_all'] == lr) and (params['reg_all'] == reg)\n",
        "                            for params in gs.cv_results['params']]\n",
        "                    rmse_scores.append([gs.cv_results['mean_test_rmse'][i] for i in range(len(gs.cv_results['params'])) if mask[i]][0])\n",
        "\n",
        "                plt.plot(n_factors, rmse_scores, marker='o', label=f'lr={lr}, reg={reg}')\n",
        "\n",
        "        plt.title('RMSE vs n_factors for SVD')\n",
        "        plt.xlabel('n_factors')\n",
        "        plt.ylabel('RMSE')\n",
        "        plt.legend()\n",
        "        plt.grid(True)\n",
        "        plt.show()\n",
        "\n",
        "    elif algo_name == 'NMF':\n",
        "        # Extract parameters for plotting RMSE\n",
        "        n_factors = param_grid['n_factors']\n",
        "        reg_pu = param_grid['reg_pu']\n",
        "        reg_qi = param_grid['reg_qi']\n",
        "\n",
        "        # Plot RMSE across n_factors, reg_pu, reg_qi\n",
        "        plt.figure(figsize=(8, 6))\n",
        "        for rp in reg_pu:\n",
        "            for rq in reg_qi:\n",
        "                rmse_scores = []\n",
        "                for nf in n_factors:\n",
        "                    mask = [(params['n_factors'] == nf) and (params['reg_pu'] == rp) and (params['reg_qi'] == rq)\n",
        "                            for params in gs.cv_results['params']]\n",
        "                    rmse_scores.append([gs.cv_results['mean_test_rmse'][i] for i in range(len(gs.cv_results['params'])) if mask[i]][0])\n",
        "\n",
        "                plt.plot(n_factors, rmse_scores, marker='o', label=f'reg_pu={rp}, reg_qi={rq}')\n",
        "\n",
        "        plt.title('RMSE vs n_factors for NMF')\n",
        "        plt.xlabel('n_factors')\n",
        "        plt.ylabel('RMSE')\n",
        "        plt.legend()\n",
        "        plt.grid(True)\n",
        "        plt.show()"
      ]
    },
    {
      "cell_type": "code",
      "execution_count": null,
      "metadata": {
        "colab": {
          "base_uri": "https://localhost:8080/",
          "height": 125
        },
        "id": "oVygYL_kcAlL",
        "outputId": "91748c42-7515-4e68-8cc6-d50de4f3bd9e"
      },
      "outputs": [],
      "source": [
        "# Show results of the grid search\n",
        "results_df = pd.DataFrame(results)\n",
        "results_df"
      ]
    },
    {
      "cell_type": "code",
      "execution_count": null,
      "metadata": {
        "colab": {
          "base_uri": "https://localhost:8080/"
        },
        "id": "BiB_eHwecAlL",
        "outputId": "4fd42693-8a70-4bea-f75e-730de168f3fb"
      },
      "outputs": [],
      "source": [
        "for index, row in results_df.iterrows():\n",
        "    print(f\"Algorithm: {row['Algorithm']}\")\n",
        "    print(f\"Best Params: {row['Best Params']}\")\n",
        "    print(\"-\" * 20)"
      ]
    },
    {
      "cell_type": "code",
      "execution_count": null,
      "metadata": {
        "colab": {
          "base_uri": "https://localhost:8080/"
        },
        "id": "oAG_nrBeYwBV",
        "outputId": "58716656-4bda-42da-d1c1-31f612226bbb"
      },
      "outputs": [],
      "source": [
        "best_model = SVD(n_factors=10, lr_all=0.005, reg_all=0.02)\n",
        "best_model.fit(trainset)\n",
        "\n",
        "# Save SVD model\n",
        "with open(\"svd_model.pkl\", \"wb\") as f:\n",
        "    pickle.dump(best_model, f)\n",
        "\n",
        "user = 'jbourgel'\n",
        "\n",
        "# Games user has already rated\n",
        "rated_game_ids = reviews[reviews[\"user\"] == user][\"ID\"].unique()\n",
        "\n",
        "# All possible game ids\n",
        "all_game_ids = games[\"id\"].unique()\n",
        "\n",
        "# Filter out the ones already rated\n",
        "unseen_game_ids = [gid for gid in all_game_ids if gid not in rated_game_ids]\n",
        "\n",
        "# Predict ratings for the unseen games\n",
        "predictions_user = [(gid, best_model.predict(user, gid).est) for gid in unseen_game_ids]\n",
        "\n",
        "# Sort by predicted rating\n",
        "top_k = 10\n",
        "top_predictions = sorted(predictions_user, key=lambda x: x[1], reverse=True)[:top_k]\n",
        "\n",
        "# Get game info from the original games DataFrame\n",
        "top_game_ids = [pred[0] for pred in top_predictions]\n",
        "recommended_games = games[games[\"id\"].isin(top_game_ids)][[\"id\", \"name\", \"rating\"]]\n",
        "print(\"\\nTop Recommended Games:\")\n",
        "print(recommended_games.reset_index(drop=True))"
      ]
    },
    {
      "cell_type": "code",
      "execution_count": null,
      "metadata": {
        "colab": {
          "base_uri": "https://localhost:8080/"
        },
        "id": "S8AZ1dHzZR4V",
        "outputId": "27655849-9f1f-4c49-b118-3b556e085013"
      },
      "outputs": [],
      "source": [
        "# Get predictions on test set\n",
        "predictions = best_model.test(testset)\n",
        "\n",
        "# Calculate performance metrics\n",
        "print(\"Evaluation Metrics:\")\n",
        "rmse = accuracy.rmse(predictions)\n",
        "mae = accuracy.mae(predictions)"
      ]
    },
    {
      "cell_type": "code",
      "execution_count": null,
      "metadata": {
        "colab": {
          "base_uri": "https://localhost:8080/"
        },
        "id": "7-YaTh-rY5fM",
        "outputId": "68a2c12b-8f3e-4b6f-8dd3-3e4815491bef"
      },
      "outputs": [],
      "source": [
        "precision, recall = precision_recall_at_k(predictions, k=10)\n",
        "print(f\"Precision@10: {precision:.4f}\")\n",
        "print(f\"Recall@10: {recall:.4f}\")"
      ]
    },
    {
      "cell_type": "markdown",
      "metadata": {
        "id": "iiqky4AzK5Hz"
      },
      "source": [
        "Now we represent the projection of the latent space of the games created with the SVD model. Only the 30 first games will have the id label to ensure readability. The games that are close to each other have similar latent factors."
      ]
    },
    {
      "cell_type": "code",
      "execution_count": null,
      "metadata": {
        "colab": {
          "base_uri": "https://localhost:8080/"
        },
        "id": "yxqjAmBsYv-Q",
        "outputId": "35887980-ffe2-4dd8-ca1e-3934b6305143"
      },
      "outputs": [],
      "source": [
        "# Get game factors\n",
        "item_ids = trainset.all_items()\n",
        "item_inner_ids = list(item_ids)\n",
        "item_raw_ids = [trainset.to_raw_iid(inner_id) for inner_id in item_inner_ids]\n",
        "item_factors = np.array([best_model.qi[inner_id] for inner_id in item_inner_ids])\n",
        "\n",
        "# Reduce to 2D\n",
        "tsne = TSNE(n_components=2, random_state=42, perplexity = 15)\n",
        "item_2d = tsne.fit_transform(item_factors)\n",
        "\n",
        "# Plot\n",
        "plt.figure(figsize=(12, 8))\n",
        "plt.scatter(item_2d[:, 0], item_2d[:, 1], alpha=0.6)\n",
        "for i, item_id in enumerate(item_raw_ids[:30]):  # label a few\n",
        "    plt.text(item_2d[i, 0], item_2d[i, 1], item_id, fontsize=9)\n",
        "plt.title(\"t-SNE Visualization of Game Embeddings (SVD)\")\n",
        "plt.xlabel(\"Dim 1\")\n",
        "plt.ylabel(\"Dim 2\")\n",
        "plt.grid(True)\n",
        "plt.show()"
      ]
    },
    {
      "cell_type": "markdown",
      "metadata": {
        "id": "6buXH_ZCKQ7c"
      },
      "source": [
        "The following plot represents the user-item matrix of 10 users and 10 games. We can see that the games with predicted low ratings will propagate over users and the same with high ratings."
      ]
    },
    {
      "cell_type": "code",
      "execution_count": null,
      "metadata": {
        "colab": {
          "base_uri": "https://localhost:8080/"
        },
        "id": "WOP-lRIAYv7C",
        "outputId": "52621cd3-c483-488c-8bfb-f4dd509ba1f6"
      },
      "outputs": [],
      "source": [
        "import seaborn as sns\n",
        "\n",
        "# Pick a sample of users and items\n",
        "sample_users = list(trainset.all_users())[:10]\n",
        "sample_items = list(trainset.all_items())[:10]\n",
        "\n",
        "matrix = np.zeros((len(sample_users), len(sample_items)))\n",
        "for i, uid in enumerate(sample_users):\n",
        "    for j, iid in enumerate(sample_items):\n",
        "        matrix[i, j] = best_model.predict(trainset.to_raw_uid(uid), trainset.to_raw_iid(iid)).est\n",
        "\n",
        "sns.heatmap(matrix, annot=True, fmt=\".1f\", cmap=\"coolwarm\")\n",
        "plt.xlabel(\"Games\")\n",
        "plt.ylabel(\"Users\")\n",
        "plt.title(\"Predicted Ratings Heatmap (Sample)\")\n",
        "plt.show()"
      ]
    },
    {
      "cell_type": "markdown",
      "metadata": {
        "id": "izVatMDcqn2F"
      },
      "source": [
        "## Dashboard"
      ]
    },
    {
      "cell_type": "code",
      "execution_count": null,
      "metadata": {
        "id": "qWjlCLfSi-kK"
      },
      "outputs": [],
      "source": [
        "# CODE TO MAKE SURPRISE LIBRARY WORK\n",
        "!pip uninstall -y numpy scikit-surprise tensorflow numba\n",
        "!pip install numpy==1.26.4\n",
        "!pip install numba==0.60.0\n",
        "!pip install scikit-surprise\n",
        "!pip install tensorflow==2.18.0"
      ]
    },
    {
      "cell_type": "code",
      "execution_count": null,
      "metadata": {
        "colab": {
          "base_uri": "https://localhost:8080/"
        },
        "collapsed": true,
        "id": "kjKMSXCQqnTc",
        "outputId": "97358084-792e-4e50-d3dc-e26bbce56083"
      },
      "outputs": [],
      "source": [
        "!pip install jupyter-dash"
      ]
    },
    {
      "cell_type": "markdown",
      "metadata": {
        "id": "Bb1quvZ0ORhk"
      },
      "source": [
        "### Old"
      ]
    },
    {
      "cell_type": "code",
      "execution_count": null,
      "metadata": {
        "colab": {
          "base_uri": "https://localhost:8080/",
          "height": 672
        },
        "id": "VUo8TvkflFXF",
        "outputId": "7d200c22-e156-4187-8c84-2935202a45ad"
      },
      "outputs": [],
      "source": [
        "from dash import Dash, dcc, html, Input, Output, State\n",
        "import dash\n",
        "\n",
        "# LO MÁS SIMPLE\n",
        "\n",
        "# === Recommendation Function ===\n",
        "def recommend_content_based(user_name, games, reviews, top_k=10):\n",
        "    liked_game_ids = reviews[(reviews[\"user\"] == user_name) & (reviews[\"rating\"] >= 6)]\n",
        "\n",
        "    if liked_game_ids.empty:\n",
        "        return pd.DataFrame()\n",
        "\n",
        "    liked_vectors = liked_game_ids.merge(games[[\"id\", \"glove_vector\"]], left_on=\"ID\", right_on=\"id\")\n",
        "\n",
        "    if liked_vectors.empty:\n",
        "        return pd.DataFrame()\n",
        "\n",
        "    ratings = liked_vectors[\"rating\"].values\n",
        "    weights = ratings / ratings.max()\n",
        "    glove_vectors = np.vstack(liked_vectors[\"glove_vector\"])\n",
        "    user_profile = np.average(glove_vectors, axis=0, weights=weights)\n",
        "\n",
        "    candidate_games = games[~games[\"id\"].isin(liked_game_ids[\"ID\"])]\n",
        "    candidate_vectors = np.vstack(candidate_games[\"glove_vector\"])\n",
        "    similarities = cosine_similarity(candidate_vectors, [user_profile]).flatten()\n",
        "\n",
        "    candidate_games = candidate_games.copy()\n",
        "    candidate_games[\"similarity\"] = similarities\n",
        "    recommended = candidate_games.sort_values(\"similarity\", ascending=False).head(top_k)\n",
        "\n",
        "    return recommended[[\"name\", \"similarity\"]]\n",
        "\n",
        "# === Create Dash App ===\n",
        "app = Dash(__name__)\n",
        "app.title = \"Game Recommender\"\n",
        "\n",
        "app.layout = html.Div([\n",
        "    html.H2(\"Game Recommender Dashboard\"),\n",
        "    html.Div([\n",
        "        dcc.Input(id=\"username-input\", type=\"text\", placeholder=\"Enter your username...\"),\n",
        "        html.Button(\"Get Recommendations\", id=\"submit-btn\", n_clicks=0),\n",
        "    ], style={\"margin-bottom\": \"20px\"}),\n",
        "\n",
        "    html.Div(id=\"recommendation-output\")\n",
        "])\n",
        "\n",
        "@app.callback(\n",
        "    Output(\"recommendation-output\", \"children\"),\n",
        "    Input(\"submit-btn\", \"n_clicks\"),\n",
        "    State(\"username-input\", \"value\")\n",
        ")\n",
        "def update_recommendations(n_clicks, user_input):\n",
        "    if not user_input:\n",
        "        return html.Div(\"Please enter a username.\", style={\"color\": \"white\"})\n",
        "\n",
        "    results = recommend_content_based(user_input, games, reviews)\n",
        "\n",
        "    if results.empty:\n",
        "        return html.Div(\"No recommendations found. Check if the user exists and has rated any games.\", style={\"color\": \"red\"})\n",
        "\n",
        "    return html.Div([\n",
        "        html.H4(f\"Top Recommendations for '{user_input}':\"),\n",
        "        html.Table([\n",
        "            html.Thead(html.Tr([html.Th(\"Game\"), html.Th(\"Similarity\")])),\n",
        "            html.Tbody([\n",
        "                html.Tr([html.Td(row[\"name\"]), html.Td(f\"{row['similarity']:.3f}\")])\n",
        "                for _, row in results.iterrows()\n",
        "            ])\n",
        "        ])\n",
        "    ])\n",
        "\n",
        "# === Run it in notebook with the new built-in method ===\n",
        "app.run(jupyter_mode=\"inline\", debug=True)"
      ]
    },
    {
      "cell_type": "code",
      "execution_count": null,
      "metadata": {
        "colab": {
          "base_uri": "https://localhost:8080/",
          "height": 671
        },
        "id": "tjBzjdJUljx3",
        "outputId": "f2efee79-8901-48fe-c537-8a113288286d"
      },
      "outputs": [],
      "source": [
        "import dash\n",
        "from dash import dcc, html, Input, Output, State\n",
        "# ------------------------------\n",
        "# Recommendation Functions\n",
        "# ------------------------------\n",
        "\n",
        "def mmr(user_profile, candidate_vectors, candidate_ids, lambda_param=0.7, top_k=10):\n",
        "    selected = []\n",
        "    selected_ids = []\n",
        "    candidate_indices = list(range(len(candidate_vectors)))\n",
        "    similarities_to_user = cosine_similarity(candidate_vectors, [user_profile]).flatten()\n",
        "    similarity_matrix = cosine_similarity(candidate_vectors)\n",
        "\n",
        "    for _ in range(top_k):\n",
        "        mmr_scores = []\n",
        "        for idx in candidate_indices:\n",
        "            diversity_penalty = 0 if not selected else max(similarity_matrix[idx][j] for j in selected)\n",
        "            mmr_score = lambda_param * similarities_to_user[idx] - (1 - lambda_param) * diversity_penalty\n",
        "            mmr_scores.append((idx, mmr_score))\n",
        "\n",
        "        selected_idx, _ = max(mmr_scores, key=lambda x: x[1])\n",
        "        selected.append(selected_idx)\n",
        "        selected_ids.append(candidate_ids[selected_idx])\n",
        "        candidate_indices.remove(selected_idx)\n",
        "\n",
        "    return selected_ids\n",
        "\n",
        "def recommend_mmr(user_profile, filtered_games, liked_ids, top_k=10, lambda_param=0.7):\n",
        "    filtered_games = filtered_games[~filtered_games[\"id\"].isin(liked_ids)]\n",
        "    game_vectors = np.vstack(filtered_games[\"glove_vector\"].values)\n",
        "    candidate_ids = filtered_games[\"id\"].tolist()\n",
        "    selected_ids = mmr(user_profile, game_vectors, candidate_ids, lambda_param, top_k)\n",
        "    similarities = cosine_similarity(game_vectors, [user_profile]).flatten()\n",
        "    filtered_games[\"similarity\"] = similarities\n",
        "    return filtered_games[filtered_games[\"id\"].isin(selected_ids)].sort_values(by=\"similarity\", ascending=False)\n",
        "\n",
        "def recommend_cluster(user_profile, filtered_games, liked_ids, top_k=10, n_clusters=5):\n",
        "    filtered_games = filtered_games[~filtered_games[\"id\"].isin(liked_ids)]\n",
        "    game_vectors = np.vstack(filtered_games[\"glove_vector\"].values)\n",
        "    candidate_ids = filtered_games[\"id\"].tolist()\n",
        "    kmeans = KMeans(n_clusters=n_clusters, random_state=42)\n",
        "    cluster_labels = kmeans.fit_predict(game_vectors)\n",
        "    similarities = cosine_similarity(game_vectors, [user_profile]).flatten()\n",
        "\n",
        "    cluster_recommendations = []\n",
        "    for cluster_id in range(n_clusters):\n",
        "        indices = np.where(cluster_labels == cluster_id)[0]\n",
        "        if len(indices) == 0:\n",
        "            continue\n",
        "        cluster_sims = similarities[indices]\n",
        "        sorted_idx = indices[np.argsort(cluster_sims)[::-1]]\n",
        "        for i in sorted_idx[:min(top_k // n_clusters + 1, len(sorted_idx))]:\n",
        "            cluster_recommendations.append((candidate_ids[i], similarities[i]))\n",
        "\n",
        "    sorted_final = sorted(cluster_recommendations, key=lambda x: x[1], reverse=True)[:top_k]\n",
        "    return filtered_games[filtered_games[\"id\"].isin([x[0] for x in sorted_final])].assign(similarity=[x[1] for x in sorted_final])\n",
        "\n",
        "\n",
        "# ------------------------------\n",
        "# User Profile and Filtering\n",
        "# ------------------------------\n",
        "\n",
        "def build_user_profile(user_name, games, reviews):\n",
        "    liked_reviews = reviews[(reviews[\"user\"] == user_name) & (reviews[\"rating\"] >= 6)]\n",
        "    liked_vectors = liked_reviews.merge(games[[\"id\", \"glove_vector\"]], left_on=\"ID\", right_on=\"id\")\n",
        "    if liked_vectors.empty:\n",
        "        return None, []\n",
        "    ratings = liked_vectors[\"rating\"].values\n",
        "    weights = ratings / ratings.max()\n",
        "    vectors = np.vstack(liked_vectors[\"glove_vector\"])\n",
        "    profile = np.average(vectors, axis=0, weights=weights)\n",
        "    return profile, liked_vectors[\"ID\"].tolist()\n",
        "\n",
        "def filter_games(games, max_time, min_age, min_p, max_p):\n",
        "    result = games.copy()\n",
        "    result = result[result[\"playingtime\"] <= max_time]\n",
        "    result = result[result[\"minage\"] >= min_age]\n",
        "    result = result[result[\"minplayers\"] <= min_p]\n",
        "    result = result[result[\"maxplayers\"] >= max_p]\n",
        "    return result\n",
        "\n",
        "\n",
        "# ------------------------------\n",
        "# Dash App\n",
        "# ------------------------------\n",
        "\n",
        "app = dash.Dash(__name__)\n",
        "\n",
        "app.layout = html.Div([\n",
        "    html.H2(\"Board Game Recommender\"),\n",
        "\n",
        "    html.Label(\"Enter your name\"),\n",
        "    dcc.Input(id='user-input', type='text', value='', debounce=True),  # User input for name\n",
        "\n",
        "    html.Br(),\n",
        "    html.Label(\"Recommendation Strategy\"),\n",
        "    dcc.RadioItems(id='recommender', options=[\n",
        "        {'label': 'MMR', 'value': 'mmr'},\n",
        "        {'label': 'Cluster-based', 'value': 'cluster'}\n",
        "    ], value='mmr', inline=True),\n",
        "\n",
        "    html.Br(),\n",
        "    html.Label(\"Number of Recommendations\"),\n",
        "    dcc.Slider(id='top-k', min=1, max=20, step=1, value=10),\n",
        "\n",
        "    html.Br(),\n",
        "    html.Label(\"Max Playing Time\"),\n",
        "    dcc.Slider(id='max-time', min=10, max=300, step=10, value=60),\n",
        "\n",
        "    html.Br(),\n",
        "    html.Label(\"Min Age\"),\n",
        "    dcc.Slider(id='min-age', min=0, max=21, step=1, value=12),\n",
        "\n",
        "    html.Br(),\n",
        "    html.Label(\"Min Players\"),\n",
        "    dcc.Slider(id='min-p', min=1, max=10, step=1, value=2),\n",
        "\n",
        "    html.Br(),\n",
        "    html.Label(\"Max Players\"),\n",
        "    dcc.Slider(id='max-p', min=1, max=10, step=1, value=4),\n",
        "\n",
        "    html.Div(id='mmr-options', children=[\n",
        "        html.Br(),\n",
        "        html.Label(\"Lambda (for MMR)\"),\n",
        "        dcc.Slider(id='lambda', min=0.0, max=1.0, step=0.05, value=0.7)\n",
        "    ]),\n",
        "\n",
        "    html.Div(id='cluster-options', style={'display': 'none'}, children=[\n",
        "        html.Br(),\n",
        "        html.Label(\"Number of Clusters\"),\n",
        "        dcc.Slider(id='n-clusters', min=2, max=10, step=1, value=5)\n",
        "    ]),\n",
        "\n",
        "    html.Br(),\n",
        "    html.Button(\"Generate Recommendations\", id=\"submit\", n_clicks=0),\n",
        "    html.Br(), html.Br(),\n",
        "\n",
        "    html.Div(id='results')\n",
        "])\n",
        "\n",
        "\n",
        "@app.callback(\n",
        "    Output('mmr-options', 'style'),\n",
        "    Output('cluster-options', 'style'),\n",
        "    Input('recommender', 'value')\n",
        ")\n",
        "def toggle_options(value):\n",
        "    if value == 'mmr':\n",
        "        return {'display': 'block'}, {'display': 'none'}\n",
        "    else:\n",
        "        return {'display': 'none'}, {'display': 'block'}\n",
        "\n",
        "@app.callback(\n",
        "    Output('results', 'children'),\n",
        "    Input('submit', 'n_clicks'),\n",
        "    State('user-input', 'value'),  # User input for name\n",
        "    State('recommender', 'value'),\n",
        "    State('top-k', 'value'),\n",
        "    State('max-time', 'value'),\n",
        "    State('min-age', 'value'),\n",
        "    State('min-p', 'value'),\n",
        "    State('max-p', 'value'),\n",
        "    State('lambda', 'value'),\n",
        "    State('n-clusters', 'value')\n",
        ")\n",
        "def recommend(n_clicks, user_name, method, top_k, max_time, min_age, min_p, max_p, lambda_param, n_clusters):\n",
        "    if n_clicks == 0 or not user_name:\n",
        "        return \"Please enter your name to get recommendations.\"\n",
        "\n",
        "    profile, liked_ids = build_user_profile(user_name, games, reviews)\n",
        "    if profile is None:\n",
        "        return html.Div(\"Not enough liked games.\")\n",
        "\n",
        "    filtered = filter_games(games, max_time, min_age, min_p, max_p)\n",
        "    if filtered.empty:\n",
        "        return html.Div(\"No games matched the filters.\")\n",
        "\n",
        "    if method == \"mmr\":\n",
        "        recs = recommend_mmr(profile, filtered, liked_ids, top_k=top_k, lambda_param=lambda_param)\n",
        "    else:\n",
        "        recs = recommend_cluster(profile, filtered, liked_ids, top_k=top_k, n_clusters=n_clusters)\n",
        "\n",
        "    table = html.Table([\n",
        "        html.Tr([html.Th(\"Game\"), html.Th(\"Similarity\"), html.Th(\"Play Time\"), html.Th(\"Min Age\")])\n",
        "    ] + [\n",
        "        html.Tr([\n",
        "            html.Td(r[\"name\"]),\n",
        "            html.Td(f\"{r['similarity']:.2f}\"),\n",
        "            html.Td(r[\"playingtime\"]),\n",
        "            html.Td(r[\"minage\"])\n",
        "        ]) for _, r in recs.iterrows()\n",
        "    ])\n",
        "\n",
        "    return table\n",
        "\n",
        "\n",
        "if __name__ == '__main__':\n",
        "    app.run(debug=True)"
      ]
    },
    {
      "cell_type": "markdown",
      "metadata": {
        "id": "7cw7VZBuacij"
      },
      "source": [
        "### New"
      ]
    },
    {
      "cell_type": "code",
      "execution_count": null,
      "metadata": {
        "colab": {
          "base_uri": "https://localhost:8080/",
          "height": 671
        },
        "id": "uZK3TGSsadab",
        "outputId": "24321850-a19f-47c6-cebc-0e0f3fbc194c"
      },
      "outputs": [],
      "source": [
        "import base64\n",
        "import pickle\n",
        "import pandas as pd\n",
        "import numpy as np\n",
        "import plotly.graph_objects as go\n",
        "import matplotlib.pyplot as plt\n",
        "\n",
        "from sklearn.metrics.pairwise import cosine_similarity\n",
        "from sklearn.decomposition import PCA\n",
        "from gensim import corpora, models\n",
        "from dash import Dash, html, dcc, Input, Output, callback_context, State\n",
        "from dash.exceptions import PreventUpdate\n",
        "from dash.dependencies import ALL\n",
        "from wordcloud import WordCloud\n",
        "from io import BytesIO\n",
        "from surprise import KNNWithMeans, Dataset, Reader\n",
        "from surprise import SVD\n",
        "\n",
        "# ------------------------------\n",
        "# Dataset definition\n",
        "# ------------------------------\n",
        "filename = \"boardgames_3000_clean_dual_tone_glove_cluster_popularity.csv\"\n",
        "games = pd.read_csv(filename, sep=\";\")\n",
        "games[\"glove_vector\"] = games[\"glove_vector\"].apply(lambda x: np.fromstring(str(x).strip(\"[]\"), sep=\" \"))\n",
        "reviews = pd.read_csv(\"filtered_reviews.csv\", sep=\";\")\n",
        "\n",
        "# ------------------------------\n",
        "# TF-IDF\n",
        "# ------------------------------\n",
        "def prepare_tfidf_matrix(games):\n",
        "  # Tokenize\n",
        "  tokenized_descr = [clean_description.split() for clean_description in games[\"clean_description\"]]\n",
        "\n",
        "  # Dictionary and corpus\n",
        "  dictionary = corpora.Dictionary(tokenized_descr)\n",
        "  bow_corpus = [dictionary.doc2bow(doc) for doc in tokenized_descr]\n",
        "\n",
        "  # TF-IDF corpus\n",
        "  tfidf = models.TfidfModel(bow_corpus)\n",
        "  tfidf_corpus = tfidf[bow_corpus]\n",
        "  num_docs = len(tfidf_corpus)\n",
        "  num_terms = len(dictionary)\n",
        "\n",
        "  # Create empty matrix\n",
        "  X_tfidf_gensim = np.zeros((num_docs, num_terms))\n",
        "\n",
        "  # Fill it with TF-IDF scores\n",
        "  for doc_idx, doc in enumerate(tfidf_corpus):\n",
        "      for term_id, tfidf_score in doc:\n",
        "          X_tfidf_gensim[doc_idx, term_id] = tfidf_score\n",
        "\n",
        "  return dictionary, bow_corpus, tfidf_corpus, X_tfidf_gensim\n",
        "\n",
        "def plot_tfidf_summary(dictionary, X_tfidf, top_n=25):\n",
        "    # Average and total scores\n",
        "    avg_scores = X_tfidf.mean(axis=0)\n",
        "    tfidf_term_scores = X_tfidf.sum(axis=0)\n",
        "\n",
        "    # Bar plot: top average scores\n",
        "    top_indices = avg_scores.argsort()[::-1][:top_n]\n",
        "    top_terms = [dictionary[i] for i in top_indices]\n",
        "    top_scores = avg_scores[top_indices]\n",
        "\n",
        "    bar_fig = go.Figure(go.Bar(\n",
        "        x=top_terms,\n",
        "        y=top_scores,\n",
        "        marker_color='indigo'\n",
        "    ))\n",
        "    bar_fig.update_layout(\n",
        "        xaxis_title=\"Term\",\n",
        "        yaxis_title=\"Average TF-IDF\",\n",
        "        xaxis_tickangle=-45\n",
        "    )\n",
        "\n",
        "    # Word cloud\n",
        "    word_freq = {dictionary[i]: tfidf_term_scores[i] for i in range(len(dictionary))}\n",
        "\n",
        "    wordcloud = WordCloud(\n",
        "        width=800, height=400,\n",
        "        background_color='white',\n",
        "        colormap='viridis',\n",
        "        max_words=200\n",
        "    ).generate_from_frequencies(word_freq)\n",
        "\n",
        "    # Convert to base64 image string for Dash\n",
        "    img = BytesIO()\n",
        "    wordcloud.to_image().save(img, format='PNG')\n",
        "    img.seek(0)\n",
        "    encoded_image = base64.b64encode(img.read()).decode()\n",
        "\n",
        "    return bar_fig, encoded_image\n",
        "\n",
        "dictionary, bow_corpus, tfidf_corpus, X_tfidf = prepare_tfidf_matrix(games)\n",
        "_, encoded_image = plot_tfidf_summary(dictionary, X_tfidf)\n",
        "\n",
        "\n",
        "# ------------------------------\n",
        "# Popular Games\n",
        "# ------------------------------\n",
        "def get_diverse_popular_games(games, top_k=10):\n",
        "    recommended_games = []\n",
        "\n",
        "    # Iterate over clusters to get popular games from each cluster\n",
        "    for cluster in range(games[\"description_cluster20\"].nunique()):\n",
        "        # Get games in the cluster\n",
        "        games_cluster = games[games[\"description_cluster20\"] == cluster]\n",
        "\n",
        "        # Sort by popularity\n",
        "        games_cluster = games_cluster.sort_values(\"popularity_score\", ascending=False)\n",
        "\n",
        "        # Select the top 1 game from each cluster to ensure diversity\n",
        "        top_game = games_cluster.head(1)\n",
        "        recommended_games.append(top_game)\n",
        "\n",
        "    # Combine all recommended games and sort by popularity score\n",
        "    recommended_games = pd.concat(recommended_games)\n",
        "    recommended_games = recommended_games.sort_values(\"popularity_score\", ascending=False).head(top_k)\n",
        "\n",
        "    explanations = []\n",
        "    for _, row in recommended_games.iterrows():\n",
        "        cluster = row[\"description_cluster20\"]\n",
        "        rating = round(row[\"avg_rating\"], 2)\n",
        "        num = int(row[\"num_ratings\"])\n",
        "\n",
        "        explanation = (f\"This game is highly rated ({rating}/10 from {num} users)\")\n",
        "        explanations.append(explanation)\n",
        "\n",
        "    recommended_games[\"explanation\"] = explanations\n",
        "\n",
        "    return recommended_games[[\"name\", \"clean_description\", \"avg_rating\", \"num_ratings\", \"popularity_score\", \"explanation\"]]\n",
        "\n",
        "# ------------------------------\n",
        "# Content-Based System (MMR)\n",
        "# ------------------------------\n",
        "def mmr(user_profile, candidate_vectors, candidate_ids, lambda_param=0.7, top_k=10):\n",
        "    selected = []\n",
        "    selected_ids = []\n",
        "    candidate_indices = list(range(len(candidate_vectors)))\n",
        "\n",
        "    similarities_to_user = cosine_similarity(candidate_vectors, [user_profile]).flatten()\n",
        "    similarity_matrix = cosine_similarity(candidate_vectors)\n",
        "\n",
        "    for _ in range(top_k):\n",
        "        mmr_scores = []\n",
        "        for idx in candidate_indices:\n",
        "            if not selected:\n",
        "                diversity_penalty = 0\n",
        "            else:\n",
        "                diversity_penalty = max(similarity_matrix[idx][j] for j in selected)\n",
        "\n",
        "            mmr_score = lambda_param * similarities_to_user[idx] - (1 - lambda_param) * diversity_penalty\n",
        "            mmr_scores.append((idx, mmr_score))\n",
        "\n",
        "        selected_idx, _ = max(mmr_scores, key=lambda x: x[1])\n",
        "        selected.append(selected_idx)\n",
        "        selected_ids.append(candidate_ids[selected_idx])\n",
        "        candidate_indices.remove(selected_idx)\n",
        "\n",
        "    return selected_ids\n",
        "\n",
        "def visualize_mmr(user_vector, candidate_vectors, candidate_ids, game_names, lambda_param=0.7, top_k=10):\n",
        "    # Get top-k by similarity\n",
        "    relevance = cosine_similarity(candidate_vectors, [user_vector]).flatten()\n",
        "    top_k_indices = relevance.argsort()[::-1][:top_k]\n",
        "    top_k_ids = [candidate_ids[i] for i in top_k_indices]\n",
        "\n",
        "    # Get top-k using MMR\n",
        "    mmr_ids = mmr(user_vector, candidate_vectors, candidate_ids, lambda_param, top_k)\n",
        "\n",
        "    # Reduce dimensions for plotting\n",
        "    pca = PCA(n_components=2)\n",
        "    reduced = pca.fit_transform(np.vstack([user_vector, candidate_vectors]))\n",
        "    user_p = reduced[0]\n",
        "    candidates_p = reduced[1:]\n",
        "\n",
        "    plt.figure(figsize=(10, 7))\n",
        "    plt.scatter(candidates_p[:, 0], candidates_p[:, 1], c='lightgray', label=\"All Candidates\", alpha=0.5)\n",
        "\n",
        "    # Plot user profile\n",
        "    plt.scatter(user_p[0], user_p[1], c='blue', label=\"User Profile\", marker='X', s=100)\n",
        "\n",
        "    # Plot top-k by similarity\n",
        "    for idx in top_k_indices:\n",
        "        plt.scatter(candidates_p[idx, 0], candidates_p[idx, 1], c='green', label=\"Top-k Similarity\" if idx == top_k_indices[0] else \"\", edgecolors='black')\n",
        "        plt.text(candidates_p[idx, 0], candidates_p[idx, 1], game_names[candidate_ids[idx]], fontsize=8, color='darkgreen')\n",
        "\n",
        "    # Plot MMR-selected games\n",
        "    for mmr_id in mmr_ids:\n",
        "        i = candidate_ids.index(mmr_id)\n",
        "        plt.scatter(candidates_p[i, 0], candidates_p[i, 1], c='orange', label=\"Top-k MMR\" if mmr_id == mmr_ids[0] else \"\", edgecolors='black')\n",
        "        plt.text(candidates_p[i, 0], candidates_p[i, 1], game_names[mmr_id], fontsize=8, color='darkorange')\n",
        "\n",
        "    plt.legend()\n",
        "    plt.title(f\"MMR vs Top-k Similarity (λ = {lambda_param})\")\n",
        "    plt.xlabel(\"PCA Component 1\")\n",
        "    plt.ylabel(\"PCA Component 2\")\n",
        "    plt.grid(True)\n",
        "\n",
        "    # Instead of plt.show(), convert to base64\n",
        "    buf = BytesIO()\n",
        "    plt.savefig(buf, format='png', bbox_inches='tight')\n",
        "    plt.close()\n",
        "    buf.seek(0)\n",
        "    return base64.b64encode(buf.read()).decode()\n",
        "\n",
        "def recommend_content_based_mmr(user_name, games, reviews, top_k=10, testing=False, max_playingtime=None, min_age=None, minplayers=None, maxplayers=None, min_rating=6, plot=False):\n",
        "    # Filter games based on user preferences\n",
        "    filtered_games = games.copy()\n",
        "\n",
        "    if max_playingtime is not None:\n",
        "        filtered_games = filtered_games[filtered_games[\"playingtime\"] <= max_playingtime]\n",
        "    if min_age is not None:\n",
        "        filtered_games = filtered_games[filtered_games[\"minage\"] >= min_age]\n",
        "    if minplayers is not None:\n",
        "        filtered_games = filtered_games[filtered_games[\"minplayers\"] <= minplayers]\n",
        "    if maxplayers is not None:\n",
        "        filtered_games = filtered_games[filtered_games[\"maxplayers\"] >= maxplayers]\n",
        "    if min_rating is not None:\n",
        "        filtered_games = filtered_games[filtered_games[\"rating\"] >= min_rating]\n",
        "\n",
        "    if filtered_games.empty:\n",
        "        print(\"No games match the provided filters.\")\n",
        "        return\n",
        "\n",
        "    # Get games the user liked\n",
        "    liked_game_ids = reviews[(reviews[\"user\"] == user_name) & (reviews[\"rating\"] >= 6)]\n",
        "    liked_vectors = liked_game_ids.merge(games[[\"id\", \"glove_vector\"]], left_on=\"ID\", right_on=\"id\")\n",
        "\n",
        "    if liked_vectors.empty:\n",
        "        print(\"Not enough liked games with vectors to build a profile.\")\n",
        "        return\n",
        "\n",
        "    # Build user profile (weighted average)\n",
        "    ratings = liked_vectors[\"rating\"].values\n",
        "    weights = ratings / ratings.max()\n",
        "    vectors = np.vstack(liked_vectors[\"glove_vector\"])\n",
        "    user_profile = np.average(vectors, axis=0, weights=weights)\n",
        "\n",
        "    if not testing:\n",
        "        # Remove already liked games from recommendations\n",
        "        unseen_mask = ~filtered_games[\"id\"].isin(liked_game_ids[\"ID\"])\n",
        "        filtered_games = filtered_games[unseen_mask]\n",
        "\n",
        "    if filtered_games.empty:\n",
        "        print(\"No new games to recommend after filtering out liked ones.\")\n",
        "        return\n",
        "\n",
        "    # Prepare data for MMR\n",
        "    game_vectors = np.vstack(filtered_games[\"glove_vector\"].values)\n",
        "    similarities = cosine_similarity(game_vectors, [user_profile]).flatten()\n",
        "\n",
        "    # Apply MMR for diversity\n",
        "    selected_ids = mmr(user_profile, game_vectors, filtered_games[\"id\"].tolist(), lambda_param=0.7, top_k=top_k)\n",
        "    recommended_games = filtered_games[filtered_games[\"id\"].isin(selected_ids)].copy()\n",
        "\n",
        "    # Add similarity score for interpretability\n",
        "    recommended_games[\"similarity\"] = similarities[[filtered_games[\"id\"].tolist().index(i) for i in selected_ids]]\n",
        "\n",
        "    # Generate personalized explanations with vibe and emotion\n",
        "    explanations = []\n",
        "    for game_id in selected_ids:\n",
        "        # Find the most similar liked game\n",
        "        similarities_to_liked_games = cosine_similarity([games.loc[games[\"id\"] == game_id, \"glove_vector\"].values[0]], liked_vectors[\"glove_vector\"].tolist()).flatten()\n",
        "        most_similar_game_idx = np.argmax(similarities_to_liked_games)\n",
        "        most_similar_game_id = liked_game_ids.iloc[most_similar_game_idx][\"ID\"]\n",
        "        most_similar_game_name = games.loc[games[\"id\"] == most_similar_game_id, \"name\"].values[0]\n",
        "        most_similar_rating = liked_game_ids.iloc[most_similar_game_idx][\"rating\"]\n",
        "\n",
        "        # Get predicted vibe and emotion for the recommended game\n",
        "        predicted_vibe = games.loc[games[\"id\"] == game_id, \"predicted_vibe\"].values[0]\n",
        "        predicted_emotion = games.loc[games[\"id\"] == game_id, \"predicted_emotion\"].values[0]\n",
        "\n",
        "        # Generate the explanation\n",
        "        explanation = (\n",
        "            f\"I recommend this game because you liked '{most_similar_game_name}' \"\n",
        "            f\"(you rated it {most_similar_rating}/10). \"\n",
        "            f\"This game has a '{predicted_emotion}' feeling and is '{predicted_vibe}'.\"\n",
        "        )\n",
        "        explanations.append(explanation)\n",
        "\n",
        "    recommended_games[\"explanation\"] = explanations\n",
        "\n",
        "    mmr_plot_encoded = None\n",
        "    if plot:\n",
        "        mmr_plot_encoded = visualize_mmr(user_profile, game_vectors, filtered_games[\"id\"].tolist(), dict(zip(games[\"id\"], games[\"name\"])), lambda_param=0.7, top_k=top_k)\n",
        "\n",
        "    return recommended_games[[\"name\", \"rating\", \"id\", \"similarity\", \"explanation\"]], mmr_plot_encoded\n",
        "\n",
        "# ------------------------------\n",
        "# Hybrid Content-Based\n",
        "# ------------------------------\n",
        "def predict_all_ratings(user_name, games_df, reviews_df, k=10):\n",
        "    # Get user-rated games and their vectors\n",
        "    user_reviews = reviews_df[reviews_df[\"user\"] == user_name]\n",
        "    if user_reviews.empty:\n",
        "        return \"No reviews found for this user.\"\n",
        "\n",
        "    user_games = user_reviews.merge(games_df[[\"id\", \"glove_vector\"]], left_on=\"ID\", right_on=\"id\")\n",
        "    if user_games.empty:\n",
        "        return \"User has rated games with no vector information.\"\n",
        "\n",
        "    rated_vectors = np.vstack(user_games[\"glove_vector\"])\n",
        "    rated_ratings = user_games[\"rating\"].values\n",
        "    rated_names = user_games[\"name\"].tolist()\n",
        "\n",
        "    # Games not yet rated by user\n",
        "    unseen_games = games_df[~games_df[\"id\"].isin(user_games[\"id\"])].copy()\n",
        "    if unseen_games.empty:\n",
        "        return \"No unseen games to predict ratings for.\"\n",
        "\n",
        "    predicted_ratings = []\n",
        "\n",
        "    for _, game in unseen_games.iterrows():\n",
        "        target_vector = game[\"glove_vector\"]\n",
        "\n",
        "        # Cosine similarity with all user-rated games\n",
        "        similarities = cosine_similarity(rated_vectors, [target_vector]).flatten()\n",
        "        similarities = np.maximum(similarities, 0)\n",
        "\n",
        "        # Select top-k most similar games\n",
        "        if len(similarities) < k:\n",
        "            k_adj = len(similarities)\n",
        "        else:\n",
        "            k_adj = k\n",
        "\n",
        "        top_k_idx = np.argsort(similarities)[-k_adj:]\n",
        "        top_similarities = similarities[top_k_idx]\n",
        "        top_ratings = rated_ratings[top_k_idx]\n",
        "        top_game_names = [rated_names[i] for i in top_k_idx]\n",
        "\n",
        "        if top_similarities.sum() == 0:\n",
        "            pred_rating = np.nan\n",
        "            explanation = \"No sufficiently similar games found.\"\n",
        "        else:\n",
        "            pred_rating = np.average(top_ratings, weights=top_similarities)\n",
        "            # Build explanation\n",
        "            if len(top_game_names) == 1:\n",
        "                explanation = f\"Because you liked **{top_game_names[0]}**, and this game is similar to it.\"\n",
        "            elif len(top_game_names) == 2:\n",
        "                explanation = f\"Because you liked **{top_game_names[0]}** and **{top_game_names[1]}**, and this game is similar to both.\"\n",
        "            else:\n",
        "                explanation = f\"Because you liked games like **{top_game_names[0]}**, **{top_game_names[1]}**, and others.\"\n",
        "\n",
        "        predicted_ratings.append((game[\"id\"], game[\"name\"], round(pred_rating, 2) if not np.isnan(pred_rating) else None, explanation))\n",
        "\n",
        "    # Return as a DataFrame\n",
        "    pred_df = pd.DataFrame(predicted_ratings, columns=[\"id\", \"name\", \"predicted_rating\", \"explanation\"])\n",
        "    pred_df = pred_df.sort_values(by=\"predicted_rating\", ascending=False)\n",
        "\n",
        "    return pred_df\n",
        "\n",
        "# ------------------------------\n",
        "# Collaborative functions\n",
        "# ------------------------------\n",
        "def recommend_with_knn(user_name, games_df, reviews_df, top_k=10):\n",
        "    # Load KNNWithMeans model\n",
        "    with open(\"knn_model.pkl\", \"rb\") as f:\n",
        "        model = pickle.load(f)\n",
        "\n",
        "    # Get games the user has not rated\n",
        "    rated_ids = reviews_df[reviews_df[\"user\"] == user_name][\"ID\"].unique()\n",
        "    unseen_ids = [gid for gid in games_df[\"id\"].unique() if gid not in rated_ids]\n",
        "\n",
        "    # Predict ratings\n",
        "    predictions = [(gid, model.predict(user_name, gid).est) for gid in unseen_ids]\n",
        "    top_preds = sorted(predictions, key=lambda x: x[1], reverse=True)[:top_k]\n",
        "\n",
        "    # Retrieve game info\n",
        "    top_game_ids = [gid for gid, _ in top_preds]\n",
        "    recommended = games_df[games_df[\"id\"].isin(top_game_ids)][[\"name\", \"rating\", \"id\"]].copy()\n",
        "    recommended[\"predicted_rating\"] = [round(r, 2) for _, r in top_preds]\n",
        "\n",
        "    return recommended.sort_values(\"predicted_rating\", ascending=False)\n",
        "\n",
        "def recommend_with_svd(user_name, games_df, reviews_df, top_k=10):\n",
        "    # Load model\n",
        "    with open(\"svd_model.pkl\", \"rb\") as f:\n",
        "        model = pickle.load(f)\n",
        "\n",
        "    # Get games the user has not rated\n",
        "    rated_ids = reviews_df[reviews_df[\"user\"] == user_name][\"ID\"].unique()\n",
        "    unseen_ids = [gid for gid in games_df[\"id\"].unique() if gid not in rated_ids]\n",
        "\n",
        "    # Predict ratings\n",
        "    predictions = [(gid, model.predict(user_name, gid).est) for gid in unseen_ids]\n",
        "    top_preds = sorted(predictions, key=lambda x: x[1], reverse=True)[:top_k]\n",
        "\n",
        "    # Retrieve game info\n",
        "    top_game_ids = [gid for gid, _ in top_preds]\n",
        "    recommended = games_df[games_df[\"id\"].isin(top_game_ids)][[\"name\", \"rating\", \"id\"]].copy()\n",
        "    recommended[\"predicted_rating\"] = [round(r, 2) for _, r in top_preds]\n",
        "\n",
        "    return recommended.sort_values(\"predicted_rating\", ascending=False)\n",
        "\n",
        "# ------------------------------\n",
        "# Dash App\n",
        "# ------------------------------\n",
        "app = Dash(__name__, suppress_callback_exceptions=True)\n",
        "\n",
        "# --- Global Styles ---\n",
        "app.index_string = '''\n",
        "<!DOCTYPE html>\n",
        "<html>\n",
        "    <head>\n",
        "        {%metas%}\n",
        "        <title>Board Game Recommender</title>\n",
        "        {%favicon%}\n",
        "        {%css%}\n",
        "        <link href=\"https://fonts.googleapis.com/css2?family=Inter:wght@400;600&display=swap\" rel=\"stylesheet\">\n",
        "        <style>\n",
        "            body {\n",
        "                font-family: 'Inter', sans-serif;\n",
        "                background-color: #f8f9fa;\n",
        "                margin: 0;\n",
        "                padding: 0;\n",
        "            }\n",
        "            .landing-container {\n",
        "                display: flex;\n",
        "                flex-direction: column;\n",
        "                align-items: center;\n",
        "                justify-content: center;\n",
        "                height: 100vh;\n",
        "                text-align: center;\n",
        "            }\n",
        "            .landing-container h1 {\n",
        "                font-size: 3rem;\n",
        "                margin-bottom: 0.5em;\n",
        "            }\n",
        "            .landing-container p {\n",
        "                font-size: 1.2rem;\n",
        "                color: #555;\n",
        "                margin-bottom: 2em;\n",
        "            }\n",
        "            .button-row {\n",
        "                display: flex;\n",
        "                gap: 1.5em;\n",
        "                flex-wrap: wrap;\n",
        "                justify-content: center;\n",
        "            }\n",
        "            .start-button {\n",
        "                font-size: 1rem;\n",
        "                padding: 0.75em 1.5em;\n",
        "                border: none;\n",
        "                border-radius: 8px;\n",
        "                background-color: #007BFF;\n",
        "                color: white;\n",
        "                cursor: pointer;\n",
        "                transition: background-color 0.3s ease;\n",
        "                min-width: 180px;\n",
        "            }\n",
        "            .start-button:hover {\n",
        "                background-color: #0056b3;\n",
        "            }\n",
        "            .back-button-container {\n",
        "                display: flex;\n",
        "                justify-content: center;\n",
        "                margin-top: 3em;\n",
        "            }\n",
        "            .back-button {\n",
        "                font-size: 1rem;\n",
        "                padding: 0.75em 1.5em;\n",
        "                border: none;\n",
        "                border-radius: 8px;\n",
        "                background-color: #6c757d;\n",
        "                color: white;\n",
        "                cursor: pointer;\n",
        "                transition: background-color 0.3s ease;\n",
        "                min-width: 180px;\n",
        "            }\n",
        "            .back-button:hover {\n",
        "                background-color: #5a6268;\n",
        "            }\n",
        "        </style>\n",
        "    </head>\n",
        "    <body>\n",
        "        {%app_entry%}\n",
        "        <footer>\n",
        "            {%config%}\n",
        "            {%scripts%}\n",
        "            {%renderer%}\n",
        "        </footer>\n",
        "    </body>\n",
        "</html>\n",
        "'''\n",
        "\n",
        "# --- Landing Layout ---\n",
        "landing_layout = html.Div(className=\"landing-container\", children=[\n",
        "    html.H1(\"🎲 Welcome to the Board Game Recommender\"),\n",
        "    html.P(\"Discover games tailored to your preferences.\"),\n",
        "    html.Div(className=\"button-row\", children=[\n",
        "        html.A(html.Button(\"Explore Dataset\", className=\"start-button\"), href=\"/exploration\"),\n",
        "        html.A(html.Button(\"Start Recommending\", className=\"start-button\"), href=\"/recommender\")\n",
        "    ])\n",
        "])\n",
        "\n",
        "# --- Recommender Layout ---\n",
        "recommender_layout = html.Div(style={\n",
        "    'display': 'flex',\n",
        "    'flexDirection': 'column',\n",
        "    'alignItems': 'center',\n",
        "    'justifyContent': 'center',\n",
        "    'padding': '5vh 2rem',\n",
        "    'textAlign': 'center'\n",
        "}, children=[\n",
        "    html.Div(\"🕵️‍♂️\", style={'fontSize': '5rem', 'marginBottom': '0.5rem'}),\n",
        "    html.H2(\"Who are you?\"),\n",
        "    html.P(\"Enter your username to continue\"),\n",
        "    dcc.Input(\n",
        "        id='user-name-input',\n",
        "        type='text',\n",
        "        placeholder='e.g. boardgamefan99',\n",
        "        debounce=True,\n",
        "        style={\n",
        "            'padding': '0.6rem 1rem',\n",
        "            'fontSize': '1rem',\n",
        "            'borderRadius': '8px',\n",
        "            'border': '1px solid #ccc',\n",
        "            'width': '300px',\n",
        "            'marginTop': '1rem'\n",
        "        }\n",
        "    ),\n",
        "\n",
        "    html.Div(id='game-rating-inputs', style={'width': '100%', 'maxWidth': '600px'}),\n",
        "    html.Div(style={'display': 'flex', 'gap': '1rem', 'marginTop': '1.5rem'}, children=[\n",
        "        html.A(html.Button(\"← Go Back\", className=\"back-button\"), href=\"/\"),\n",
        "        html.Button(\"Continue\", id='user-continue-button', n_clicks=0, style={\n",
        "            'padding': '0.6rem 1.5rem',\n",
        "            'fontSize': '1rem',\n",
        "            'border': 'none',\n",
        "            'borderRadius': '8px',\n",
        "            'backgroundColor': '#007BFF',\n",
        "            'color': 'white',\n",
        "            'cursor': 'pointer'\n",
        "        })\n",
        "    ]),\n",
        "    html.Div(id='user-error', style={'color': 'red', 'marginTop': '1rem'})\n",
        "])\n",
        "\n",
        "# --- Data Exploration Layout ---\n",
        "exploration_layout = html.Div([\n",
        "    html.H2(\"📊 Dataset Overview\"),\n",
        "\n",
        "    html.H4(\"ℹ️ TMI but...\"),\n",
        "    html.P([\n",
        "        \"Our dataset is self-collected and based on data from \",\n",
        "        html.A(\"BoardGameGeek\", href=\"https://boardgamegeek.com/\", target=\"_blank\"),\n",
        "        \", the world’s largest online board game database and community. It contains\",\n",
        "        f\" {len(games):,} board games including ratings, player requirements, age guidelines, and more.\"\n",
        "    ]),\n",
        "    html.P(\"BoardGameGeek hosts ratings, reviews, descriptions, and play guides for thousands of games, powered by contributions from over 2 million registered users. We could say it’s a go-to hub for board game enthusiasts around the world.\"),\n",
        "\n",
        "    html.Br(),\n",
        "    html.H4(\"🔍 TF-IDF Summary\"),\n",
        "    html.P(\"Ever wondered which words make board games truly stand out? The chart and cloud below show the most distinctive terms across all game descriptions, calculated using a method called TF-IDF. The higher the score, the more unique and important a word is to describing those games. Try adjusting the slider to explore the top keywords!\"),\n",
        "\n",
        "    html.Div(style={\n",
        "        'backgroundColor': '#e7f1fb',\n",
        "        'border': '1px solid #c3d9ec',\n",
        "        'borderRadius': '12px',\n",
        "        'padding': '1.5rem',\n",
        "        'marginTop': '1rem',\n",
        "        'marginBottom': '2rem',\n",
        "        'boxShadow': '0 2px 5px rgba(0,0,0,0.05)'\n",
        "    }, children=[\n",
        "        html.Label(\"Select number of top terms:\"),\n",
        "        dcc.Slider(\n",
        "            id='top-k-slider',\n",
        "            min=5,\n",
        "            max=50,\n",
        "            step=1,\n",
        "            value=25,\n",
        "            marks={i: str(i) for i in range(5, 51, 5)},\n",
        "            tooltip={\"placement\": \"bottom\", \"always_visible\": True}\n",
        "        ),\n",
        "        html.Br(),\n",
        "\n",
        "        html.Div(style={'display': 'flex', 'justifyContent': 'space-between', 'gap': '2em'}, children=[\n",
        "\n",
        "            # Left: bar chart\n",
        "            html.Div(style={'flex': '1'}, children=[\n",
        "                dcc.Graph(id='tfidf-bar-chart', style={'height': '230px'})\n",
        "            ]),\n",
        "\n",
        "            # Right: word cloud\n",
        "            html.Div(style={'flex': '1', 'textAlign': 'center'}, children=[\n",
        "                html.Img(id='tfidf-wordcloud',\n",
        "                        src='data:image/png;base64,{}'.format(encoded_image),\n",
        "                        style={'width': '100%', 'maxWidth': '100%'})\n",
        "            ])\n",
        "        ])\n",
        "    ]),\n",
        "\n",
        "    html.Br(),\n",
        "    html.H4(\"🧠 Topic Distribution (LDA)\"),\n",
        "    html.P(\"Explore how topics are distributed across the board game descriptions. This interactive map lets you hover over topics, see top keywords, and better understand how the model organizes the data.\"),\n",
        "    html.Div(style={\n",
        "        'backgroundColor': '#e7f1fb',\n",
        "        'border': '1px solid #c3d9ec',\n",
        "        'borderRadius': '12px',\n",
        "        'padding': '1.5rem',\n",
        "        'marginTop': '1rem',\n",
        "        'marginBottom': '2rem',\n",
        "        'boxShadow': '0 2px 5px rgba(0,0,0,0.05)'\n",
        "    }, children=[\n",
        "        html.Iframe(\n",
        "            src=\"/assets/lda_vis.html\",\n",
        "            style={\n",
        "                \"width\": \"100%\",\n",
        "                \"height\": \"600px\",\n",
        "                \"border\": \"none\",\n",
        "                \"borderRadius\": \"12px\"\n",
        "            }\n",
        "        )\n",
        "    ]),\n",
        "\n",
        "    html.Div(className=\"back-button-container\", children=[\n",
        "        html.A(html.Button(\"← Go Back\", className=\"back-button\"), href=\"/\")\n",
        "    ])\n",
        "])\n",
        "\n",
        "# --- Register User Layout ---\n",
        "register_user_layout = html.Div(style={\n",
        "    'display': 'flex',\n",
        "    'flexDirection': 'column',\n",
        "    'alignItems': 'center',\n",
        "    'padding': '5vh 2rem',\n",
        "    'textAlign': 'center'\n",
        "}, children=[\n",
        "    html.H2(\"Oops! Looks like you are new here...please register!\"),\n",
        "\n",
        "    # Username row\n",
        "    html.Div(style={'display': 'flex', 'alignItems': 'center', 'gap': '1rem', 'marginBottom': '1.5rem'}, children=[\n",
        "        html.Label(\"Username:\", style={'fontWeight': 'bold', 'whiteSpace': 'nowrap'}),\n",
        "        dcc.Input(\n",
        "            id='new-username-input',\n",
        "            type='text',\n",
        "            placeholder='e.g. boardgamefan123',\n",
        "            style={\n",
        "                'padding': '0.6rem 1rem',\n",
        "                'fontSize': '1rem',\n",
        "                'borderRadius': '8px',\n",
        "                'border': '1px solid #ccc',\n",
        "                'width': '300px'\n",
        "            }\n",
        "        )\n",
        "    ]),\n",
        "\n",
        "    # Game selection row\n",
        "    html.Div(style={'display': 'flex', 'alignItems': 'center', 'gap': '1rem', 'marginBottom': '1.5rem'}, children=[\n",
        "        html.Label(\"Search for 5 games you like:\", style={'fontWeight': 'bold', 'whiteSpace': 'nowrap'}),\n",
        "        dcc.Dropdown(\n",
        "            id='game-selection-dropdown',\n",
        "            options=[\n",
        "                {'label': row['name'], 'value': row['id']}\n",
        "                for _, row in games.sort_values('name').iterrows()\n",
        "            ],\n",
        "            multi=True,\n",
        "            placeholder=\"Start typing to find games…\",\n",
        "            style={'width': '500px'}\n",
        "        )\n",
        "    ]),\n",
        "\n",
        "    # Rating sliders will appear here\n",
        "    html.Div(id='game-rating-inputs', style={\n",
        "        'width': '100%',\n",
        "        'maxWidth': '600px',\n",
        "        'marginBottom': '2rem'\n",
        "    }),\n",
        "\n",
        "    # Buttons\n",
        "    html.Div(style={'display': 'flex', 'gap': '1rem'}, children=[\n",
        "        html.A(html.Button(\"← Go Back\", className=\"back-button\"), href=\"/\"),\n",
        "        html.Button(\"Register\", id=\"register-button\", n_clicks=0, style={\n",
        "            'padding': '0.6rem 1.5rem',\n",
        "            'fontSize': '1rem',\n",
        "            'border': 'none',\n",
        "            'borderRadius': '8px',\n",
        "            'backgroundColor': '#007BFF',\n",
        "            'color': 'white',\n",
        "            'cursor': 'pointer'\n",
        "        })\n",
        "    ]),\n",
        "\n",
        "    html.Div(id='register-error', style={'color': 'red', 'marginTop': '1rem'})\n",
        "])\n",
        "\n",
        "# --- Recommendation Options Layout ---\n",
        "recommendation_options_layout = html.Div(style={\n",
        "    'display': 'flex',\n",
        "    'flexDirection': 'column',\n",
        "    'alignItems': 'center',\n",
        "    'padding': '5vh 2rem',\n",
        "    'textAlign': 'center'\n",
        "}, children=[\n",
        "    html.H2(\"🧠 Choose a Recommendation Strategy\"),\n",
        "    html.P(\"Select an algorithm below to get your personalized board game recommendations.\"),\n",
        "\n",
        "    html.Div(style={'display': 'flex', 'gap': '1.5rem', 'marginTop': '2rem'}, children=[\n",
        "        html.Button(\"🔍 Content-Based Filtering (MMR)\", id='algo-content', className='start-button'),\n",
        "        html.Button(\"🤝 Collaborative Filtering\", id='algo-collab', className='start-button'),\n",
        "        html.Button(\"🧪 Hybrid Approach\", id='algo-hybrid', className='start-button')\n",
        "    ]),\n",
        "\n",
        "    html.Div(className=\"back-button-container\", children=[\n",
        "        html.A(html.Button(\"← Go Back\", className=\"back-button\"), href=\"/\")\n",
        "    ])\n",
        "])\n",
        "\n",
        "# --- New User Choice Layout ---\n",
        "new_user_choice_layout = html.Div(style={\n",
        "    'display': 'flex',\n",
        "    'flexDirection': 'column',\n",
        "    'alignItems': 'center',\n",
        "    'justifyContent': 'center',\n",
        "    'padding': '8vh 2rem',\n",
        "    'textAlign': 'center'\n",
        "}, children=[\n",
        "    html.Div(\"✨\", style={'fontSize': '4rem', 'marginBottom': '0.5rem'}),\n",
        "    html.H2(\"Looks like it's your first time here!\"),\n",
        "    html.P(\"Would you like to create a profile for personalized recommendations or just see what's popular?\"),\n",
        "\n",
        "    html.Div(style={'display': 'flex', 'gap': '2rem', 'marginTop': '2rem'}, children=[\n",
        "        html.Button(\"🎯 Create a Profile\", id=\"go-to-register\", n_clicks=0, style={\n",
        "            'padding': '1rem 2rem',\n",
        "            'fontSize': '1.1rem',\n",
        "            'border': 'none',\n",
        "            'borderRadius': '10px',\n",
        "            'backgroundColor': '#007BFF',\n",
        "            'color': 'white',\n",
        "            'cursor': 'pointer',\n",
        "            'minWidth': '220px'\n",
        "        }),\n",
        "        html.Button(\"🔥 Show Popular Games\", id=\"go-to-popular\", n_clicks=0, style={\n",
        "            'padding': '1rem 2rem',\n",
        "            'fontSize': '1.1rem',\n",
        "            'border': 'none',\n",
        "            'borderRadius': '10px',\n",
        "            'backgroundColor': '#28a745',\n",
        "            'color': 'white',\n",
        "            'cursor': 'pointer',\n",
        "            'minWidth': '220px'\n",
        "        })\n",
        "    ]),\n",
        "\n",
        "    html.Div(className=\"back-button-container\", children=[\n",
        "        html.A(html.Button(\"← Go Back\", className=\"back-button\"), href=\"/\")\n",
        "    ])\n",
        "])\n",
        "\n",
        "# --- Popular Games Layout ---\n",
        "popular_games_layout = html.Div([\n",
        "    html.H2(\"🔥 Popular Board Games\"),\n",
        "    html.Div([\n",
        "        html.Label(\"Select how many games to show:\", style={'fontWeight': 'bold'}),\n",
        "        dcc.Slider(\n",
        "            id=\"top-n-slider\",\n",
        "            min=5,\n",
        "            max=15,\n",
        "            step=1,\n",
        "            value=10,\n",
        "            marks={i: str(i) for i in range(5, 16)},\n",
        "            tooltip={\"placement\": \"bottom\", \"always_visible\": True},\n",
        "            updatemode=\"drag\"\n",
        "        )\n",
        "    ], style={'width': '100%', 'padding': '1rem 3rem', 'marginBottom': '2rem'}),\n",
        "    html.Div(id=\"popular-games-output\"),\n",
        "    html.Div(className=\"back-button-container\", children=[\n",
        "        html.A(html.Button(\"← Go Back\", className=\"back-button\"), href=\"/\")\n",
        "    ])\n",
        "])\n",
        "\n",
        "# --- Content-Based MMR Layout ---\n",
        "content_mmr_layout = html.Div(style={\n",
        "    'display': 'flex',\n",
        "    'flexDirection': 'column',\n",
        "    'alignItems': 'center',\n",
        "    'padding': '5vh 2rem',\n",
        "    'textAlign': 'center'\n",
        "}, children=[\n",
        "\n",
        "    html.H2(\"🎯 Content-Based MMR Recommender\"),\n",
        "    html.P(\"Customize the parameters below to get personalized and diverse game recommendations.\"),\n",
        "\n",
        "    html.Div([\n",
        "\n",
        "        html.Div([\n",
        "            html.Label(\"🎲 Max Playing Time (minutes):\"),\n",
        "            dcc.Slider(\n",
        "                id=\"input-max-playingtime\",\n",
        "                min=10, max=300, step=10, value=60,\n",
        "                marks={i: str(i) for i in range(30, 301, 30)},\n",
        "                tooltip={\"placement\": \"bottom\", \"always_visible\": True}\n",
        "            )\n",
        "        ], style={\"width\": \"100%\", \"maxWidth\": \"600px\", \"marginBottom\": \"1.5rem\"}),\n",
        "\n",
        "        html.Div([\n",
        "            html.Label(\"👶 Minimum Age:\"),\n",
        "            dcc.Slider(\n",
        "                id=\"input-min-age\",\n",
        "                min=3, max=18, step=1, value=10,\n",
        "                marks={i: str(i) for i in range(3, 19, 3)},\n",
        "                tooltip={\"placement\": \"bottom\", \"always_visible\": True}\n",
        "            )\n",
        "        ], style={\"width\": \"100%\", \"maxWidth\": \"600px\", \"marginBottom\": \"1.5rem\"}),\n",
        "\n",
        "        html.Div([\n",
        "            html.Label(\"👥 Minimum Players:\"),\n",
        "            dcc.Slider(\n",
        "                id=\"input-min-players\",\n",
        "                min=1, max=10, step=1, value=2,\n",
        "                marks={i: str(i) for i in range(1, 11)},\n",
        "                tooltip={\"placement\": \"bottom\", \"always_visible\": True}\n",
        "            )\n",
        "        ], style={\"width\": \"100%\", \"maxWidth\": \"600px\", \"marginBottom\": \"1.5rem\"}),\n",
        "\n",
        "        html.Div([\n",
        "            html.Label(\"👥 Maximum Players:\"),\n",
        "            dcc.Slider(\n",
        "                id=\"input-max-players\",\n",
        "                min=1, max=20, step=1, value=4,\n",
        "                marks={i: str(i) for i in range(2, 21, 2)},\n",
        "                tooltip={\"placement\": \"bottom\", \"always_visible\": True}\n",
        "            )\n",
        "        ], style={\"width\": \"100%\", \"maxWidth\": \"600px\", \"marginBottom\": \"1.5rem\"}),\n",
        "\n",
        "        html.Div([\n",
        "            html.Label(\"⭐ Minimum Rating:\"),\n",
        "            dcc.Slider(\n",
        "                id=\"input-min-rating\",\n",
        "                min=1, max=10, step=1, value=6,\n",
        "                marks={i: str(i) for i in range(1, 11)},\n",
        "                tooltip={\"placement\": \"bottom\", \"always_visible\": True}\n",
        "            )\n",
        "        ], style={\"width\": \"100%\", \"maxWidth\": \"600px\", \"marginBottom\": \"1.5rem\"}),\n",
        "\n",
        "        html.Div([\n",
        "            html.Label(\"🔝 Number of Recommendations (Top-K):\"),\n",
        "            dcc.Slider(\n",
        "                id=\"input-top-k\",\n",
        "                min=3, max=20, step=1, value=10,\n",
        "                marks={i: str(i) for i in range(3, 21)},\n",
        "                tooltip={\"placement\": \"bottom\", \"always_visible\": True}\n",
        "            )\n",
        "        ], style={\"width\": \"100%\", \"maxWidth\": \"600px\", \"marginBottom\": \"1.5rem\"}),\n",
        "\n",
        "        html.Div([\n",
        "            html.Label(\"⚖️ MMR Lambda (Diversity vs Relevance):\"),\n",
        "            dcc.Slider(\n",
        "                id=\"input-lambda-param\",\n",
        "                min=0.0, max=1.0, step=0.05, value=0.7,\n",
        "                marks={i / 10: str(i / 10) for i in range(0, 11)},\n",
        "                tooltip={\"placement\": \"bottom\", \"always_visible\": True}\n",
        "            )\n",
        "        ], style={\"width\": \"100%\", \"maxWidth\": \"600px\", \"marginBottom\": \"2rem\"}),\n",
        "\n",
        "        html.Button(\"🚀 Run Recommender\", id=\"run-mmr-recommender\", n_clicks=0, className=\"start-button\")\n",
        "\n",
        "    ], style={\"width\": \"100%\", \"maxWidth\": \"650px\"}),\n",
        "\n",
        "    html.Hr(style={\"margin\": \"3rem 0\", \"width\": \"100%\"}),\n",
        "\n",
        "    html.Div(id=\"cb-mmr-recommendation-output\", style={\"width\": \"100%\", \"maxWidth\": \"800px\"}),\n",
        "    html.Img(id=\"cb-mmr-plot-output\", style={\"marginTop\": \"2rem\", \"maxWidth\": \"100%\"}),\n",
        "\n",
        "    html.Div(className=\"back-button-container\", children=[\n",
        "        html.A(html.Button(\"← Go Back\", className=\"back-button\"), href=\"/recommendation-options\")\n",
        "    ])\n",
        "])\n",
        "\n",
        "# --- Hybrid Content-Based Layout ---\n",
        "hybrid_layout = html.Div(style={\n",
        "    'display': 'flex',\n",
        "    'flexDirection': 'column',\n",
        "    'alignItems': 'center',\n",
        "    'padding': '5vh 2rem',\n",
        "    'textAlign': 'center'\n",
        "}, children=[\n",
        "\n",
        "    html.H2(\"🧪 Hybrid Recommender\"),\n",
        "    html.P(\"This approach combines content-based filtering with rating prediction using similarity.\"),\n",
        "\n",
        "    html.Div(style={\"width\": \"100%\", \"maxWidth\": \"650px\", \"marginBottom\": \"2rem\"}, children=[\n",
        "        html.Label(\"🔍 Number of Similar Games to Consider (k):\", style={'fontWeight': 'bold'}),\n",
        "        dcc.Slider(\n",
        "            id=\"input-k\",\n",
        "            min=1,\n",
        "            max=20,\n",
        "            step=1,\n",
        "            value=10,\n",
        "            marks={i: str(i) for i in range(1, 21)},\n",
        "            tooltip={\"placement\": \"bottom\", \"always_visible\": True}\n",
        "        )\n",
        "    ]),\n",
        "\n",
        "    html.Button(\"🚀 Run Hybrid Recommender\", id=\"run-hybrid-recommender\", n_clicks=0, className=\"start-button\"),\n",
        "\n",
        "    html.Hr(style={\"margin\": \"3rem 0\", \"width\": \"100%\"}),\n",
        "\n",
        "    html.Div(id=\"hybrid-recommendation-output\", style={\"width\": \"100%\", \"maxWidth\": \"800px\"}),\n",
        "\n",
        "    html.Div(className=\"back-button-container\", children=[\n",
        "        html.A(html.Button(\"← Go Back\", className=\"back-button\"), href=\"/recommendation-options\")\n",
        "    ])\n",
        "])\n",
        "\n",
        "# --- Collaborative Filtering Layout ---\n",
        "collaborative_layout = html.Div(style={\n",
        "    'display': 'flex',\n",
        "    'flexDirection': 'column',\n",
        "    'alignItems': 'center',\n",
        "    'padding': '5vh 2rem',\n",
        "    'textAlign': 'center'\n",
        "}, children=[\n",
        "    html.H2(\"🤝 Collaborative Filtering\"),\n",
        "    html.P(\"Select the method and number of recommendations.\"),\n",
        "\n",
        "    html.Div([\n",
        "        html.Label(\"📌 Choose a method:\"),\n",
        "        dcc.RadioItems(\n",
        "            id=\"collab-method\",\n",
        "            options=[\n",
        "                {\"label\": \"KNN With Means\", \"value\": \"knn\"},\n",
        "                {\"label\": \"SVD\", \"value\": \"svd\"}\n",
        "            ],\n",
        "            value=\"knn\",\n",
        "            labelStyle={\"display\": \"inline-block\", \"marginRight\": \"1rem\"}\n",
        "        )\n",
        "    ], style={\"marginBottom\": \"2rem\"}),\n",
        "\n",
        "    html.Div([\n",
        "        html.Label(\"🔝 Number of Recommendations (Top-K):\"),\n",
        "        dcc.Slider(\n",
        "            id=\"collab-top-k\",\n",
        "            min=3, max=20, step=1, value=10,\n",
        "            marks={i: str(i) for i in range(3, 21)},\n",
        "            tooltip={\"placement\": \"bottom\", \"always_visible\": True}\n",
        "        )\n",
        "    ], style={\"width\": \"100%\", \"maxWidth\": \"600px\", \"marginBottom\": \"2rem\"}),\n",
        "\n",
        "    html.Button(\"🚀 Run Collaborative Recommender\", id=\"run-collab-recommender\", n_clicks=0, className=\"start-button\"),\n",
        "\n",
        "    html.Hr(style={\"margin\": \"3rem 0\", \"width\": \"100%\"}),\n",
        "\n",
        "    html.Div(id=\"collab-recommendation-output\", style={\"width\": \"100%\", \"maxWidth\": \"800px\"}),\n",
        "\n",
        "    html.Div(className=\"back-button-container\", children=[\n",
        "        html.A(html.Button(\"← Go Back\", className=\"back-button\"), href=\"/recommendation-options\")\n",
        "    ])\n",
        "])\n",
        "\n",
        "# --- App Layout ---\n",
        "app.layout = html.Div([\n",
        "    dcc.Location(id='url', refresh=False),\n",
        "    dcc.Store(id='stored-username', storage_type='session'),\n",
        "    html.Div(id='page-content')\n",
        "])\n",
        "\n",
        "# --- Page Router ---\n",
        "@app.callback(Output('page-content', 'children'),\n",
        "              Input('url', 'pathname'))\n",
        "def display_page(pathname):\n",
        "    if pathname == \"/recommender\":\n",
        "        return recommender_layout\n",
        "    elif pathname == \"/exploration\":\n",
        "        return exploration_layout\n",
        "    elif pathname == \"/register-user\":\n",
        "        return register_user_layout\n",
        "    elif pathname == \"/new-user-choice\":\n",
        "        return new_user_choice_layout\n",
        "    elif pathname == \"/recommendation-options\":\n",
        "        return recommendation_options_layout\n",
        "    elif pathname == \"/popular\":\n",
        "        return popular_games_layout\n",
        "    elif pathname == \"/content-based-mmr\":\n",
        "        return content_mmr_layout\n",
        "    elif pathname == \"/hybrid\":\n",
        "        return hybrid_layout\n",
        "    elif pathname == \"/collaborative-filtering\":\n",
        "        return collaborative_layout\n",
        "    else:\n",
        "        return landing_layout\n",
        "\n",
        "@app.callback(\n",
        "    Output('tfidf-bar-chart', 'figure'),\n",
        "    Input('top-k-slider', 'value')\n",
        ")\n",
        "def update_tfidf_bar_chart(top_k):\n",
        "    fig, _ = plot_tfidf_summary(dictionary, X_tfidf, top_n=top_k)\n",
        "    return fig\n",
        "\n",
        "@app.callback(\n",
        "    Output('game-rating-inputs', 'children'),\n",
        "    Input('game-selection-dropdown', 'value')\n",
        ")\n",
        "def show_rating_sliders(selected_games):\n",
        "    if not selected_games:\n",
        "        return []\n",
        "\n",
        "    sliders = []\n",
        "    for game_id in selected_games:\n",
        "        game_name = games.loc[games[\"id\"] == game_id, \"name\"].values[0]\n",
        "        sliders.append(\n",
        "            html.Div(style={'marginBottom': '1rem'}, children=[\n",
        "                html.Label(f\"Rate '{game_name}':\", style={'fontWeight': 'bold'}),\n",
        "                dcc.Slider(\n",
        "                    id={'type': 'rating-slider', 'index': str(game_id)},\n",
        "                    min=1, max=10, step=1, value=8,\n",
        "                    marks={i: str(i) for i in range(1, 11)},\n",
        "                    tooltip={\"placement\": \"bottom\", \"always_visible\": True}\n",
        "                )\n",
        "            ])\n",
        "        )\n",
        "    return sliders\n",
        "\n",
        "@app.callback(\n",
        "    Output('url', 'pathname'),\n",
        "    Output('user-error', 'children'),\n",
        "    Output('stored-username', 'data'),\n",
        "    Input('user-continue-button', 'n_clicks'),\n",
        "    State('user-name-input', 'value'),\n",
        "    prevent_initial_call=True\n",
        ")\n",
        "def route_existing_user(n_clicks, username):\n",
        "    if n_clicks == 0:\n",
        "        raise PreventUpdate\n",
        "\n",
        "    if not username or username.strip() == \"\":\n",
        "        return dash.no_update, \"Please enter a valid username.\", None\n",
        "\n",
        "    username = username.strip()\n",
        "    if username in reviews[\"user\"].values:\n",
        "        return \"/recommendation-options\", \"\", username\n",
        "    else:\n",
        "        return \"/new-user-choice\", \"\", username\n",
        "\n",
        "@app.callback(\n",
        "    Output('url', 'pathname', allow_duplicate=True),\n",
        "    Output('register-error', 'children'),\n",
        "    Input('register-button', 'n_clicks'),\n",
        "    State('new-username-input', 'value'),\n",
        "    State('game-selection-dropdown', 'value'),\n",
        "    State({'type': 'rating-slider', 'index': ALL}, 'value'),\n",
        "    prevent_initial_call=True\n",
        ")\n",
        "def register_user(n_clicks, new_username, selected_games, ratings):\n",
        "    global reviews\n",
        "\n",
        "    if n_clicks == 0:\n",
        "        raise PreventUpdate\n",
        "\n",
        "    if not new_username or new_username.strip() == \"\":\n",
        "        return dash.no_update, \"Please enter a username.\"\n",
        "    if not selected_games or len(selected_games) < 5:\n",
        "        return dash.no_update, \"Please select at least 5 games.\"\n",
        "    if len(selected_games) != len(ratings):\n",
        "        return dash.no_update, \"Something went wrong with rating capture.\"\n",
        "\n",
        "    new_entries = pd.DataFrame({\n",
        "        \"user\": [new_username.strip()] * len(selected_games),\n",
        "        \"ID\": selected_games,\n",
        "        \"rating\": ratings,\n",
        "        \"comment\": [np.nan] * len(selected_games),\n",
        "        \"name\": [games.loc[games[\"id\"] == gid, \"name\"].values[0] for gid in selected_games]\n",
        "    })\n",
        "\n",
        "    reviews = pd.concat([reviews, new_entries], ignore_index=True)\n",
        "\n",
        "    return \"/recommendation-options\", \"\"\n",
        "\n",
        "@app.callback(\n",
        "    Output('url', 'pathname', allow_duplicate=True),\n",
        "    Input('go-to-register', 'n_clicks'),\n",
        "    Input('go-to-popular', 'n_clicks'),\n",
        "    prevent_initial_call=True\n",
        ")\n",
        "def route_from_choice(n_register, n_popular):\n",
        "    ctx = callback_context.triggered_id\n",
        "    if ctx == \"go-to-register\":\n",
        "        return \"/register-user\"\n",
        "    elif ctx == \"go-to-popular\":\n",
        "        return \"/popular\"\n",
        "    raise PreventUpdate\n",
        "\n",
        "@app.callback(\n",
        "    Output(\"popular-games-output\", \"children\"),\n",
        "    Input(\"url\", \"pathname\"),\n",
        "    Input(\"top-n-slider\", \"value\"),\n",
        "    prevent_initial_call=True\n",
        ")\n",
        "def display_popular_games(pathname, top_k):\n",
        "    if pathname != \"/popular\":\n",
        "        raise PreventUpdate\n",
        "\n",
        "    df = get_diverse_popular_games(games, top_k=top_k)\n",
        "\n",
        "    return [\n",
        "        html.Div(style={\n",
        "            'border': '1px solid #ccc',\n",
        "            'borderRadius': '10px',\n",
        "            'padding': '1rem',\n",
        "            'marginBottom': '1rem',\n",
        "            'backgroundColor': 'white',\n",
        "            'boxShadow': '0 2px 6px rgba(0,0,0,0.05)'\n",
        "        }, children=[\n",
        "            html.H4(row[\"name\"], style={'marginBottom': '0.5rem'}),\n",
        "            html.Small(f\"⭐ Average Rating: {row['avg_rating']:.2f} from {int(row['num_ratings'])} ratings\", style={'color': '#777'})\n",
        "        ])\n",
        "        for _, row in df.iterrows()\n",
        "    ]\n",
        "\n",
        "@app.callback(\n",
        "    Output(\"cb-mmr-recommendation-output\", \"children\"),\n",
        "    Output(\"cb-mmr-plot-output\", \"src\"),\n",
        "    Input(\"run-mmr-recommender\", \"n_clicks\"),\n",
        "    State(\"stored-username\", \"data\"),\n",
        "    State(\"input-max-playingtime\", \"value\"),\n",
        "    State(\"input-min-age\", \"value\"),\n",
        "    State(\"input-min-players\", \"value\"),\n",
        "    State(\"input-max-players\", \"value\"),\n",
        "    State(\"input-min-rating\", \"value\"),\n",
        "    State(\"input-top-k\", \"value\"),\n",
        "    State(\"input-lambda-param\", \"value\"),\n",
        "    prevent_initial_call=True\n",
        ")\n",
        "def generate_cb_mmr_output(n_clicks, username, max_playingtime, min_age, minplayers, maxplayers, min_rating, top_k, lambda_param):\n",
        "    if not username:\n",
        "        return html.Div(\"⚠️ Please enter a username.\", style={\"color\": \"red\"}), None\n",
        "\n",
        "    results, plot_base64 = recommend_content_based_mmr(\n",
        "        user_name=username,\n",
        "        games=games,\n",
        "        reviews=reviews,\n",
        "        top_k=top_k,\n",
        "        max_playingtime=max_playingtime,\n",
        "        min_age=min_age,\n",
        "        minplayers=minplayers,\n",
        "        maxplayers=maxplayers,\n",
        "        min_rating=min_rating,\n",
        "        plot=True\n",
        "    )\n",
        "\n",
        "    if results is None or results.empty:\n",
        "        return html.Div(\"😕 No recommendations found. Try relaxing the filters.\", style={\"color\": \"orange\"}), None\n",
        "\n",
        "    cards = []\n",
        "    for _, row in results.iterrows():\n",
        "        cards.append(html.Div([\n",
        "            html.H4(row[\"name\"]),\n",
        "            html.P(f\"Similarity Score: {row['similarity']:.2f}\"),\n",
        "            html.P(row[\"explanation\"])\n",
        "        ], style={\n",
        "            \"border\": \"1px solid #ccc\",\n",
        "            \"borderRadius\": \"10px\",\n",
        "            \"padding\": \"1rem\",\n",
        "            \"marginBottom\": \"1rem\",\n",
        "            \"backgroundColor\": \"#fefefe\",\n",
        "            \"boxShadow\": \"0 2px 5px rgba(0,0,0,0.05)\"\n",
        "        }))\n",
        "\n",
        "    img_src = f\"data:image/png;base64,{plot_base64}\" if plot_base64 else None\n",
        "    return cards, img_src\n",
        "\n",
        "@app.callback(\n",
        "    Output(\"hybrid-recommendation-output\", \"children\"),\n",
        "    Input(\"run-hybrid-recommender\", \"n_clicks\"),\n",
        "    State(\"stored-username\", \"data\"),\n",
        "    State(\"input-k\", \"value\"),\n",
        "    prevent_initial_call=True\n",
        ")\n",
        "def run_hybrid_recommender(n_clicks, username, k):\n",
        "    if not username:\n",
        "        return html.Div(\"⚠️ Username not found. Please go back and enter your name.\", style={\"color\": \"red\"})\n",
        "\n",
        "    pred_df = predict_all_ratings(user_name=username, games_df=games, reviews_df=reviews, k=k)\n",
        "\n",
        "    if isinstance(pred_df, str):  # error message\n",
        "        return html.Div(f\"⚠️ {pred_df}\", style={\"color\": \"orange\"})\n",
        "\n",
        "    cards = []\n",
        "    for _, row in pred_df.head(10).iterrows():  # show top 10\n",
        "        cards.append(html.Div([\n",
        "            html.H4(row[\"name\"]),\n",
        "            html.P(f\"Predicted Rating: {row['predicted_rating']}\"),\n",
        "            html.P(row[\"explanation\"])\n",
        "        ], style={\n",
        "            \"border\": \"1px solid #ccc\",\n",
        "            \"borderRadius\": \"10px\",\n",
        "            \"padding\": \"1rem\",\n",
        "            \"marginBottom\": \"1rem\",\n",
        "            \"backgroundColor\": \"#fefefe\",\n",
        "            \"boxShadow\": \"0 2px 5px rgba(0,0,0,0.05)\"\n",
        "        }))\n",
        "\n",
        "    return cards\n",
        "\n",
        "@app.callback(\n",
        "    Output('url', 'pathname', allow_duplicate=True),\n",
        "    Input('algo-content', 'n_clicks'),\n",
        "    Input('algo-collab', 'n_clicks'),\n",
        "    Input('algo-hybrid', 'n_clicks'),\n",
        "    prevent_initial_call=True\n",
        ")\n",
        "def go_to_algo(n1, n2, n3):\n",
        "    ctx = callback_context.triggered_id\n",
        "    if ctx == \"algo-content\":\n",
        "        return \"/content-based-mmr\"\n",
        "    elif ctx == \"algo-collab\":\n",
        "        return \"/collaborative-filtering\"\n",
        "    elif ctx == \"algo-hybrid\":\n",
        "        return \"/hybrid\"\n",
        "    raise PreventUpdate\n",
        "\n",
        "@app.callback(\n",
        "    Output(\"collab-recommendation-output\", \"children\"),\n",
        "    Input(\"run-collab-recommender\", \"n_clicks\"),\n",
        "    State(\"collab-method\", \"value\"),\n",
        "    State(\"collab-top-k\", \"value\"),\n",
        "    State(\"stored-username\", \"data\"),\n",
        "    prevent_initial_call=True\n",
        ")\n",
        "def run_collaborative_recommender(n_clicks, method, top_k, username):\n",
        "    if not username:\n",
        "        return html.Div(\"⚠️ Username not found. Please go back and enter your name.\", style={\"color\": \"red\"})\n",
        "\n",
        "    if method == \"knn\":\n",
        "        results = recommend_with_knn(username, games, reviews, top_k)\n",
        "    elif method == \"svd\":\n",
        "        results = recommend_with_svd(username, games, reviews, top_k)\n",
        "\n",
        "    else:\n",
        "        return html.Div(\"⚠️ Unknown method selected.\", style={\"color\": \"red\"})\n",
        "\n",
        "    if results is None or results.empty:\n",
        "        return html.Div(\"😕 No recommendations found.\", style={\"color\": \"orange\"})\n",
        "\n",
        "    cards = []\n",
        "    for _, row in results.iterrows():\n",
        "        cards.append(html.Div([\n",
        "            html.H4(row[\"name\"]),\n",
        "            html.P(f\"Predicted Rating: {row['predicted_rating']}\")\n",
        "        ], style={\n",
        "            \"border\": \"1px solid #ccc\",\n",
        "            \"borderRadius\": \"10px\",\n",
        "            \"padding\": \"1rem\",\n",
        "            \"marginBottom\": \"1rem\",\n",
        "            \"backgroundColor\": \"#fefefe\",\n",
        "            \"boxShadow\": \"0 2px 5px rgba(0,0,0,0.05)\"\n",
        "        }))\n",
        "\n",
        "    return cards\n",
        "\n",
        "if __name__ == '__main__':\n",
        "    app.run(debug=True)"
      ]
    }
  ],
  "metadata": {
    "accelerator": "GPU",
    "colab": {
      "collapsed_sections": [
        "jmJgQeOe6ttM",
        "ZFtjcT6F6bw9",
        "FIIqi0lX6pKc",
        "9fki7x02wpRj",
        "CNf3pQ2_-Kvr",
        "2j99I9klB94Y",
        "GXyTNkehEGZ3",
        "RZxnB_uaIaPs",
        "ltsDt1pwqk5j",
        "dqP95iqxCQ7-",
        "_0ndZfCrBM8O",
        "KLnzJdp-qQqm",
        "6iHhb4M-qUTk",
        "Si73maAeANVz",
        "Iajv6cA5CQ7-",
        "1i6G7GXtwYxz",
        "CQjkvy52wh6v",
        "v3yJS9r2KYAm",
        "vaZ6arA9j_S5",
        "bS0pLaQR4-GQ",
        "WCNDjL0tqApa",
        "rRzaaqNkOYmY",
        "pVhjLP0E9cfO",
        "z9Wv4XK7_imJ",
        "Bb1quvZ0ORhk"
      ],
      "gpuType": "T4",
      "provenance": []
    },
    "kernelspec": {
      "display_name": "Python 3",
      "name": "python3"
    },
    "language_info": {
      "codemirror_mode": {
        "name": "ipython",
        "version": 3
      },
      "file_extension": ".py",
      "mimetype": "text/x-python",
      "name": "python",
      "nbconvert_exporter": "python",
      "pygments_lexer": "ipython3",
      "version": "3.12.2"
    },
    "widgets": {
      "application/vnd.jupyter.widget-state+json": {
        "024240c9f204467daf0c3062e0a23e74": {
          "model_module": "@jupyter-widgets/controls",
          "model_module_version": "1.5.0",
          "model_name": "ProgressStyleModel",
          "state": {
            "_model_module": "@jupyter-widgets/controls",
            "_model_module_version": "1.5.0",
            "_model_name": "ProgressStyleModel",
            "_view_count": null,
            "_view_module": "@jupyter-widgets/base",
            "_view_module_version": "1.2.0",
            "_view_name": "StyleView",
            "bar_color": null,
            "description_width": ""
          }
        },
        "08a2f3189ad24f5d944365486a3971cf": {
          "model_module": "@jupyter-widgets/controls",
          "model_module_version": "1.5.0",
          "model_name": "FloatProgressModel",
          "state": {
            "_dom_classes": [],
            "_model_module": "@jupyter-widgets/controls",
            "_model_module_version": "1.5.0",
            "_model_name": "FloatProgressModel",
            "_view_count": null,
            "_view_module": "@jupyter-widgets/controls",
            "_view_module_version": "1.5.0",
            "_view_name": "ProgressView",
            "bar_style": "success",
            "description": "",
            "description_tooltip": null,
            "layout": "IPY_MODEL_6ba43d95a213479b8195fdb9235ca3f8",
            "max": 1629437147,
            "min": 0,
            "orientation": "horizontal",
            "style": "IPY_MODEL_024240c9f204467daf0c3062e0a23e74",
            "value": 1629437147
          }
        },
        "0941f72a0e664fbeaef67b3426a1c978": {
          "model_module": "@jupyter-widgets/controls",
          "model_module_version": "1.5.0",
          "model_name": "ProgressStyleModel",
          "state": {
            "_model_module": "@jupyter-widgets/controls",
            "_model_module_version": "1.5.0",
            "_model_name": "ProgressStyleModel",
            "_view_count": null,
            "_view_module": "@jupyter-widgets/base",
            "_view_module_version": "1.2.0",
            "_view_name": "StyleView",
            "bar_color": null,
            "description_width": ""
          }
        },
        "0f93d4c0bd2042789bee03737e488821": {
          "model_module": "@jupyter-widgets/controls",
          "model_module_version": "1.5.0",
          "model_name": "HBoxModel",
          "state": {
            "_dom_classes": [],
            "_model_module": "@jupyter-widgets/controls",
            "_model_module_version": "1.5.0",
            "_model_name": "HBoxModel",
            "_view_count": null,
            "_view_module": "@jupyter-widgets/controls",
            "_view_module_version": "1.5.0",
            "_view_name": "HBoxView",
            "box_style": "",
            "children": [
              "IPY_MODEL_801c76b3aace49778944ed24d8b464e7",
              "IPY_MODEL_08a2f3189ad24f5d944365486a3971cf",
              "IPY_MODEL_48ae71623f334e3a8ff9dbbfcc291683"
            ],
            "layout": "IPY_MODEL_9f5cc11877fe4afe98aa622b2d4693bc"
          }
        },
        "197b36991c55479cb8fdb2b49e9fabdd": {
          "model_module": "@jupyter-widgets/controls",
          "model_module_version": "1.5.0",
          "model_name": "HTMLModel",
          "state": {
            "_dom_classes": [],
            "_model_module": "@jupyter-widgets/controls",
            "_model_module_version": "1.5.0",
            "_model_name": "HTMLModel",
            "_view_count": null,
            "_view_module": "@jupyter-widgets/controls",
            "_view_module_version": "1.5.0",
            "_view_name": "HTMLView",
            "description": "",
            "description_tooltip": null,
            "layout": "IPY_MODEL_9a02acc9569741df8ef08d63c8b0b3e8",
            "placeholder": "​",
            "style": "IPY_MODEL_98de6a907e26460f8e0f4efcd87a1a10",
            "value": "tokenizer_config.json: 100%"
          }
        },
        "1a70d9f4f34942cfb1a398431f17d6c9": {
          "model_module": "@jupyter-widgets/controls",
          "model_module_version": "1.5.0",
          "model_name": "DescriptionStyleModel",
          "state": {
            "_model_module": "@jupyter-widgets/controls",
            "_model_module_version": "1.5.0",
            "_model_name": "DescriptionStyleModel",
            "_view_count": null,
            "_view_module": "@jupyter-widgets/base",
            "_view_module_version": "1.2.0",
            "_view_name": "StyleView",
            "description_width": ""
          }
        },
        "1b9dc8813c324e5fb0017bcf3fbc7a0a": {
          "model_module": "@jupyter-widgets/base",
          "model_module_version": "1.2.0",
          "model_name": "LayoutModel",
          "state": {
            "_model_module": "@jupyter-widgets/base",
            "_model_module_version": "1.2.0",
            "_model_name": "LayoutModel",
            "_view_count": null,
            "_view_module": "@jupyter-widgets/base",
            "_view_module_version": "1.2.0",
            "_view_name": "LayoutView",
            "align_content": null,
            "align_items": null,
            "align_self": null,
            "border": null,
            "bottom": null,
            "display": null,
            "flex": null,
            "flex_flow": null,
            "grid_area": null,
            "grid_auto_columns": null,
            "grid_auto_flow": null,
            "grid_auto_rows": null,
            "grid_column": null,
            "grid_gap": null,
            "grid_row": null,
            "grid_template_areas": null,
            "grid_template_columns": null,
            "grid_template_rows": null,
            "height": null,
            "justify_content": null,
            "justify_items": null,
            "left": null,
            "margin": null,
            "max_height": null,
            "max_width": null,
            "min_height": null,
            "min_width": null,
            "object_fit": null,
            "object_position": null,
            "order": null,
            "overflow": null,
            "overflow_x": null,
            "overflow_y": null,
            "padding": null,
            "right": null,
            "top": null,
            "visibility": null,
            "width": null
          }
        },
        "1ed6e5fc7ea54c8e9d2bef1d7c6e63f4": {
          "model_module": "@jupyter-widgets/controls",
          "model_module_version": "1.5.0",
          "model_name": "HTMLModel",
          "state": {
            "_dom_classes": [],
            "_model_module": "@jupyter-widgets/controls",
            "_model_module_version": "1.5.0",
            "_model_name": "HTMLModel",
            "_view_count": null,
            "_view_module": "@jupyter-widgets/controls",
            "_view_module_version": "1.5.0",
            "_view_name": "HTMLView",
            "description": "",
            "description_tooltip": null,
            "layout": "IPY_MODEL_9060c48579c840a3aa667304e6258f2a",
            "placeholder": "​",
            "style": "IPY_MODEL_1a70d9f4f34942cfb1a398431f17d6c9",
            "value": "config.json: 100%"
          }
        },
        "1f534f118edf4a6eb2624abda31f4ff7": {
          "model_module": "@jupyter-widgets/controls",
          "model_module_version": "1.5.0",
          "model_name": "ProgressStyleModel",
          "state": {
            "_model_module": "@jupyter-widgets/controls",
            "_model_module_version": "1.5.0",
            "_model_name": "ProgressStyleModel",
            "_view_count": null,
            "_view_module": "@jupyter-widgets/base",
            "_view_module_version": "1.2.0",
            "_view_name": "StyleView",
            "bar_color": null,
            "description_width": ""
          }
        },
        "253c8c23c5914b2a8bd397b1491b2b3d": {
          "model_module": "@jupyter-widgets/base",
          "model_module_version": "1.2.0",
          "model_name": "LayoutModel",
          "state": {
            "_model_module": "@jupyter-widgets/base",
            "_model_module_version": "1.2.0",
            "_model_name": "LayoutModel",
            "_view_count": null,
            "_view_module": "@jupyter-widgets/base",
            "_view_module_version": "1.2.0",
            "_view_name": "LayoutView",
            "align_content": null,
            "align_items": null,
            "align_self": null,
            "border": null,
            "bottom": null,
            "display": null,
            "flex": null,
            "flex_flow": null,
            "grid_area": null,
            "grid_auto_columns": null,
            "grid_auto_flow": null,
            "grid_auto_rows": null,
            "grid_column": null,
            "grid_gap": null,
            "grid_row": null,
            "grid_template_areas": null,
            "grid_template_columns": null,
            "grid_template_rows": null,
            "height": null,
            "justify_content": null,
            "justify_items": null,
            "left": null,
            "margin": null,
            "max_height": null,
            "max_width": null,
            "min_height": null,
            "min_width": null,
            "object_fit": null,
            "object_position": null,
            "order": null,
            "overflow": null,
            "overflow_x": null,
            "overflow_y": null,
            "padding": null,
            "right": null,
            "top": null,
            "visibility": null,
            "width": null
          }
        },
        "2659309f85cb4bea91d340cad15e802d": {
          "model_module": "@jupyter-widgets/base",
          "model_module_version": "1.2.0",
          "model_name": "LayoutModel",
          "state": {
            "_model_module": "@jupyter-widgets/base",
            "_model_module_version": "1.2.0",
            "_model_name": "LayoutModel",
            "_view_count": null,
            "_view_module": "@jupyter-widgets/base",
            "_view_module_version": "1.2.0",
            "_view_name": "LayoutView",
            "align_content": null,
            "align_items": null,
            "align_self": null,
            "border": null,
            "bottom": null,
            "display": null,
            "flex": null,
            "flex_flow": null,
            "grid_area": null,
            "grid_auto_columns": null,
            "grid_auto_flow": null,
            "grid_auto_rows": null,
            "grid_column": null,
            "grid_gap": null,
            "grid_row": null,
            "grid_template_areas": null,
            "grid_template_columns": null,
            "grid_template_rows": null,
            "height": null,
            "justify_content": null,
            "justify_items": null,
            "left": null,
            "margin": null,
            "max_height": null,
            "max_width": null,
            "min_height": null,
            "min_width": null,
            "object_fit": null,
            "object_position": null,
            "order": null,
            "overflow": null,
            "overflow_x": null,
            "overflow_y": null,
            "padding": null,
            "right": null,
            "top": null,
            "visibility": null,
            "width": null
          }
        },
        "282a1232aeae41d88c4bd199534c70d4": {
          "model_module": "@jupyter-widgets/controls",
          "model_module_version": "1.5.0",
          "model_name": "HBoxModel",
          "state": {
            "_dom_classes": [],
            "_model_module": "@jupyter-widgets/controls",
            "_model_module_version": "1.5.0",
            "_model_name": "HBoxModel",
            "_view_count": null,
            "_view_module": "@jupyter-widgets/controls",
            "_view_module_version": "1.5.0",
            "_view_name": "HBoxView",
            "box_style": "",
            "children": [
              "IPY_MODEL_41639697e0e14e6aba7e2cc80e07a7d0",
              "IPY_MODEL_abe99adc65a54b31bcc96ab2a9464dc4",
              "IPY_MODEL_75d10ccab338401e819fd3c4c17cb247"
            ],
            "layout": "IPY_MODEL_8a8396c0b1334e9c8d160023066e5199"
          }
        },
        "2a3da9b089c44906a59451ea941c69e8": {
          "model_module": "@jupyter-widgets/base",
          "model_module_version": "1.2.0",
          "model_name": "LayoutModel",
          "state": {
            "_model_module": "@jupyter-widgets/base",
            "_model_module_version": "1.2.0",
            "_model_name": "LayoutModel",
            "_view_count": null,
            "_view_module": "@jupyter-widgets/base",
            "_view_module_version": "1.2.0",
            "_view_name": "LayoutView",
            "align_content": null,
            "align_items": null,
            "align_self": null,
            "border": null,
            "bottom": null,
            "display": null,
            "flex": null,
            "flex_flow": null,
            "grid_area": null,
            "grid_auto_columns": null,
            "grid_auto_flow": null,
            "grid_auto_rows": null,
            "grid_column": null,
            "grid_gap": null,
            "grid_row": null,
            "grid_template_areas": null,
            "grid_template_columns": null,
            "grid_template_rows": null,
            "height": null,
            "justify_content": null,
            "justify_items": null,
            "left": null,
            "margin": null,
            "max_height": null,
            "max_width": null,
            "min_height": null,
            "min_width": null,
            "object_fit": null,
            "object_position": null,
            "order": null,
            "overflow": null,
            "overflow_x": null,
            "overflow_y": null,
            "padding": null,
            "right": null,
            "top": null,
            "visibility": null,
            "width": null
          }
        },
        "2bca47b4c7924022a1aa8119e824858b": {
          "model_module": "@jupyter-widgets/controls",
          "model_module_version": "1.5.0",
          "model_name": "DescriptionStyleModel",
          "state": {
            "_model_module": "@jupyter-widgets/controls",
            "_model_module_version": "1.5.0",
            "_model_name": "DescriptionStyleModel",
            "_view_count": null,
            "_view_module": "@jupyter-widgets/base",
            "_view_module_version": "1.2.0",
            "_view_name": "StyleView",
            "description_width": ""
          }
        },
        "2bce1d58112f4892b6034c0bb0fc2b06": {
          "model_module": "@jupyter-widgets/controls",
          "model_module_version": "1.5.0",
          "model_name": "HBoxModel",
          "state": {
            "_dom_classes": [],
            "_model_module": "@jupyter-widgets/controls",
            "_model_module_version": "1.5.0",
            "_model_name": "HBoxModel",
            "_view_count": null,
            "_view_module": "@jupyter-widgets/controls",
            "_view_module_version": "1.5.0",
            "_view_name": "HBoxView",
            "box_style": "",
            "children": [
              "IPY_MODEL_5fb2e0dc70c44e3a89ed6a85c8b15e7a",
              "IPY_MODEL_ff8a7a6ff5c44e30b14705a43538ea2b",
              "IPY_MODEL_cf8d6b2c15094288b8ec3950fca9520f"
            ],
            "layout": "IPY_MODEL_70c2387e816341a2bbe364ac8d3a2303"
          }
        },
        "2fee82762a3449aba536dc3959fef1d8": {
          "model_module": "@jupyter-widgets/base",
          "model_module_version": "1.2.0",
          "model_name": "LayoutModel",
          "state": {
            "_model_module": "@jupyter-widgets/base",
            "_model_module_version": "1.2.0",
            "_model_name": "LayoutModel",
            "_view_count": null,
            "_view_module": "@jupyter-widgets/base",
            "_view_module_version": "1.2.0",
            "_view_name": "LayoutView",
            "align_content": null,
            "align_items": null,
            "align_self": null,
            "border": null,
            "bottom": null,
            "display": null,
            "flex": null,
            "flex_flow": null,
            "grid_area": null,
            "grid_auto_columns": null,
            "grid_auto_flow": null,
            "grid_auto_rows": null,
            "grid_column": null,
            "grid_gap": null,
            "grid_row": null,
            "grid_template_areas": null,
            "grid_template_columns": null,
            "grid_template_rows": null,
            "height": null,
            "justify_content": null,
            "justify_items": null,
            "left": null,
            "margin": null,
            "max_height": null,
            "max_width": null,
            "min_height": null,
            "min_width": null,
            "object_fit": null,
            "object_position": null,
            "order": null,
            "overflow": null,
            "overflow_x": null,
            "overflow_y": null,
            "padding": null,
            "right": null,
            "top": null,
            "visibility": null,
            "width": null
          }
        },
        "383a13c2fc324966a9bb3a53cca2325f": {
          "model_module": "@jupyter-widgets/controls",
          "model_module_version": "1.5.0",
          "model_name": "HBoxModel",
          "state": {
            "_dom_classes": [],
            "_model_module": "@jupyter-widgets/controls",
            "_model_module_version": "1.5.0",
            "_model_name": "HBoxModel",
            "_view_count": null,
            "_view_module": "@jupyter-widgets/controls",
            "_view_module_version": "1.5.0",
            "_view_name": "HBoxView",
            "box_style": "",
            "children": [
              "IPY_MODEL_a1ad676e2c094646b19a5cffe011f4ff",
              "IPY_MODEL_d2954402486a4bafa3f98f747ba8a98b",
              "IPY_MODEL_681cd1fee60b4f0487acfa16a752cf2a"
            ],
            "layout": "IPY_MODEL_7e04f1d43afc42248a726a7d287ba144"
          }
        },
        "3e6cefc9ec2a4503aa20c5d6759c40d3": {
          "model_module": "@jupyter-widgets/base",
          "model_module_version": "1.2.0",
          "model_name": "LayoutModel",
          "state": {
            "_model_module": "@jupyter-widgets/base",
            "_model_module_version": "1.2.0",
            "_model_name": "LayoutModel",
            "_view_count": null,
            "_view_module": "@jupyter-widgets/base",
            "_view_module_version": "1.2.0",
            "_view_name": "LayoutView",
            "align_content": null,
            "align_items": null,
            "align_self": null,
            "border": null,
            "bottom": null,
            "display": null,
            "flex": null,
            "flex_flow": null,
            "grid_area": null,
            "grid_auto_columns": null,
            "grid_auto_flow": null,
            "grid_auto_rows": null,
            "grid_column": null,
            "grid_gap": null,
            "grid_row": null,
            "grid_template_areas": null,
            "grid_template_columns": null,
            "grid_template_rows": null,
            "height": null,
            "justify_content": null,
            "justify_items": null,
            "left": null,
            "margin": null,
            "max_height": null,
            "max_width": null,
            "min_height": null,
            "min_width": null,
            "object_fit": null,
            "object_position": null,
            "order": null,
            "overflow": null,
            "overflow_x": null,
            "overflow_y": null,
            "padding": null,
            "right": null,
            "top": null,
            "visibility": null,
            "width": null
          }
        },
        "3f5153a924e242da86083cb102c9ff54": {
          "model_module": "@jupyter-widgets/controls",
          "model_module_version": "1.5.0",
          "model_name": "DescriptionStyleModel",
          "state": {
            "_model_module": "@jupyter-widgets/controls",
            "_model_module_version": "1.5.0",
            "_model_name": "DescriptionStyleModel",
            "_view_count": null,
            "_view_module": "@jupyter-widgets/base",
            "_view_module_version": "1.2.0",
            "_view_name": "StyleView",
            "description_width": ""
          }
        },
        "3f77601c219c4b2da3e4aa58ccf1f4f6": {
          "model_module": "@jupyter-widgets/controls",
          "model_module_version": "1.5.0",
          "model_name": "ProgressStyleModel",
          "state": {
            "_model_module": "@jupyter-widgets/controls",
            "_model_module_version": "1.5.0",
            "_model_name": "ProgressStyleModel",
            "_view_count": null,
            "_view_module": "@jupyter-widgets/base",
            "_view_module_version": "1.2.0",
            "_view_name": "StyleView",
            "bar_color": null,
            "description_width": ""
          }
        },
        "41639697e0e14e6aba7e2cc80e07a7d0": {
          "model_module": "@jupyter-widgets/controls",
          "model_module_version": "1.5.0",
          "model_name": "HTMLModel",
          "state": {
            "_dom_classes": [],
            "_model_module": "@jupyter-widgets/controls",
            "_model_module_version": "1.5.0",
            "_model_name": "HTMLModel",
            "_view_count": null,
            "_view_module": "@jupyter-widgets/controls",
            "_view_module_version": "1.5.0",
            "_view_name": "HTMLView",
            "description": "",
            "description_tooltip": null,
            "layout": "IPY_MODEL_a03cf679581040c1b43f16321f7c2d58",
            "placeholder": "​",
            "style": "IPY_MODEL_3f5153a924e242da86083cb102c9ff54",
            "value": "Map: 100%"
          }
        },
        "4539faa3105e40a9bbe09f978ddfbace": {
          "model_module": "@jupyter-widgets/controls",
          "model_module_version": "1.5.0",
          "model_name": "HTMLModel",
          "state": {
            "_dom_classes": [],
            "_model_module": "@jupyter-widgets/controls",
            "_model_module_version": "1.5.0",
            "_model_name": "HTMLModel",
            "_view_count": null,
            "_view_module": "@jupyter-widgets/controls",
            "_view_module_version": "1.5.0",
            "_view_name": "HTMLView",
            "description": "",
            "description_tooltip": null,
            "layout": "IPY_MODEL_81847ccbb58b45cb947315307df7998c",
            "placeholder": "​",
            "style": "IPY_MODEL_fcdf8b3902f34ce4940400fed9c80efb",
            "value": " 1.36M/1.36M [00:00&lt;00:00, 5.77MB/s]"
          }
        },
        "458714c60b9041c5b334af44228659ee": {
          "model_module": "@jupyter-widgets/controls",
          "model_module_version": "1.5.0",
          "model_name": "FloatProgressModel",
          "state": {
            "_dom_classes": [],
            "_model_module": "@jupyter-widgets/controls",
            "_model_module_version": "1.5.0",
            "_model_name": "FloatProgressModel",
            "_view_count": null,
            "_view_module": "@jupyter-widgets/controls",
            "_view_module_version": "1.5.0",
            "_view_name": "ProgressView",
            "bar_style": "success",
            "description": "",
            "description_tooltip": null,
            "layout": "IPY_MODEL_2fee82762a3449aba536dc3959fef1d8",
            "max": 1154,
            "min": 0,
            "orientation": "horizontal",
            "style": "IPY_MODEL_0941f72a0e664fbeaef67b3426a1c978",
            "value": 1154
          }
        },
        "48ae71623f334e3a8ff9dbbfcc291683": {
          "model_module": "@jupyter-widgets/controls",
          "model_module_version": "1.5.0",
          "model_name": "HTMLModel",
          "state": {
            "_dom_classes": [],
            "_model_module": "@jupyter-widgets/controls",
            "_model_module_version": "1.5.0",
            "_model_name": "HTMLModel",
            "_view_count": null,
            "_view_module": "@jupyter-widgets/controls",
            "_view_module_version": "1.5.0",
            "_view_name": "HTMLView",
            "description": "",
            "description_tooltip": null,
            "layout": "IPY_MODEL_d6454f36fbc649b59f8e754caeb01869",
            "placeholder": "​",
            "style": "IPY_MODEL_c749ace1a2d84b40b2eff2ae3cb6fd12",
            "value": " 1.63G/1.63G [00:09&lt;00:00, 283MB/s]"
          }
        },
        "4adceee476764564a3a26eabd19fda39": {
          "model_module": "@jupyter-widgets/controls",
          "model_module_version": "1.5.0",
          "model_name": "DescriptionStyleModel",
          "state": {
            "_model_module": "@jupyter-widgets/controls",
            "_model_module_version": "1.5.0",
            "_model_name": "DescriptionStyleModel",
            "_view_count": null,
            "_view_module": "@jupyter-widgets/base",
            "_view_module_version": "1.2.0",
            "_view_name": "StyleView",
            "description_width": ""
          }
        },
        "4b912d59582d41429aab0052784de9ad": {
          "model_module": "@jupyter-widgets/controls",
          "model_module_version": "1.5.0",
          "model_name": "HBoxModel",
          "state": {
            "_dom_classes": [],
            "_model_module": "@jupyter-widgets/controls",
            "_model_module_version": "1.5.0",
            "_model_name": "HBoxModel",
            "_view_count": null,
            "_view_module": "@jupyter-widgets/controls",
            "_view_module_version": "1.5.0",
            "_view_name": "HBoxView",
            "box_style": "",
            "children": [
              "IPY_MODEL_1ed6e5fc7ea54c8e9d2bef1d7c6e63f4",
              "IPY_MODEL_458714c60b9041c5b334af44228659ee",
              "IPY_MODEL_9a6c60f8c2ae4f188f3418b67120b5e8"
            ],
            "layout": "IPY_MODEL_c4915007da354c6ebf5561a9b580765f"
          }
        },
        "4f184186d8f64a87b856a87cc57c3f24": {
          "model_module": "@jupyter-widgets/controls",
          "model_module_version": "1.5.0",
          "model_name": "ProgressStyleModel",
          "state": {
            "_model_module": "@jupyter-widgets/controls",
            "_model_module_version": "1.5.0",
            "_model_name": "ProgressStyleModel",
            "_view_count": null,
            "_view_module": "@jupyter-widgets/base",
            "_view_module_version": "1.2.0",
            "_view_name": "StyleView",
            "bar_color": null,
            "description_width": ""
          }
        },
        "50d1fcef5b6c41bcb7b272634983041f": {
          "model_module": "@jupyter-widgets/controls",
          "model_module_version": "1.5.0",
          "model_name": "FloatProgressModel",
          "state": {
            "_dom_classes": [],
            "_model_module": "@jupyter-widgets/controls",
            "_model_module_version": "1.5.0",
            "_model_name": "FloatProgressModel",
            "_view_count": null,
            "_view_module": "@jupyter-widgets/controls",
            "_view_module_version": "1.5.0",
            "_view_name": "ProgressView",
            "bar_style": "success",
            "description": "",
            "description_tooltip": null,
            "layout": "IPY_MODEL_59f6c375d6e84b979bf484222ff84c57",
            "max": 1355863,
            "min": 0,
            "orientation": "horizontal",
            "style": "IPY_MODEL_3f77601c219c4b2da3e4aa58ccf1f4f6",
            "value": 1355863
          }
        },
        "54bcaedb2a5c4dcdb2dbdc93dd527fe6": {
          "model_module": "@jupyter-widgets/controls",
          "model_module_version": "1.5.0",
          "model_name": "DescriptionStyleModel",
          "state": {
            "_model_module": "@jupyter-widgets/controls",
            "_model_module_version": "1.5.0",
            "_model_name": "DescriptionStyleModel",
            "_view_count": null,
            "_view_module": "@jupyter-widgets/base",
            "_view_module_version": "1.2.0",
            "_view_name": "StyleView",
            "description_width": ""
          }
        },
        "59f6c375d6e84b979bf484222ff84c57": {
          "model_module": "@jupyter-widgets/base",
          "model_module_version": "1.2.0",
          "model_name": "LayoutModel",
          "state": {
            "_model_module": "@jupyter-widgets/base",
            "_model_module_version": "1.2.0",
            "_model_name": "LayoutModel",
            "_view_count": null,
            "_view_module": "@jupyter-widgets/base",
            "_view_module_version": "1.2.0",
            "_view_name": "LayoutView",
            "align_content": null,
            "align_items": null,
            "align_self": null,
            "border": null,
            "bottom": null,
            "display": null,
            "flex": null,
            "flex_flow": null,
            "grid_area": null,
            "grid_auto_columns": null,
            "grid_auto_flow": null,
            "grid_auto_rows": null,
            "grid_column": null,
            "grid_gap": null,
            "grid_row": null,
            "grid_template_areas": null,
            "grid_template_columns": null,
            "grid_template_rows": null,
            "height": null,
            "justify_content": null,
            "justify_items": null,
            "left": null,
            "margin": null,
            "max_height": null,
            "max_width": null,
            "min_height": null,
            "min_width": null,
            "object_fit": null,
            "object_position": null,
            "order": null,
            "overflow": null,
            "overflow_x": null,
            "overflow_y": null,
            "padding": null,
            "right": null,
            "top": null,
            "visibility": null,
            "width": null
          }
        },
        "5c64a501daf24254aac9ce0d8091a195": {
          "model_module": "@jupyter-widgets/controls",
          "model_module_version": "1.5.0",
          "model_name": "HBoxModel",
          "state": {
            "_dom_classes": [],
            "_model_module": "@jupyter-widgets/controls",
            "_model_module_version": "1.5.0",
            "_model_name": "HBoxModel",
            "_view_count": null,
            "_view_module": "@jupyter-widgets/controls",
            "_view_module_version": "1.5.0",
            "_view_name": "HBoxView",
            "box_style": "",
            "children": [
              "IPY_MODEL_f1b4447030ee4d6391621173b5e1ebd6",
              "IPY_MODEL_50d1fcef5b6c41bcb7b272634983041f",
              "IPY_MODEL_4539faa3105e40a9bbe09f978ddfbace"
            ],
            "layout": "IPY_MODEL_c4e3b1c0c98e4a1eb9232fddd3f023ab"
          }
        },
        "5fb2e0dc70c44e3a89ed6a85c8b15e7a": {
          "model_module": "@jupyter-widgets/controls",
          "model_module_version": "1.5.0",
          "model_name": "HTMLModel",
          "state": {
            "_dom_classes": [],
            "_model_module": "@jupyter-widgets/controls",
            "_model_module_version": "1.5.0",
            "_model_name": "HTMLModel",
            "_view_count": null,
            "_view_module": "@jupyter-widgets/controls",
            "_view_module_version": "1.5.0",
            "_view_name": "HTMLView",
            "description": "",
            "description_tooltip": null,
            "layout": "IPY_MODEL_2659309f85cb4bea91d340cad15e802d",
            "placeholder": "​",
            "style": "IPY_MODEL_c53e1112e4af492abd909736924cdf38",
            "value": "merges.txt: 100%"
          }
        },
        "681cd1fee60b4f0487acfa16a752cf2a": {
          "model_module": "@jupyter-widgets/controls",
          "model_module_version": "1.5.0",
          "model_name": "HTMLModel",
          "state": {
            "_dom_classes": [],
            "_model_module": "@jupyter-widgets/controls",
            "_model_module_version": "1.5.0",
            "_model_name": "HTMLModel",
            "_view_count": null,
            "_view_module": "@jupyter-widgets/controls",
            "_view_module_version": "1.5.0",
            "_view_name": "HTMLView",
            "description": "",
            "description_tooltip": null,
            "layout": "IPY_MODEL_253c8c23c5914b2a8bd397b1491b2b3d",
            "placeholder": "​",
            "style": "IPY_MODEL_f3f6c0a93726474092a670eab407c142",
            "value": " 899k/899k [00:00&lt;00:00, 35.2MB/s]"
          }
        },
        "6ba43d95a213479b8195fdb9235ca3f8": {
          "model_module": "@jupyter-widgets/base",
          "model_module_version": "1.2.0",
          "model_name": "LayoutModel",
          "state": {
            "_model_module": "@jupyter-widgets/base",
            "_model_module_version": "1.2.0",
            "_model_name": "LayoutModel",
            "_view_count": null,
            "_view_module": "@jupyter-widgets/base",
            "_view_module_version": "1.2.0",
            "_view_name": "LayoutView",
            "align_content": null,
            "align_items": null,
            "align_self": null,
            "border": null,
            "bottom": null,
            "display": null,
            "flex": null,
            "flex_flow": null,
            "grid_area": null,
            "grid_auto_columns": null,
            "grid_auto_flow": null,
            "grid_auto_rows": null,
            "grid_column": null,
            "grid_gap": null,
            "grid_row": null,
            "grid_template_areas": null,
            "grid_template_columns": null,
            "grid_template_rows": null,
            "height": null,
            "justify_content": null,
            "justify_items": null,
            "left": null,
            "margin": null,
            "max_height": null,
            "max_width": null,
            "min_height": null,
            "min_width": null,
            "object_fit": null,
            "object_position": null,
            "order": null,
            "overflow": null,
            "overflow_x": null,
            "overflow_y": null,
            "padding": null,
            "right": null,
            "top": null,
            "visibility": null,
            "width": null
          }
        },
        "70c2387e816341a2bbe364ac8d3a2303": {
          "model_module": "@jupyter-widgets/base",
          "model_module_version": "1.2.0",
          "model_name": "LayoutModel",
          "state": {
            "_model_module": "@jupyter-widgets/base",
            "_model_module_version": "1.2.0",
            "_model_name": "LayoutModel",
            "_view_count": null,
            "_view_module": "@jupyter-widgets/base",
            "_view_module_version": "1.2.0",
            "_view_name": "LayoutView",
            "align_content": null,
            "align_items": null,
            "align_self": null,
            "border": null,
            "bottom": null,
            "display": null,
            "flex": null,
            "flex_flow": null,
            "grid_area": null,
            "grid_auto_columns": null,
            "grid_auto_flow": null,
            "grid_auto_rows": null,
            "grid_column": null,
            "grid_gap": null,
            "grid_row": null,
            "grid_template_areas": null,
            "grid_template_columns": null,
            "grid_template_rows": null,
            "height": null,
            "justify_content": null,
            "justify_items": null,
            "left": null,
            "margin": null,
            "max_height": null,
            "max_width": null,
            "min_height": null,
            "min_width": null,
            "object_fit": null,
            "object_position": null,
            "order": null,
            "overflow": null,
            "overflow_x": null,
            "overflow_y": null,
            "padding": null,
            "right": null,
            "top": null,
            "visibility": null,
            "width": null
          }
        },
        "75d10ccab338401e819fd3c4c17cb247": {
          "model_module": "@jupyter-widgets/controls",
          "model_module_version": "1.5.0",
          "model_name": "HTMLModel",
          "state": {
            "_dom_classes": [],
            "_model_module": "@jupyter-widgets/controls",
            "_model_module_version": "1.5.0",
            "_model_name": "HTMLModel",
            "_view_count": null,
            "_view_module": "@jupyter-widgets/controls",
            "_view_module_version": "1.5.0",
            "_view_name": "HTMLView",
            "description": "",
            "description_tooltip": null,
            "layout": "IPY_MODEL_2a3da9b089c44906a59451ea941c69e8",
            "placeholder": "​",
            "style": "IPY_MODEL_9b2bfe417716458983fa1e5527ebc1d8",
            "value": " 1783/1783 [09:52&lt;00:00,  2.76 examples/s]"
          }
        },
        "7e04f1d43afc42248a726a7d287ba144": {
          "model_module": "@jupyter-widgets/base",
          "model_module_version": "1.2.0",
          "model_name": "LayoutModel",
          "state": {
            "_model_module": "@jupyter-widgets/base",
            "_model_module_version": "1.2.0",
            "_model_name": "LayoutModel",
            "_view_count": null,
            "_view_module": "@jupyter-widgets/base",
            "_view_module_version": "1.2.0",
            "_view_name": "LayoutView",
            "align_content": null,
            "align_items": null,
            "align_self": null,
            "border": null,
            "bottom": null,
            "display": null,
            "flex": null,
            "flex_flow": null,
            "grid_area": null,
            "grid_auto_columns": null,
            "grid_auto_flow": null,
            "grid_auto_rows": null,
            "grid_column": null,
            "grid_gap": null,
            "grid_row": null,
            "grid_template_areas": null,
            "grid_template_columns": null,
            "grid_template_rows": null,
            "height": null,
            "justify_content": null,
            "justify_items": null,
            "left": null,
            "margin": null,
            "max_height": null,
            "max_width": null,
            "min_height": null,
            "min_width": null,
            "object_fit": null,
            "object_position": null,
            "order": null,
            "overflow": null,
            "overflow_x": null,
            "overflow_y": null,
            "padding": null,
            "right": null,
            "top": null,
            "visibility": null,
            "width": null
          }
        },
        "801c76b3aace49778944ed24d8b464e7": {
          "model_module": "@jupyter-widgets/controls",
          "model_module_version": "1.5.0",
          "model_name": "HTMLModel",
          "state": {
            "_dom_classes": [],
            "_model_module": "@jupyter-widgets/controls",
            "_model_module_version": "1.5.0",
            "_model_name": "HTMLModel",
            "_view_count": null,
            "_view_module": "@jupyter-widgets/controls",
            "_view_module_version": "1.5.0",
            "_view_name": "HTMLView",
            "description": "",
            "description_tooltip": null,
            "layout": "IPY_MODEL_d4f91bd9f94d4793b54999bfca62b9b4",
            "placeholder": "​",
            "style": "IPY_MODEL_cd7a3f53732145df81249a5aba6dd9e2",
            "value": "model.safetensors: 100%"
          }
        },
        "81847ccbb58b45cb947315307df7998c": {
          "model_module": "@jupyter-widgets/base",
          "model_module_version": "1.2.0",
          "model_name": "LayoutModel",
          "state": {
            "_model_module": "@jupyter-widgets/base",
            "_model_module_version": "1.2.0",
            "_model_name": "LayoutModel",
            "_view_count": null,
            "_view_module": "@jupyter-widgets/base",
            "_view_module_version": "1.2.0",
            "_view_name": "LayoutView",
            "align_content": null,
            "align_items": null,
            "align_self": null,
            "border": null,
            "bottom": null,
            "display": null,
            "flex": null,
            "flex_flow": null,
            "grid_area": null,
            "grid_auto_columns": null,
            "grid_auto_flow": null,
            "grid_auto_rows": null,
            "grid_column": null,
            "grid_gap": null,
            "grid_row": null,
            "grid_template_areas": null,
            "grid_template_columns": null,
            "grid_template_rows": null,
            "height": null,
            "justify_content": null,
            "justify_items": null,
            "left": null,
            "margin": null,
            "max_height": null,
            "max_width": null,
            "min_height": null,
            "min_width": null,
            "object_fit": null,
            "object_position": null,
            "order": null,
            "overflow": null,
            "overflow_x": null,
            "overflow_y": null,
            "padding": null,
            "right": null,
            "top": null,
            "visibility": null,
            "width": null
          }
        },
        "83890815a7a0469ca826ca45685a098b": {
          "model_module": "@jupyter-widgets/controls",
          "model_module_version": "1.5.0",
          "model_name": "ProgressStyleModel",
          "state": {
            "_model_module": "@jupyter-widgets/controls",
            "_model_module_version": "1.5.0",
            "_model_name": "ProgressStyleModel",
            "_view_count": null,
            "_view_module": "@jupyter-widgets/base",
            "_view_module_version": "1.2.0",
            "_view_name": "StyleView",
            "bar_color": null,
            "description_width": ""
          }
        },
        "852200334fe34b6f9ef333ab4c0406fe": {
          "model_module": "@jupyter-widgets/controls",
          "model_module_version": "1.5.0",
          "model_name": "FloatProgressModel",
          "state": {
            "_dom_classes": [],
            "_model_module": "@jupyter-widgets/controls",
            "_model_module_version": "1.5.0",
            "_model_name": "FloatProgressModel",
            "_view_count": null,
            "_view_module": "@jupyter-widgets/controls",
            "_view_module_version": "1.5.0",
            "_view_name": "ProgressView",
            "bar_style": "success",
            "description": "",
            "description_tooltip": null,
            "layout": "IPY_MODEL_dd18dc36cf334d4b9d6b167e764add2a",
            "max": 26,
            "min": 0,
            "orientation": "horizontal",
            "style": "IPY_MODEL_4f184186d8f64a87b856a87cc57c3f24",
            "value": 26
          }
        },
        "8906951cd29c4b7c97f7c58722f336c8": {
          "model_module": "@jupyter-widgets/base",
          "model_module_version": "1.2.0",
          "model_name": "LayoutModel",
          "state": {
            "_model_module": "@jupyter-widgets/base",
            "_model_module_version": "1.2.0",
            "_model_name": "LayoutModel",
            "_view_count": null,
            "_view_module": "@jupyter-widgets/base",
            "_view_module_version": "1.2.0",
            "_view_name": "LayoutView",
            "align_content": null,
            "align_items": null,
            "align_self": null,
            "border": null,
            "bottom": null,
            "display": null,
            "flex": null,
            "flex_flow": null,
            "grid_area": null,
            "grid_auto_columns": null,
            "grid_auto_flow": null,
            "grid_auto_rows": null,
            "grid_column": null,
            "grid_gap": null,
            "grid_row": null,
            "grid_template_areas": null,
            "grid_template_columns": null,
            "grid_template_rows": null,
            "height": null,
            "justify_content": null,
            "justify_items": null,
            "left": null,
            "margin": null,
            "max_height": null,
            "max_width": null,
            "min_height": null,
            "min_width": null,
            "object_fit": null,
            "object_position": null,
            "order": null,
            "overflow": null,
            "overflow_x": null,
            "overflow_y": null,
            "padding": null,
            "right": null,
            "top": null,
            "visibility": null,
            "width": null
          }
        },
        "8a8396c0b1334e9c8d160023066e5199": {
          "model_module": "@jupyter-widgets/base",
          "model_module_version": "1.2.0",
          "model_name": "LayoutModel",
          "state": {
            "_model_module": "@jupyter-widgets/base",
            "_model_module_version": "1.2.0",
            "_model_name": "LayoutModel",
            "_view_count": null,
            "_view_module": "@jupyter-widgets/base",
            "_view_module_version": "1.2.0",
            "_view_name": "LayoutView",
            "align_content": null,
            "align_items": null,
            "align_self": null,
            "border": null,
            "bottom": null,
            "display": null,
            "flex": null,
            "flex_flow": null,
            "grid_area": null,
            "grid_auto_columns": null,
            "grid_auto_flow": null,
            "grid_auto_rows": null,
            "grid_column": null,
            "grid_gap": null,
            "grid_row": null,
            "grid_template_areas": null,
            "grid_template_columns": null,
            "grid_template_rows": null,
            "height": null,
            "justify_content": null,
            "justify_items": null,
            "left": null,
            "margin": null,
            "max_height": null,
            "max_width": null,
            "min_height": null,
            "min_width": null,
            "object_fit": null,
            "object_position": null,
            "order": null,
            "overflow": null,
            "overflow_x": null,
            "overflow_y": null,
            "padding": null,
            "right": null,
            "top": null,
            "visibility": null,
            "width": null
          }
        },
        "8bee7b51b0914a94b43b54b29652bffd": {
          "model_module": "@jupyter-widgets/controls",
          "model_module_version": "1.5.0",
          "model_name": "HTMLModel",
          "state": {
            "_dom_classes": [],
            "_model_module": "@jupyter-widgets/controls",
            "_model_module_version": "1.5.0",
            "_model_name": "HTMLModel",
            "_view_count": null,
            "_view_module": "@jupyter-widgets/controls",
            "_view_module_version": "1.5.0",
            "_view_name": "HTMLView",
            "description": "",
            "description_tooltip": null,
            "layout": "IPY_MODEL_e9914e78cd0e4f6cbf88c97f322d8b45",
            "placeholder": "​",
            "style": "IPY_MODEL_eae00e4954134e56b019ca5fca0bbec7",
            "value": " 26.0/26.0 [00:00&lt;00:00, 2.59kB/s]"
          }
        },
        "9060c48579c840a3aa667304e6258f2a": {
          "model_module": "@jupyter-widgets/base",
          "model_module_version": "1.2.0",
          "model_name": "LayoutModel",
          "state": {
            "_model_module": "@jupyter-widgets/base",
            "_model_module_version": "1.2.0",
            "_model_name": "LayoutModel",
            "_view_count": null,
            "_view_module": "@jupyter-widgets/base",
            "_view_module_version": "1.2.0",
            "_view_name": "LayoutView",
            "align_content": null,
            "align_items": null,
            "align_self": null,
            "border": null,
            "bottom": null,
            "display": null,
            "flex": null,
            "flex_flow": null,
            "grid_area": null,
            "grid_auto_columns": null,
            "grid_auto_flow": null,
            "grid_auto_rows": null,
            "grid_column": null,
            "grid_gap": null,
            "grid_row": null,
            "grid_template_areas": null,
            "grid_template_columns": null,
            "grid_template_rows": null,
            "height": null,
            "justify_content": null,
            "justify_items": null,
            "left": null,
            "margin": null,
            "max_height": null,
            "max_width": null,
            "min_height": null,
            "min_width": null,
            "object_fit": null,
            "object_position": null,
            "order": null,
            "overflow": null,
            "overflow_x": null,
            "overflow_y": null,
            "padding": null,
            "right": null,
            "top": null,
            "visibility": null,
            "width": null
          }
        },
        "96a580dc5f1c463a8a4f8091f68052da": {
          "model_module": "@jupyter-widgets/base",
          "model_module_version": "1.2.0",
          "model_name": "LayoutModel",
          "state": {
            "_model_module": "@jupyter-widgets/base",
            "_model_module_version": "1.2.0",
            "_model_name": "LayoutModel",
            "_view_count": null,
            "_view_module": "@jupyter-widgets/base",
            "_view_module_version": "1.2.0",
            "_view_name": "LayoutView",
            "align_content": null,
            "align_items": null,
            "align_self": null,
            "border": null,
            "bottom": null,
            "display": null,
            "flex": null,
            "flex_flow": null,
            "grid_area": null,
            "grid_auto_columns": null,
            "grid_auto_flow": null,
            "grid_auto_rows": null,
            "grid_column": null,
            "grid_gap": null,
            "grid_row": null,
            "grid_template_areas": null,
            "grid_template_columns": null,
            "grid_template_rows": null,
            "height": null,
            "justify_content": null,
            "justify_items": null,
            "left": null,
            "margin": null,
            "max_height": null,
            "max_width": null,
            "min_height": null,
            "min_width": null,
            "object_fit": null,
            "object_position": null,
            "order": null,
            "overflow": null,
            "overflow_x": null,
            "overflow_y": null,
            "padding": null,
            "right": null,
            "top": null,
            "visibility": null,
            "width": null
          }
        },
        "974b8f44f03e4708b0d06f86b689868f": {
          "model_module": "@jupyter-widgets/controls",
          "model_module_version": "1.5.0",
          "model_name": "DescriptionStyleModel",
          "state": {
            "_model_module": "@jupyter-widgets/controls",
            "_model_module_version": "1.5.0",
            "_model_name": "DescriptionStyleModel",
            "_view_count": null,
            "_view_module": "@jupyter-widgets/base",
            "_view_module_version": "1.2.0",
            "_view_name": "StyleView",
            "description_width": ""
          }
        },
        "98de6a907e26460f8e0f4efcd87a1a10": {
          "model_module": "@jupyter-widgets/controls",
          "model_module_version": "1.5.0",
          "model_name": "DescriptionStyleModel",
          "state": {
            "_model_module": "@jupyter-widgets/controls",
            "_model_module_version": "1.5.0",
            "_model_name": "DescriptionStyleModel",
            "_view_count": null,
            "_view_module": "@jupyter-widgets/base",
            "_view_module_version": "1.2.0",
            "_view_name": "StyleView",
            "description_width": ""
          }
        },
        "9a02acc9569741df8ef08d63c8b0b3e8": {
          "model_module": "@jupyter-widgets/base",
          "model_module_version": "1.2.0",
          "model_name": "LayoutModel",
          "state": {
            "_model_module": "@jupyter-widgets/base",
            "_model_module_version": "1.2.0",
            "_model_name": "LayoutModel",
            "_view_count": null,
            "_view_module": "@jupyter-widgets/base",
            "_view_module_version": "1.2.0",
            "_view_name": "LayoutView",
            "align_content": null,
            "align_items": null,
            "align_self": null,
            "border": null,
            "bottom": null,
            "display": null,
            "flex": null,
            "flex_flow": null,
            "grid_area": null,
            "grid_auto_columns": null,
            "grid_auto_flow": null,
            "grid_auto_rows": null,
            "grid_column": null,
            "grid_gap": null,
            "grid_row": null,
            "grid_template_areas": null,
            "grid_template_columns": null,
            "grid_template_rows": null,
            "height": null,
            "justify_content": null,
            "justify_items": null,
            "left": null,
            "margin": null,
            "max_height": null,
            "max_width": null,
            "min_height": null,
            "min_width": null,
            "object_fit": null,
            "object_position": null,
            "order": null,
            "overflow": null,
            "overflow_x": null,
            "overflow_y": null,
            "padding": null,
            "right": null,
            "top": null,
            "visibility": null,
            "width": null
          }
        },
        "9a6c60f8c2ae4f188f3418b67120b5e8": {
          "model_module": "@jupyter-widgets/controls",
          "model_module_version": "1.5.0",
          "model_name": "HTMLModel",
          "state": {
            "_dom_classes": [],
            "_model_module": "@jupyter-widgets/controls",
            "_model_module_version": "1.5.0",
            "_model_name": "HTMLModel",
            "_view_count": null,
            "_view_module": "@jupyter-widgets/controls",
            "_view_module_version": "1.5.0",
            "_view_name": "HTMLView",
            "description": "",
            "description_tooltip": null,
            "layout": "IPY_MODEL_1b9dc8813c324e5fb0017bcf3fbc7a0a",
            "placeholder": "​",
            "style": "IPY_MODEL_2bca47b4c7924022a1aa8119e824858b",
            "value": " 1.15k/1.15k [00:00&lt;00:00, 90.3kB/s]"
          }
        },
        "9b2bfe417716458983fa1e5527ebc1d8": {
          "model_module": "@jupyter-widgets/controls",
          "model_module_version": "1.5.0",
          "model_name": "DescriptionStyleModel",
          "state": {
            "_model_module": "@jupyter-widgets/controls",
            "_model_module_version": "1.5.0",
            "_model_name": "DescriptionStyleModel",
            "_view_count": null,
            "_view_module": "@jupyter-widgets/base",
            "_view_module_version": "1.2.0",
            "_view_name": "StyleView",
            "description_width": ""
          }
        },
        "9f5cc11877fe4afe98aa622b2d4693bc": {
          "model_module": "@jupyter-widgets/base",
          "model_module_version": "1.2.0",
          "model_name": "LayoutModel",
          "state": {
            "_model_module": "@jupyter-widgets/base",
            "_model_module_version": "1.2.0",
            "_model_name": "LayoutModel",
            "_view_count": null,
            "_view_module": "@jupyter-widgets/base",
            "_view_module_version": "1.2.0",
            "_view_name": "LayoutView",
            "align_content": null,
            "align_items": null,
            "align_self": null,
            "border": null,
            "bottom": null,
            "display": null,
            "flex": null,
            "flex_flow": null,
            "grid_area": null,
            "grid_auto_columns": null,
            "grid_auto_flow": null,
            "grid_auto_rows": null,
            "grid_column": null,
            "grid_gap": null,
            "grid_row": null,
            "grid_template_areas": null,
            "grid_template_columns": null,
            "grid_template_rows": null,
            "height": null,
            "justify_content": null,
            "justify_items": null,
            "left": null,
            "margin": null,
            "max_height": null,
            "max_width": null,
            "min_height": null,
            "min_width": null,
            "object_fit": null,
            "object_position": null,
            "order": null,
            "overflow": null,
            "overflow_x": null,
            "overflow_y": null,
            "padding": null,
            "right": null,
            "top": null,
            "visibility": null,
            "width": null
          }
        },
        "a03cf679581040c1b43f16321f7c2d58": {
          "model_module": "@jupyter-widgets/base",
          "model_module_version": "1.2.0",
          "model_name": "LayoutModel",
          "state": {
            "_model_module": "@jupyter-widgets/base",
            "_model_module_version": "1.2.0",
            "_model_name": "LayoutModel",
            "_view_count": null,
            "_view_module": "@jupyter-widgets/base",
            "_view_module_version": "1.2.0",
            "_view_name": "LayoutView",
            "align_content": null,
            "align_items": null,
            "align_self": null,
            "border": null,
            "bottom": null,
            "display": null,
            "flex": null,
            "flex_flow": null,
            "grid_area": null,
            "grid_auto_columns": null,
            "grid_auto_flow": null,
            "grid_auto_rows": null,
            "grid_column": null,
            "grid_gap": null,
            "grid_row": null,
            "grid_template_areas": null,
            "grid_template_columns": null,
            "grid_template_rows": null,
            "height": null,
            "justify_content": null,
            "justify_items": null,
            "left": null,
            "margin": null,
            "max_height": null,
            "max_width": null,
            "min_height": null,
            "min_width": null,
            "object_fit": null,
            "object_position": null,
            "order": null,
            "overflow": null,
            "overflow_x": null,
            "overflow_y": null,
            "padding": null,
            "right": null,
            "top": null,
            "visibility": null,
            "width": null
          }
        },
        "a1ad676e2c094646b19a5cffe011f4ff": {
          "model_module": "@jupyter-widgets/controls",
          "model_module_version": "1.5.0",
          "model_name": "HTMLModel",
          "state": {
            "_dom_classes": [],
            "_model_module": "@jupyter-widgets/controls",
            "_model_module_version": "1.5.0",
            "_model_name": "HTMLModel",
            "_view_count": null,
            "_view_module": "@jupyter-widgets/controls",
            "_view_module_version": "1.5.0",
            "_view_name": "HTMLView",
            "description": "",
            "description_tooltip": null,
            "layout": "IPY_MODEL_c080e72edc494cb1a3c2f98f8024c6ff",
            "placeholder": "​",
            "style": "IPY_MODEL_54bcaedb2a5c4dcdb2dbdc93dd527fe6",
            "value": "vocab.json: 100%"
          }
        },
        "a42a0f04a947400593878afb0b7d92e0": {
          "model_module": "@jupyter-widgets/base",
          "model_module_version": "1.2.0",
          "model_name": "LayoutModel",
          "state": {
            "_model_module": "@jupyter-widgets/base",
            "_model_module_version": "1.2.0",
            "_model_name": "LayoutModel",
            "_view_count": null,
            "_view_module": "@jupyter-widgets/base",
            "_view_module_version": "1.2.0",
            "_view_name": "LayoutView",
            "align_content": null,
            "align_items": null,
            "align_self": null,
            "border": null,
            "bottom": null,
            "display": null,
            "flex": null,
            "flex_flow": null,
            "grid_area": null,
            "grid_auto_columns": null,
            "grid_auto_flow": null,
            "grid_auto_rows": null,
            "grid_column": null,
            "grid_gap": null,
            "grid_row": null,
            "grid_template_areas": null,
            "grid_template_columns": null,
            "grid_template_rows": null,
            "height": null,
            "justify_content": null,
            "justify_items": null,
            "left": null,
            "margin": null,
            "max_height": null,
            "max_width": null,
            "min_height": null,
            "min_width": null,
            "object_fit": null,
            "object_position": null,
            "order": null,
            "overflow": null,
            "overflow_x": null,
            "overflow_y": null,
            "padding": null,
            "right": null,
            "top": null,
            "visibility": null,
            "width": null
          }
        },
        "abe99adc65a54b31bcc96ab2a9464dc4": {
          "model_module": "@jupyter-widgets/controls",
          "model_module_version": "1.5.0",
          "model_name": "FloatProgressModel",
          "state": {
            "_dom_classes": [],
            "_model_module": "@jupyter-widgets/controls",
            "_model_module_version": "1.5.0",
            "_model_name": "FloatProgressModel",
            "_view_count": null,
            "_view_module": "@jupyter-widgets/controls",
            "_view_module_version": "1.5.0",
            "_view_name": "ProgressView",
            "bar_style": "success",
            "description": "",
            "description_tooltip": null,
            "layout": "IPY_MODEL_a42a0f04a947400593878afb0b7d92e0",
            "max": 1783,
            "min": 0,
            "orientation": "horizontal",
            "style": "IPY_MODEL_83890815a7a0469ca826ca45685a098b",
            "value": 1783
          }
        },
        "c080e72edc494cb1a3c2f98f8024c6ff": {
          "model_module": "@jupyter-widgets/base",
          "model_module_version": "1.2.0",
          "model_name": "LayoutModel",
          "state": {
            "_model_module": "@jupyter-widgets/base",
            "_model_module_version": "1.2.0",
            "_model_name": "LayoutModel",
            "_view_count": null,
            "_view_module": "@jupyter-widgets/base",
            "_view_module_version": "1.2.0",
            "_view_name": "LayoutView",
            "align_content": null,
            "align_items": null,
            "align_self": null,
            "border": null,
            "bottom": null,
            "display": null,
            "flex": null,
            "flex_flow": null,
            "grid_area": null,
            "grid_auto_columns": null,
            "grid_auto_flow": null,
            "grid_auto_rows": null,
            "grid_column": null,
            "grid_gap": null,
            "grid_row": null,
            "grid_template_areas": null,
            "grid_template_columns": null,
            "grid_template_rows": null,
            "height": null,
            "justify_content": null,
            "justify_items": null,
            "left": null,
            "margin": null,
            "max_height": null,
            "max_width": null,
            "min_height": null,
            "min_width": null,
            "object_fit": null,
            "object_position": null,
            "order": null,
            "overflow": null,
            "overflow_x": null,
            "overflow_y": null,
            "padding": null,
            "right": null,
            "top": null,
            "visibility": null,
            "width": null
          }
        },
        "c225d5ad40aa4cec98dd76c91a7722c8": {
          "model_module": "@jupyter-widgets/controls",
          "model_module_version": "1.5.0",
          "model_name": "HBoxModel",
          "state": {
            "_dom_classes": [],
            "_model_module": "@jupyter-widgets/controls",
            "_model_module_version": "1.5.0",
            "_model_name": "HBoxModel",
            "_view_count": null,
            "_view_module": "@jupyter-widgets/controls",
            "_view_module_version": "1.5.0",
            "_view_name": "HBoxView",
            "box_style": "",
            "children": [
              "IPY_MODEL_197b36991c55479cb8fdb2b49e9fabdd",
              "IPY_MODEL_852200334fe34b6f9ef333ab4c0406fe",
              "IPY_MODEL_8bee7b51b0914a94b43b54b29652bffd"
            ],
            "layout": "IPY_MODEL_3e6cefc9ec2a4503aa20c5d6759c40d3"
          }
        },
        "c4915007da354c6ebf5561a9b580765f": {
          "model_module": "@jupyter-widgets/base",
          "model_module_version": "1.2.0",
          "model_name": "LayoutModel",
          "state": {
            "_model_module": "@jupyter-widgets/base",
            "_model_module_version": "1.2.0",
            "_model_name": "LayoutModel",
            "_view_count": null,
            "_view_module": "@jupyter-widgets/base",
            "_view_module_version": "1.2.0",
            "_view_name": "LayoutView",
            "align_content": null,
            "align_items": null,
            "align_self": null,
            "border": null,
            "bottom": null,
            "display": null,
            "flex": null,
            "flex_flow": null,
            "grid_area": null,
            "grid_auto_columns": null,
            "grid_auto_flow": null,
            "grid_auto_rows": null,
            "grid_column": null,
            "grid_gap": null,
            "grid_row": null,
            "grid_template_areas": null,
            "grid_template_columns": null,
            "grid_template_rows": null,
            "height": null,
            "justify_content": null,
            "justify_items": null,
            "left": null,
            "margin": null,
            "max_height": null,
            "max_width": null,
            "min_height": null,
            "min_width": null,
            "object_fit": null,
            "object_position": null,
            "order": null,
            "overflow": null,
            "overflow_x": null,
            "overflow_y": null,
            "padding": null,
            "right": null,
            "top": null,
            "visibility": null,
            "width": null
          }
        },
        "c4e3b1c0c98e4a1eb9232fddd3f023ab": {
          "model_module": "@jupyter-widgets/base",
          "model_module_version": "1.2.0",
          "model_name": "LayoutModel",
          "state": {
            "_model_module": "@jupyter-widgets/base",
            "_model_module_version": "1.2.0",
            "_model_name": "LayoutModel",
            "_view_count": null,
            "_view_module": "@jupyter-widgets/base",
            "_view_module_version": "1.2.0",
            "_view_name": "LayoutView",
            "align_content": null,
            "align_items": null,
            "align_self": null,
            "border": null,
            "bottom": null,
            "display": null,
            "flex": null,
            "flex_flow": null,
            "grid_area": null,
            "grid_auto_columns": null,
            "grid_auto_flow": null,
            "grid_auto_rows": null,
            "grid_column": null,
            "grid_gap": null,
            "grid_row": null,
            "grid_template_areas": null,
            "grid_template_columns": null,
            "grid_template_rows": null,
            "height": null,
            "justify_content": null,
            "justify_items": null,
            "left": null,
            "margin": null,
            "max_height": null,
            "max_width": null,
            "min_height": null,
            "min_width": null,
            "object_fit": null,
            "object_position": null,
            "order": null,
            "overflow": null,
            "overflow_x": null,
            "overflow_y": null,
            "padding": null,
            "right": null,
            "top": null,
            "visibility": null,
            "width": null
          }
        },
        "c53e1112e4af492abd909736924cdf38": {
          "model_module": "@jupyter-widgets/controls",
          "model_module_version": "1.5.0",
          "model_name": "DescriptionStyleModel",
          "state": {
            "_model_module": "@jupyter-widgets/controls",
            "_model_module_version": "1.5.0",
            "_model_name": "DescriptionStyleModel",
            "_view_count": null,
            "_view_module": "@jupyter-widgets/base",
            "_view_module_version": "1.2.0",
            "_view_name": "StyleView",
            "description_width": ""
          }
        },
        "c749ace1a2d84b40b2eff2ae3cb6fd12": {
          "model_module": "@jupyter-widgets/controls",
          "model_module_version": "1.5.0",
          "model_name": "DescriptionStyleModel",
          "state": {
            "_model_module": "@jupyter-widgets/controls",
            "_model_module_version": "1.5.0",
            "_model_name": "DescriptionStyleModel",
            "_view_count": null,
            "_view_module": "@jupyter-widgets/base",
            "_view_module_version": "1.2.0",
            "_view_name": "StyleView",
            "description_width": ""
          }
        },
        "cd7a3f53732145df81249a5aba6dd9e2": {
          "model_module": "@jupyter-widgets/controls",
          "model_module_version": "1.5.0",
          "model_name": "DescriptionStyleModel",
          "state": {
            "_model_module": "@jupyter-widgets/controls",
            "_model_module_version": "1.5.0",
            "_model_name": "DescriptionStyleModel",
            "_view_count": null,
            "_view_module": "@jupyter-widgets/base",
            "_view_module_version": "1.2.0",
            "_view_name": "StyleView",
            "description_width": ""
          }
        },
        "cf8d6b2c15094288b8ec3950fca9520f": {
          "model_module": "@jupyter-widgets/controls",
          "model_module_version": "1.5.0",
          "model_name": "HTMLModel",
          "state": {
            "_dom_classes": [],
            "_model_module": "@jupyter-widgets/controls",
            "_model_module_version": "1.5.0",
            "_model_name": "HTMLModel",
            "_view_count": null,
            "_view_module": "@jupyter-widgets/controls",
            "_view_module_version": "1.5.0",
            "_view_name": "HTMLView",
            "description": "",
            "description_tooltip": null,
            "layout": "IPY_MODEL_e8e1e3b283f94c67807adadddac3bac1",
            "placeholder": "​",
            "style": "IPY_MODEL_974b8f44f03e4708b0d06f86b689868f",
            "value": " 456k/456k [00:00&lt;00:00, 1.05MB/s]"
          }
        },
        "d2954402486a4bafa3f98f747ba8a98b": {
          "model_module": "@jupyter-widgets/controls",
          "model_module_version": "1.5.0",
          "model_name": "FloatProgressModel",
          "state": {
            "_dom_classes": [],
            "_model_module": "@jupyter-widgets/controls",
            "_model_module_version": "1.5.0",
            "_model_name": "FloatProgressModel",
            "_view_count": null,
            "_view_module": "@jupyter-widgets/controls",
            "_view_module_version": "1.5.0",
            "_view_name": "ProgressView",
            "bar_style": "success",
            "description": "",
            "description_tooltip": null,
            "layout": "IPY_MODEL_ff87a899791045c3b2e5f26004f9454b",
            "max": 898822,
            "min": 0,
            "orientation": "horizontal",
            "style": "IPY_MODEL_1f534f118edf4a6eb2624abda31f4ff7",
            "value": 898822
          }
        },
        "d4f91bd9f94d4793b54999bfca62b9b4": {
          "model_module": "@jupyter-widgets/base",
          "model_module_version": "1.2.0",
          "model_name": "LayoutModel",
          "state": {
            "_model_module": "@jupyter-widgets/base",
            "_model_module_version": "1.2.0",
            "_model_name": "LayoutModel",
            "_view_count": null,
            "_view_module": "@jupyter-widgets/base",
            "_view_module_version": "1.2.0",
            "_view_name": "LayoutView",
            "align_content": null,
            "align_items": null,
            "align_self": null,
            "border": null,
            "bottom": null,
            "display": null,
            "flex": null,
            "flex_flow": null,
            "grid_area": null,
            "grid_auto_columns": null,
            "grid_auto_flow": null,
            "grid_auto_rows": null,
            "grid_column": null,
            "grid_gap": null,
            "grid_row": null,
            "grid_template_areas": null,
            "grid_template_columns": null,
            "grid_template_rows": null,
            "height": null,
            "justify_content": null,
            "justify_items": null,
            "left": null,
            "margin": null,
            "max_height": null,
            "max_width": null,
            "min_height": null,
            "min_width": null,
            "object_fit": null,
            "object_position": null,
            "order": null,
            "overflow": null,
            "overflow_x": null,
            "overflow_y": null,
            "padding": null,
            "right": null,
            "top": null,
            "visibility": null,
            "width": null
          }
        },
        "d6454f36fbc649b59f8e754caeb01869": {
          "model_module": "@jupyter-widgets/base",
          "model_module_version": "1.2.0",
          "model_name": "LayoutModel",
          "state": {
            "_model_module": "@jupyter-widgets/base",
            "_model_module_version": "1.2.0",
            "_model_name": "LayoutModel",
            "_view_count": null,
            "_view_module": "@jupyter-widgets/base",
            "_view_module_version": "1.2.0",
            "_view_name": "LayoutView",
            "align_content": null,
            "align_items": null,
            "align_self": null,
            "border": null,
            "bottom": null,
            "display": null,
            "flex": null,
            "flex_flow": null,
            "grid_area": null,
            "grid_auto_columns": null,
            "grid_auto_flow": null,
            "grid_auto_rows": null,
            "grid_column": null,
            "grid_gap": null,
            "grid_row": null,
            "grid_template_areas": null,
            "grid_template_columns": null,
            "grid_template_rows": null,
            "height": null,
            "justify_content": null,
            "justify_items": null,
            "left": null,
            "margin": null,
            "max_height": null,
            "max_width": null,
            "min_height": null,
            "min_width": null,
            "object_fit": null,
            "object_position": null,
            "order": null,
            "overflow": null,
            "overflow_x": null,
            "overflow_y": null,
            "padding": null,
            "right": null,
            "top": null,
            "visibility": null,
            "width": null
          }
        },
        "dd18dc36cf334d4b9d6b167e764add2a": {
          "model_module": "@jupyter-widgets/base",
          "model_module_version": "1.2.0",
          "model_name": "LayoutModel",
          "state": {
            "_model_module": "@jupyter-widgets/base",
            "_model_module_version": "1.2.0",
            "_model_name": "LayoutModel",
            "_view_count": null,
            "_view_module": "@jupyter-widgets/base",
            "_view_module_version": "1.2.0",
            "_view_name": "LayoutView",
            "align_content": null,
            "align_items": null,
            "align_self": null,
            "border": null,
            "bottom": null,
            "display": null,
            "flex": null,
            "flex_flow": null,
            "grid_area": null,
            "grid_auto_columns": null,
            "grid_auto_flow": null,
            "grid_auto_rows": null,
            "grid_column": null,
            "grid_gap": null,
            "grid_row": null,
            "grid_template_areas": null,
            "grid_template_columns": null,
            "grid_template_rows": null,
            "height": null,
            "justify_content": null,
            "justify_items": null,
            "left": null,
            "margin": null,
            "max_height": null,
            "max_width": null,
            "min_height": null,
            "min_width": null,
            "object_fit": null,
            "object_position": null,
            "order": null,
            "overflow": null,
            "overflow_x": null,
            "overflow_y": null,
            "padding": null,
            "right": null,
            "top": null,
            "visibility": null,
            "width": null
          }
        },
        "e5853a89e43e4b6cab4a3887f4a28fc6": {
          "model_module": "@jupyter-widgets/controls",
          "model_module_version": "1.5.0",
          "model_name": "ProgressStyleModel",
          "state": {
            "_model_module": "@jupyter-widgets/controls",
            "_model_module_version": "1.5.0",
            "_model_name": "ProgressStyleModel",
            "_view_count": null,
            "_view_module": "@jupyter-widgets/base",
            "_view_module_version": "1.2.0",
            "_view_name": "StyleView",
            "bar_color": null,
            "description_width": ""
          }
        },
        "e8e1e3b283f94c67807adadddac3bac1": {
          "model_module": "@jupyter-widgets/base",
          "model_module_version": "1.2.0",
          "model_name": "LayoutModel",
          "state": {
            "_model_module": "@jupyter-widgets/base",
            "_model_module_version": "1.2.0",
            "_model_name": "LayoutModel",
            "_view_count": null,
            "_view_module": "@jupyter-widgets/base",
            "_view_module_version": "1.2.0",
            "_view_name": "LayoutView",
            "align_content": null,
            "align_items": null,
            "align_self": null,
            "border": null,
            "bottom": null,
            "display": null,
            "flex": null,
            "flex_flow": null,
            "grid_area": null,
            "grid_auto_columns": null,
            "grid_auto_flow": null,
            "grid_auto_rows": null,
            "grid_column": null,
            "grid_gap": null,
            "grid_row": null,
            "grid_template_areas": null,
            "grid_template_columns": null,
            "grid_template_rows": null,
            "height": null,
            "justify_content": null,
            "justify_items": null,
            "left": null,
            "margin": null,
            "max_height": null,
            "max_width": null,
            "min_height": null,
            "min_width": null,
            "object_fit": null,
            "object_position": null,
            "order": null,
            "overflow": null,
            "overflow_x": null,
            "overflow_y": null,
            "padding": null,
            "right": null,
            "top": null,
            "visibility": null,
            "width": null
          }
        },
        "e9914e78cd0e4f6cbf88c97f322d8b45": {
          "model_module": "@jupyter-widgets/base",
          "model_module_version": "1.2.0",
          "model_name": "LayoutModel",
          "state": {
            "_model_module": "@jupyter-widgets/base",
            "_model_module_version": "1.2.0",
            "_model_name": "LayoutModel",
            "_view_count": null,
            "_view_module": "@jupyter-widgets/base",
            "_view_module_version": "1.2.0",
            "_view_name": "LayoutView",
            "align_content": null,
            "align_items": null,
            "align_self": null,
            "border": null,
            "bottom": null,
            "display": null,
            "flex": null,
            "flex_flow": null,
            "grid_area": null,
            "grid_auto_columns": null,
            "grid_auto_flow": null,
            "grid_auto_rows": null,
            "grid_column": null,
            "grid_gap": null,
            "grid_row": null,
            "grid_template_areas": null,
            "grid_template_columns": null,
            "grid_template_rows": null,
            "height": null,
            "justify_content": null,
            "justify_items": null,
            "left": null,
            "margin": null,
            "max_height": null,
            "max_width": null,
            "min_height": null,
            "min_width": null,
            "object_fit": null,
            "object_position": null,
            "order": null,
            "overflow": null,
            "overflow_x": null,
            "overflow_y": null,
            "padding": null,
            "right": null,
            "top": null,
            "visibility": null,
            "width": null
          }
        },
        "eae00e4954134e56b019ca5fca0bbec7": {
          "model_module": "@jupyter-widgets/controls",
          "model_module_version": "1.5.0",
          "model_name": "DescriptionStyleModel",
          "state": {
            "_model_module": "@jupyter-widgets/controls",
            "_model_module_version": "1.5.0",
            "_model_name": "DescriptionStyleModel",
            "_view_count": null,
            "_view_module": "@jupyter-widgets/base",
            "_view_module_version": "1.2.0",
            "_view_name": "StyleView",
            "description_width": ""
          }
        },
        "f1b4447030ee4d6391621173b5e1ebd6": {
          "model_module": "@jupyter-widgets/controls",
          "model_module_version": "1.5.0",
          "model_name": "HTMLModel",
          "state": {
            "_dom_classes": [],
            "_model_module": "@jupyter-widgets/controls",
            "_model_module_version": "1.5.0",
            "_model_name": "HTMLModel",
            "_view_count": null,
            "_view_module": "@jupyter-widgets/controls",
            "_view_module_version": "1.5.0",
            "_view_name": "HTMLView",
            "description": "",
            "description_tooltip": null,
            "layout": "IPY_MODEL_96a580dc5f1c463a8a4f8091f68052da",
            "placeholder": "​",
            "style": "IPY_MODEL_4adceee476764564a3a26eabd19fda39",
            "value": "tokenizer.json: 100%"
          }
        },
        "f3f6c0a93726474092a670eab407c142": {
          "model_module": "@jupyter-widgets/controls",
          "model_module_version": "1.5.0",
          "model_name": "DescriptionStyleModel",
          "state": {
            "_model_module": "@jupyter-widgets/controls",
            "_model_module_version": "1.5.0",
            "_model_name": "DescriptionStyleModel",
            "_view_count": null,
            "_view_module": "@jupyter-widgets/base",
            "_view_module_version": "1.2.0",
            "_view_name": "StyleView",
            "description_width": ""
          }
        },
        "fcdf8b3902f34ce4940400fed9c80efb": {
          "model_module": "@jupyter-widgets/controls",
          "model_module_version": "1.5.0",
          "model_name": "DescriptionStyleModel",
          "state": {
            "_model_module": "@jupyter-widgets/controls",
            "_model_module_version": "1.5.0",
            "_model_name": "DescriptionStyleModel",
            "_view_count": null,
            "_view_module": "@jupyter-widgets/base",
            "_view_module_version": "1.2.0",
            "_view_name": "StyleView",
            "description_width": ""
          }
        },
        "ff87a899791045c3b2e5f26004f9454b": {
          "model_module": "@jupyter-widgets/base",
          "model_module_version": "1.2.0",
          "model_name": "LayoutModel",
          "state": {
            "_model_module": "@jupyter-widgets/base",
            "_model_module_version": "1.2.0",
            "_model_name": "LayoutModel",
            "_view_count": null,
            "_view_module": "@jupyter-widgets/base",
            "_view_module_version": "1.2.0",
            "_view_name": "LayoutView",
            "align_content": null,
            "align_items": null,
            "align_self": null,
            "border": null,
            "bottom": null,
            "display": null,
            "flex": null,
            "flex_flow": null,
            "grid_area": null,
            "grid_auto_columns": null,
            "grid_auto_flow": null,
            "grid_auto_rows": null,
            "grid_column": null,
            "grid_gap": null,
            "grid_row": null,
            "grid_template_areas": null,
            "grid_template_columns": null,
            "grid_template_rows": null,
            "height": null,
            "justify_content": null,
            "justify_items": null,
            "left": null,
            "margin": null,
            "max_height": null,
            "max_width": null,
            "min_height": null,
            "min_width": null,
            "object_fit": null,
            "object_position": null,
            "order": null,
            "overflow": null,
            "overflow_x": null,
            "overflow_y": null,
            "padding": null,
            "right": null,
            "top": null,
            "visibility": null,
            "width": null
          }
        },
        "ff8a7a6ff5c44e30b14705a43538ea2b": {
          "model_module": "@jupyter-widgets/controls",
          "model_module_version": "1.5.0",
          "model_name": "FloatProgressModel",
          "state": {
            "_dom_classes": [],
            "_model_module": "@jupyter-widgets/controls",
            "_model_module_version": "1.5.0",
            "_model_name": "FloatProgressModel",
            "_view_count": null,
            "_view_module": "@jupyter-widgets/controls",
            "_view_module_version": "1.5.0",
            "_view_name": "ProgressView",
            "bar_style": "success",
            "description": "",
            "description_tooltip": null,
            "layout": "IPY_MODEL_8906951cd29c4b7c97f7c58722f336c8",
            "max": 456318,
            "min": 0,
            "orientation": "horizontal",
            "style": "IPY_MODEL_e5853a89e43e4b6cab4a3887f4a28fc6",
            "value": 456318
          }
        }
      }
    }
  },
  "nbformat": 4,
  "nbformat_minor": 0
}
